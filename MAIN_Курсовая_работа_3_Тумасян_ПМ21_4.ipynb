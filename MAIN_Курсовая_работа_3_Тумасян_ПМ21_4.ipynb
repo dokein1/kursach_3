{
  "nbformat": 4,
  "nbformat_minor": 0,
  "metadata": {
    "colab": {
      "provenance": [],
      "toc_visible": true
    },
    "kernelspec": {
      "name": "python3",
      "display_name": "Python 3"
    },
    "language_info": {
      "name": "python"
    },
    "widgets": {
      "application/vnd.jupyter.widget-state+json": {
        "a1e843db338b43329804636539f8dfa1": {
          "model_module": "@jupyter-widgets/controls",
          "model_name": "HBoxModel",
          "model_module_version": "1.5.0",
          "state": {
            "_dom_classes": [],
            "_model_module": "@jupyter-widgets/controls",
            "_model_module_version": "1.5.0",
            "_model_name": "HBoxModel",
            "_view_count": null,
            "_view_module": "@jupyter-widgets/controls",
            "_view_module_version": "1.5.0",
            "_view_name": "HBoxView",
            "box_style": "",
            "children": [
              "IPY_MODEL_37712e8331884e469eb32c2278c0c216",
              "IPY_MODEL_04c1111099304d498c21d4297657125e",
              "IPY_MODEL_00b71f2b1b76454eb70350d5fd2623ec"
            ],
            "layout": "IPY_MODEL_53aff16e19a142609bb01de67aa94003"
          }
        },
        "37712e8331884e469eb32c2278c0c216": {
          "model_module": "@jupyter-widgets/controls",
          "model_name": "HTMLModel",
          "model_module_version": "1.5.0",
          "state": {
            "_dom_classes": [],
            "_model_module": "@jupyter-widgets/controls",
            "_model_module_version": "1.5.0",
            "_model_name": "HTMLModel",
            "_view_count": null,
            "_view_module": "@jupyter-widgets/controls",
            "_view_module_version": "1.5.0",
            "_view_name": "HTMLView",
            "description": "",
            "description_tooltip": null,
            "layout": "IPY_MODEL_714ccf3731384a2dbc2ca6e67b17cdaf",
            "placeholder": "​",
            "style": "IPY_MODEL_b5dc14b9765b487ab60182c90441d5d3",
            "value": "Computing transition probabilities: 100%"
          }
        },
        "04c1111099304d498c21d4297657125e": {
          "model_module": "@jupyter-widgets/controls",
          "model_name": "FloatProgressModel",
          "model_module_version": "1.5.0",
          "state": {
            "_dom_classes": [],
            "_model_module": "@jupyter-widgets/controls",
            "_model_module_version": "1.5.0",
            "_model_name": "FloatProgressModel",
            "_view_count": null,
            "_view_module": "@jupyter-widgets/controls",
            "_view_module_version": "1.5.0",
            "_view_name": "ProgressView",
            "bar_style": "success",
            "description": "",
            "description_tooltip": null,
            "layout": "IPY_MODEL_3f5dc2a8d57445879059a7e7ddc5225f",
            "max": 4039,
            "min": 0,
            "orientation": "horizontal",
            "style": "IPY_MODEL_6581da92af834779bfece15123986b99",
            "value": 4039
          }
        },
        "00b71f2b1b76454eb70350d5fd2623ec": {
          "model_module": "@jupyter-widgets/controls",
          "model_name": "HTMLModel",
          "model_module_version": "1.5.0",
          "state": {
            "_dom_classes": [],
            "_model_module": "@jupyter-widgets/controls",
            "_model_module_version": "1.5.0",
            "_model_name": "HTMLModel",
            "_view_count": null,
            "_view_module": "@jupyter-widgets/controls",
            "_view_module_version": "1.5.0",
            "_view_name": "HTMLView",
            "description": "",
            "description_tooltip": null,
            "layout": "IPY_MODEL_aee40d96e52441e8b8386e2079cb1425",
            "placeholder": "​",
            "style": "IPY_MODEL_a2f98add693f4614bdafb6001c6c0784",
            "value": " 4039/4039 [01:30&lt;00:00, 64.45it/s]"
          }
        },
        "53aff16e19a142609bb01de67aa94003": {
          "model_module": "@jupyter-widgets/base",
          "model_name": "LayoutModel",
          "model_module_version": "1.2.0",
          "state": {
            "_model_module": "@jupyter-widgets/base",
            "_model_module_version": "1.2.0",
            "_model_name": "LayoutModel",
            "_view_count": null,
            "_view_module": "@jupyter-widgets/base",
            "_view_module_version": "1.2.0",
            "_view_name": "LayoutView",
            "align_content": null,
            "align_items": null,
            "align_self": null,
            "border": null,
            "bottom": null,
            "display": null,
            "flex": null,
            "flex_flow": null,
            "grid_area": null,
            "grid_auto_columns": null,
            "grid_auto_flow": null,
            "grid_auto_rows": null,
            "grid_column": null,
            "grid_gap": null,
            "grid_row": null,
            "grid_template_areas": null,
            "grid_template_columns": null,
            "grid_template_rows": null,
            "height": null,
            "justify_content": null,
            "justify_items": null,
            "left": null,
            "margin": null,
            "max_height": null,
            "max_width": null,
            "min_height": null,
            "min_width": null,
            "object_fit": null,
            "object_position": null,
            "order": null,
            "overflow": null,
            "overflow_x": null,
            "overflow_y": null,
            "padding": null,
            "right": null,
            "top": null,
            "visibility": null,
            "width": null
          }
        },
        "714ccf3731384a2dbc2ca6e67b17cdaf": {
          "model_module": "@jupyter-widgets/base",
          "model_name": "LayoutModel",
          "model_module_version": "1.2.0",
          "state": {
            "_model_module": "@jupyter-widgets/base",
            "_model_module_version": "1.2.0",
            "_model_name": "LayoutModel",
            "_view_count": null,
            "_view_module": "@jupyter-widgets/base",
            "_view_module_version": "1.2.0",
            "_view_name": "LayoutView",
            "align_content": null,
            "align_items": null,
            "align_self": null,
            "border": null,
            "bottom": null,
            "display": null,
            "flex": null,
            "flex_flow": null,
            "grid_area": null,
            "grid_auto_columns": null,
            "grid_auto_flow": null,
            "grid_auto_rows": null,
            "grid_column": null,
            "grid_gap": null,
            "grid_row": null,
            "grid_template_areas": null,
            "grid_template_columns": null,
            "grid_template_rows": null,
            "height": null,
            "justify_content": null,
            "justify_items": null,
            "left": null,
            "margin": null,
            "max_height": null,
            "max_width": null,
            "min_height": null,
            "min_width": null,
            "object_fit": null,
            "object_position": null,
            "order": null,
            "overflow": null,
            "overflow_x": null,
            "overflow_y": null,
            "padding": null,
            "right": null,
            "top": null,
            "visibility": null,
            "width": null
          }
        },
        "b5dc14b9765b487ab60182c90441d5d3": {
          "model_module": "@jupyter-widgets/controls",
          "model_name": "DescriptionStyleModel",
          "model_module_version": "1.5.0",
          "state": {
            "_model_module": "@jupyter-widgets/controls",
            "_model_module_version": "1.5.0",
            "_model_name": "DescriptionStyleModel",
            "_view_count": null,
            "_view_module": "@jupyter-widgets/base",
            "_view_module_version": "1.2.0",
            "_view_name": "StyleView",
            "description_width": ""
          }
        },
        "3f5dc2a8d57445879059a7e7ddc5225f": {
          "model_module": "@jupyter-widgets/base",
          "model_name": "LayoutModel",
          "model_module_version": "1.2.0",
          "state": {
            "_model_module": "@jupyter-widgets/base",
            "_model_module_version": "1.2.0",
            "_model_name": "LayoutModel",
            "_view_count": null,
            "_view_module": "@jupyter-widgets/base",
            "_view_module_version": "1.2.0",
            "_view_name": "LayoutView",
            "align_content": null,
            "align_items": null,
            "align_self": null,
            "border": null,
            "bottom": null,
            "display": null,
            "flex": null,
            "flex_flow": null,
            "grid_area": null,
            "grid_auto_columns": null,
            "grid_auto_flow": null,
            "grid_auto_rows": null,
            "grid_column": null,
            "grid_gap": null,
            "grid_row": null,
            "grid_template_areas": null,
            "grid_template_columns": null,
            "grid_template_rows": null,
            "height": null,
            "justify_content": null,
            "justify_items": null,
            "left": null,
            "margin": null,
            "max_height": null,
            "max_width": null,
            "min_height": null,
            "min_width": null,
            "object_fit": null,
            "object_position": null,
            "order": null,
            "overflow": null,
            "overflow_x": null,
            "overflow_y": null,
            "padding": null,
            "right": null,
            "top": null,
            "visibility": null,
            "width": null
          }
        },
        "6581da92af834779bfece15123986b99": {
          "model_module": "@jupyter-widgets/controls",
          "model_name": "ProgressStyleModel",
          "model_module_version": "1.5.0",
          "state": {
            "_model_module": "@jupyter-widgets/controls",
            "_model_module_version": "1.5.0",
            "_model_name": "ProgressStyleModel",
            "_view_count": null,
            "_view_module": "@jupyter-widgets/base",
            "_view_module_version": "1.2.0",
            "_view_name": "StyleView",
            "bar_color": null,
            "description_width": ""
          }
        },
        "aee40d96e52441e8b8386e2079cb1425": {
          "model_module": "@jupyter-widgets/base",
          "model_name": "LayoutModel",
          "model_module_version": "1.2.0",
          "state": {
            "_model_module": "@jupyter-widgets/base",
            "_model_module_version": "1.2.0",
            "_model_name": "LayoutModel",
            "_view_count": null,
            "_view_module": "@jupyter-widgets/base",
            "_view_module_version": "1.2.0",
            "_view_name": "LayoutView",
            "align_content": null,
            "align_items": null,
            "align_self": null,
            "border": null,
            "bottom": null,
            "display": null,
            "flex": null,
            "flex_flow": null,
            "grid_area": null,
            "grid_auto_columns": null,
            "grid_auto_flow": null,
            "grid_auto_rows": null,
            "grid_column": null,
            "grid_gap": null,
            "grid_row": null,
            "grid_template_areas": null,
            "grid_template_columns": null,
            "grid_template_rows": null,
            "height": null,
            "justify_content": null,
            "justify_items": null,
            "left": null,
            "margin": null,
            "max_height": null,
            "max_width": null,
            "min_height": null,
            "min_width": null,
            "object_fit": null,
            "object_position": null,
            "order": null,
            "overflow": null,
            "overflow_x": null,
            "overflow_y": null,
            "padding": null,
            "right": null,
            "top": null,
            "visibility": null,
            "width": null
          }
        },
        "a2f98add693f4614bdafb6001c6c0784": {
          "model_module": "@jupyter-widgets/controls",
          "model_name": "DescriptionStyleModel",
          "model_module_version": "1.5.0",
          "state": {
            "_model_module": "@jupyter-widgets/controls",
            "_model_module_version": "1.5.0",
            "_model_name": "DescriptionStyleModel",
            "_view_count": null,
            "_view_module": "@jupyter-widgets/base",
            "_view_module_version": "1.2.0",
            "_view_name": "StyleView",
            "description_width": ""
          }
        },
        "7631a01d51134f5eab0d4b6142233d31": {
          "model_module": "@jupyter-widgets/controls",
          "model_name": "HBoxModel",
          "model_module_version": "1.5.0",
          "state": {
            "_dom_classes": [],
            "_model_module": "@jupyter-widgets/controls",
            "_model_module_version": "1.5.0",
            "_model_name": "HBoxModel",
            "_view_count": null,
            "_view_module": "@jupyter-widgets/controls",
            "_view_module_version": "1.5.0",
            "_view_name": "HBoxView",
            "box_style": "",
            "children": [
              "IPY_MODEL_1096b511cce84048a15dd7a8915a0da2",
              "IPY_MODEL_4295b4e559f1446985f750e166c930c3",
              "IPY_MODEL_82d8ed97f2a84d6b871938c2b5ad5957"
            ],
            "layout": "IPY_MODEL_57b2f48a9a75423985a029485c9dc4ec"
          }
        },
        "1096b511cce84048a15dd7a8915a0da2": {
          "model_module": "@jupyter-widgets/controls",
          "model_name": "HTMLModel",
          "model_module_version": "1.5.0",
          "state": {
            "_dom_classes": [],
            "_model_module": "@jupyter-widgets/controls",
            "_model_module_version": "1.5.0",
            "_model_name": "HTMLModel",
            "_view_count": null,
            "_view_module": "@jupyter-widgets/controls",
            "_view_module_version": "1.5.0",
            "_view_name": "HTMLView",
            "description": "",
            "description_tooltip": null,
            "layout": "IPY_MODEL_f3dccaafe4c84cf7a44db55ce2ad0774",
            "placeholder": "​",
            "style": "IPY_MODEL_403a51e311d046f8be8beeae50d5da2b",
            "value": "Computing transition probabilities: 100%"
          }
        },
        "4295b4e559f1446985f750e166c930c3": {
          "model_module": "@jupyter-widgets/controls",
          "model_name": "FloatProgressModel",
          "model_module_version": "1.5.0",
          "state": {
            "_dom_classes": [],
            "_model_module": "@jupyter-widgets/controls",
            "_model_module_version": "1.5.0",
            "_model_name": "FloatProgressModel",
            "_view_count": null,
            "_view_module": "@jupyter-widgets/controls",
            "_view_module_version": "1.5.0",
            "_view_name": "ProgressView",
            "bar_style": "success",
            "description": "",
            "description_tooltip": null,
            "layout": "IPY_MODEL_251f448917734bcf8bd3433c3e32b8b4",
            "max": 4039,
            "min": 0,
            "orientation": "horizontal",
            "style": "IPY_MODEL_b27d2ffa942e4c949944cd20b948372e",
            "value": 4039
          }
        },
        "82d8ed97f2a84d6b871938c2b5ad5957": {
          "model_module": "@jupyter-widgets/controls",
          "model_name": "HTMLModel",
          "model_module_version": "1.5.0",
          "state": {
            "_dom_classes": [],
            "_model_module": "@jupyter-widgets/controls",
            "_model_module_version": "1.5.0",
            "_model_name": "HTMLModel",
            "_view_count": null,
            "_view_module": "@jupyter-widgets/controls",
            "_view_module_version": "1.5.0",
            "_view_name": "HTMLView",
            "description": "",
            "description_tooltip": null,
            "layout": "IPY_MODEL_793c52fcb5b348369491da2ba30d2d7b",
            "placeholder": "​",
            "style": "IPY_MODEL_4fbd0ecc4aaa4bf1aa874404b589c116",
            "value": " 4039/4039 [01:22&lt;00:00, 59.93it/s]"
          }
        },
        "57b2f48a9a75423985a029485c9dc4ec": {
          "model_module": "@jupyter-widgets/base",
          "model_name": "LayoutModel",
          "model_module_version": "1.2.0",
          "state": {
            "_model_module": "@jupyter-widgets/base",
            "_model_module_version": "1.2.0",
            "_model_name": "LayoutModel",
            "_view_count": null,
            "_view_module": "@jupyter-widgets/base",
            "_view_module_version": "1.2.0",
            "_view_name": "LayoutView",
            "align_content": null,
            "align_items": null,
            "align_self": null,
            "border": null,
            "bottom": null,
            "display": null,
            "flex": null,
            "flex_flow": null,
            "grid_area": null,
            "grid_auto_columns": null,
            "grid_auto_flow": null,
            "grid_auto_rows": null,
            "grid_column": null,
            "grid_gap": null,
            "grid_row": null,
            "grid_template_areas": null,
            "grid_template_columns": null,
            "grid_template_rows": null,
            "height": null,
            "justify_content": null,
            "justify_items": null,
            "left": null,
            "margin": null,
            "max_height": null,
            "max_width": null,
            "min_height": null,
            "min_width": null,
            "object_fit": null,
            "object_position": null,
            "order": null,
            "overflow": null,
            "overflow_x": null,
            "overflow_y": null,
            "padding": null,
            "right": null,
            "top": null,
            "visibility": null,
            "width": null
          }
        },
        "f3dccaafe4c84cf7a44db55ce2ad0774": {
          "model_module": "@jupyter-widgets/base",
          "model_name": "LayoutModel",
          "model_module_version": "1.2.0",
          "state": {
            "_model_module": "@jupyter-widgets/base",
            "_model_module_version": "1.2.0",
            "_model_name": "LayoutModel",
            "_view_count": null,
            "_view_module": "@jupyter-widgets/base",
            "_view_module_version": "1.2.0",
            "_view_name": "LayoutView",
            "align_content": null,
            "align_items": null,
            "align_self": null,
            "border": null,
            "bottom": null,
            "display": null,
            "flex": null,
            "flex_flow": null,
            "grid_area": null,
            "grid_auto_columns": null,
            "grid_auto_flow": null,
            "grid_auto_rows": null,
            "grid_column": null,
            "grid_gap": null,
            "grid_row": null,
            "grid_template_areas": null,
            "grid_template_columns": null,
            "grid_template_rows": null,
            "height": null,
            "justify_content": null,
            "justify_items": null,
            "left": null,
            "margin": null,
            "max_height": null,
            "max_width": null,
            "min_height": null,
            "min_width": null,
            "object_fit": null,
            "object_position": null,
            "order": null,
            "overflow": null,
            "overflow_x": null,
            "overflow_y": null,
            "padding": null,
            "right": null,
            "top": null,
            "visibility": null,
            "width": null
          }
        },
        "403a51e311d046f8be8beeae50d5da2b": {
          "model_module": "@jupyter-widgets/controls",
          "model_name": "DescriptionStyleModel",
          "model_module_version": "1.5.0",
          "state": {
            "_model_module": "@jupyter-widgets/controls",
            "_model_module_version": "1.5.0",
            "_model_name": "DescriptionStyleModel",
            "_view_count": null,
            "_view_module": "@jupyter-widgets/base",
            "_view_module_version": "1.2.0",
            "_view_name": "StyleView",
            "description_width": ""
          }
        },
        "251f448917734bcf8bd3433c3e32b8b4": {
          "model_module": "@jupyter-widgets/base",
          "model_name": "LayoutModel",
          "model_module_version": "1.2.0",
          "state": {
            "_model_module": "@jupyter-widgets/base",
            "_model_module_version": "1.2.0",
            "_model_name": "LayoutModel",
            "_view_count": null,
            "_view_module": "@jupyter-widgets/base",
            "_view_module_version": "1.2.0",
            "_view_name": "LayoutView",
            "align_content": null,
            "align_items": null,
            "align_self": null,
            "border": null,
            "bottom": null,
            "display": null,
            "flex": null,
            "flex_flow": null,
            "grid_area": null,
            "grid_auto_columns": null,
            "grid_auto_flow": null,
            "grid_auto_rows": null,
            "grid_column": null,
            "grid_gap": null,
            "grid_row": null,
            "grid_template_areas": null,
            "grid_template_columns": null,
            "grid_template_rows": null,
            "height": null,
            "justify_content": null,
            "justify_items": null,
            "left": null,
            "margin": null,
            "max_height": null,
            "max_width": null,
            "min_height": null,
            "min_width": null,
            "object_fit": null,
            "object_position": null,
            "order": null,
            "overflow": null,
            "overflow_x": null,
            "overflow_y": null,
            "padding": null,
            "right": null,
            "top": null,
            "visibility": null,
            "width": null
          }
        },
        "b27d2ffa942e4c949944cd20b948372e": {
          "model_module": "@jupyter-widgets/controls",
          "model_name": "ProgressStyleModel",
          "model_module_version": "1.5.0",
          "state": {
            "_model_module": "@jupyter-widgets/controls",
            "_model_module_version": "1.5.0",
            "_model_name": "ProgressStyleModel",
            "_view_count": null,
            "_view_module": "@jupyter-widgets/base",
            "_view_module_version": "1.2.0",
            "_view_name": "StyleView",
            "bar_color": null,
            "description_width": ""
          }
        },
        "793c52fcb5b348369491da2ba30d2d7b": {
          "model_module": "@jupyter-widgets/base",
          "model_name": "LayoutModel",
          "model_module_version": "1.2.0",
          "state": {
            "_model_module": "@jupyter-widgets/base",
            "_model_module_version": "1.2.0",
            "_model_name": "LayoutModel",
            "_view_count": null,
            "_view_module": "@jupyter-widgets/base",
            "_view_module_version": "1.2.0",
            "_view_name": "LayoutView",
            "align_content": null,
            "align_items": null,
            "align_self": null,
            "border": null,
            "bottom": null,
            "display": null,
            "flex": null,
            "flex_flow": null,
            "grid_area": null,
            "grid_auto_columns": null,
            "grid_auto_flow": null,
            "grid_auto_rows": null,
            "grid_column": null,
            "grid_gap": null,
            "grid_row": null,
            "grid_template_areas": null,
            "grid_template_columns": null,
            "grid_template_rows": null,
            "height": null,
            "justify_content": null,
            "justify_items": null,
            "left": null,
            "margin": null,
            "max_height": null,
            "max_width": null,
            "min_height": null,
            "min_width": null,
            "object_fit": null,
            "object_position": null,
            "order": null,
            "overflow": null,
            "overflow_x": null,
            "overflow_y": null,
            "padding": null,
            "right": null,
            "top": null,
            "visibility": null,
            "width": null
          }
        },
        "4fbd0ecc4aaa4bf1aa874404b589c116": {
          "model_module": "@jupyter-widgets/controls",
          "model_name": "DescriptionStyleModel",
          "model_module_version": "1.5.0",
          "state": {
            "_model_module": "@jupyter-widgets/controls",
            "_model_module_version": "1.5.0",
            "_model_name": "DescriptionStyleModel",
            "_view_count": null,
            "_view_module": "@jupyter-widgets/base",
            "_view_module_version": "1.2.0",
            "_view_name": "StyleView",
            "description_width": ""
          }
        },
        "77902086db6f4f9785d5f3c0e9e0fa8d": {
          "model_module": "@jupyter-widgets/controls",
          "model_name": "HBoxModel",
          "model_module_version": "1.5.0",
          "state": {
            "_dom_classes": [],
            "_model_module": "@jupyter-widgets/controls",
            "_model_module_version": "1.5.0",
            "_model_name": "HBoxModel",
            "_view_count": null,
            "_view_module": "@jupyter-widgets/controls",
            "_view_module_version": "1.5.0",
            "_view_name": "HBoxView",
            "box_style": "",
            "children": [
              "IPY_MODEL_02851d1722cb40e09257b64baa105627",
              "IPY_MODEL_d68a3f7f00734548b428c6a3ad87d21c",
              "IPY_MODEL_0e0f6f97dbba4de7940b06c43dab0bc9"
            ],
            "layout": "IPY_MODEL_e925144be2374a7b93a8d8fb905e5dde"
          }
        },
        "02851d1722cb40e09257b64baa105627": {
          "model_module": "@jupyter-widgets/controls",
          "model_name": "HTMLModel",
          "model_module_version": "1.5.0",
          "state": {
            "_dom_classes": [],
            "_model_module": "@jupyter-widgets/controls",
            "_model_module_version": "1.5.0",
            "_model_name": "HTMLModel",
            "_view_count": null,
            "_view_module": "@jupyter-widgets/controls",
            "_view_module_version": "1.5.0",
            "_view_name": "HTMLView",
            "description": "",
            "description_tooltip": null,
            "layout": "IPY_MODEL_d9419900d21a4712ae26e283e563c39a",
            "placeholder": "​",
            "style": "IPY_MODEL_f1526929dc8b41eda45a56f4a05b11ad",
            "value": "Computing transition probabilities: 100%"
          }
        },
        "d68a3f7f00734548b428c6a3ad87d21c": {
          "model_module": "@jupyter-widgets/controls",
          "model_name": "FloatProgressModel",
          "model_module_version": "1.5.0",
          "state": {
            "_dom_classes": [],
            "_model_module": "@jupyter-widgets/controls",
            "_model_module_version": "1.5.0",
            "_model_name": "FloatProgressModel",
            "_view_count": null,
            "_view_module": "@jupyter-widgets/controls",
            "_view_module_version": "1.5.0",
            "_view_name": "ProgressView",
            "bar_style": "success",
            "description": "",
            "description_tooltip": null,
            "layout": "IPY_MODEL_7fc86ce0a25f40d290f8fa4285a23749",
            "max": 7805,
            "min": 0,
            "orientation": "horizontal",
            "style": "IPY_MODEL_2a22c685198445cf9f998a37cc05ebaf",
            "value": 7805
          }
        },
        "0e0f6f97dbba4de7940b06c43dab0bc9": {
          "model_module": "@jupyter-widgets/controls",
          "model_name": "HTMLModel",
          "model_module_version": "1.5.0",
          "state": {
            "_dom_classes": [],
            "_model_module": "@jupyter-widgets/controls",
            "_model_module_version": "1.5.0",
            "_model_name": "HTMLModel",
            "_view_count": null,
            "_view_module": "@jupyter-widgets/controls",
            "_view_module_version": "1.5.0",
            "_view_name": "HTMLView",
            "description": "",
            "description_tooltip": null,
            "layout": "IPY_MODEL_e6a4fd0f91794f3a9581caaf0e3221d6",
            "placeholder": "​",
            "style": "IPY_MODEL_b5d23db29ba2448b9faa0c84b1433ea8",
            "value": " 7805/7805 [10:52&lt;00:00, 40.87it/s]"
          }
        },
        "e925144be2374a7b93a8d8fb905e5dde": {
          "model_module": "@jupyter-widgets/base",
          "model_name": "LayoutModel",
          "model_module_version": "1.2.0",
          "state": {
            "_model_module": "@jupyter-widgets/base",
            "_model_module_version": "1.2.0",
            "_model_name": "LayoutModel",
            "_view_count": null,
            "_view_module": "@jupyter-widgets/base",
            "_view_module_version": "1.2.0",
            "_view_name": "LayoutView",
            "align_content": null,
            "align_items": null,
            "align_self": null,
            "border": null,
            "bottom": null,
            "display": null,
            "flex": null,
            "flex_flow": null,
            "grid_area": null,
            "grid_auto_columns": null,
            "grid_auto_flow": null,
            "grid_auto_rows": null,
            "grid_column": null,
            "grid_gap": null,
            "grid_row": null,
            "grid_template_areas": null,
            "grid_template_columns": null,
            "grid_template_rows": null,
            "height": null,
            "justify_content": null,
            "justify_items": null,
            "left": null,
            "margin": null,
            "max_height": null,
            "max_width": null,
            "min_height": null,
            "min_width": null,
            "object_fit": null,
            "object_position": null,
            "order": null,
            "overflow": null,
            "overflow_x": null,
            "overflow_y": null,
            "padding": null,
            "right": null,
            "top": null,
            "visibility": null,
            "width": null
          }
        },
        "d9419900d21a4712ae26e283e563c39a": {
          "model_module": "@jupyter-widgets/base",
          "model_name": "LayoutModel",
          "model_module_version": "1.2.0",
          "state": {
            "_model_module": "@jupyter-widgets/base",
            "_model_module_version": "1.2.0",
            "_model_name": "LayoutModel",
            "_view_count": null,
            "_view_module": "@jupyter-widgets/base",
            "_view_module_version": "1.2.0",
            "_view_name": "LayoutView",
            "align_content": null,
            "align_items": null,
            "align_self": null,
            "border": null,
            "bottom": null,
            "display": null,
            "flex": null,
            "flex_flow": null,
            "grid_area": null,
            "grid_auto_columns": null,
            "grid_auto_flow": null,
            "grid_auto_rows": null,
            "grid_column": null,
            "grid_gap": null,
            "grid_row": null,
            "grid_template_areas": null,
            "grid_template_columns": null,
            "grid_template_rows": null,
            "height": null,
            "justify_content": null,
            "justify_items": null,
            "left": null,
            "margin": null,
            "max_height": null,
            "max_width": null,
            "min_height": null,
            "min_width": null,
            "object_fit": null,
            "object_position": null,
            "order": null,
            "overflow": null,
            "overflow_x": null,
            "overflow_y": null,
            "padding": null,
            "right": null,
            "top": null,
            "visibility": null,
            "width": null
          }
        },
        "f1526929dc8b41eda45a56f4a05b11ad": {
          "model_module": "@jupyter-widgets/controls",
          "model_name": "DescriptionStyleModel",
          "model_module_version": "1.5.0",
          "state": {
            "_model_module": "@jupyter-widgets/controls",
            "_model_module_version": "1.5.0",
            "_model_name": "DescriptionStyleModel",
            "_view_count": null,
            "_view_module": "@jupyter-widgets/base",
            "_view_module_version": "1.2.0",
            "_view_name": "StyleView",
            "description_width": ""
          }
        },
        "7fc86ce0a25f40d290f8fa4285a23749": {
          "model_module": "@jupyter-widgets/base",
          "model_name": "LayoutModel",
          "model_module_version": "1.2.0",
          "state": {
            "_model_module": "@jupyter-widgets/base",
            "_model_module_version": "1.2.0",
            "_model_name": "LayoutModel",
            "_view_count": null,
            "_view_module": "@jupyter-widgets/base",
            "_view_module_version": "1.2.0",
            "_view_name": "LayoutView",
            "align_content": null,
            "align_items": null,
            "align_self": null,
            "border": null,
            "bottom": null,
            "display": null,
            "flex": null,
            "flex_flow": null,
            "grid_area": null,
            "grid_auto_columns": null,
            "grid_auto_flow": null,
            "grid_auto_rows": null,
            "grid_column": null,
            "grid_gap": null,
            "grid_row": null,
            "grid_template_areas": null,
            "grid_template_columns": null,
            "grid_template_rows": null,
            "height": null,
            "justify_content": null,
            "justify_items": null,
            "left": null,
            "margin": null,
            "max_height": null,
            "max_width": null,
            "min_height": null,
            "min_width": null,
            "object_fit": null,
            "object_position": null,
            "order": null,
            "overflow": null,
            "overflow_x": null,
            "overflow_y": null,
            "padding": null,
            "right": null,
            "top": null,
            "visibility": null,
            "width": null
          }
        },
        "2a22c685198445cf9f998a37cc05ebaf": {
          "model_module": "@jupyter-widgets/controls",
          "model_name": "ProgressStyleModel",
          "model_module_version": "1.5.0",
          "state": {
            "_model_module": "@jupyter-widgets/controls",
            "_model_module_version": "1.5.0",
            "_model_name": "ProgressStyleModel",
            "_view_count": null,
            "_view_module": "@jupyter-widgets/base",
            "_view_module_version": "1.2.0",
            "_view_name": "StyleView",
            "bar_color": null,
            "description_width": ""
          }
        },
        "e6a4fd0f91794f3a9581caaf0e3221d6": {
          "model_module": "@jupyter-widgets/base",
          "model_name": "LayoutModel",
          "model_module_version": "1.2.0",
          "state": {
            "_model_module": "@jupyter-widgets/base",
            "_model_module_version": "1.2.0",
            "_model_name": "LayoutModel",
            "_view_count": null,
            "_view_module": "@jupyter-widgets/base",
            "_view_module_version": "1.2.0",
            "_view_name": "LayoutView",
            "align_content": null,
            "align_items": null,
            "align_self": null,
            "border": null,
            "bottom": null,
            "display": null,
            "flex": null,
            "flex_flow": null,
            "grid_area": null,
            "grid_auto_columns": null,
            "grid_auto_flow": null,
            "grid_auto_rows": null,
            "grid_column": null,
            "grid_gap": null,
            "grid_row": null,
            "grid_template_areas": null,
            "grid_template_columns": null,
            "grid_template_rows": null,
            "height": null,
            "justify_content": null,
            "justify_items": null,
            "left": null,
            "margin": null,
            "max_height": null,
            "max_width": null,
            "min_height": null,
            "min_width": null,
            "object_fit": null,
            "object_position": null,
            "order": null,
            "overflow": null,
            "overflow_x": null,
            "overflow_y": null,
            "padding": null,
            "right": null,
            "top": null,
            "visibility": null,
            "width": null
          }
        },
        "b5d23db29ba2448b9faa0c84b1433ea8": {
          "model_module": "@jupyter-widgets/controls",
          "model_name": "DescriptionStyleModel",
          "model_module_version": "1.5.0",
          "state": {
            "_model_module": "@jupyter-widgets/controls",
            "_model_module_version": "1.5.0",
            "_model_name": "DescriptionStyleModel",
            "_view_count": null,
            "_view_module": "@jupyter-widgets/base",
            "_view_module_version": "1.2.0",
            "_view_name": "StyleView",
            "description_width": ""
          }
        },
        "4bbf335d1003473794232286cca3e649": {
          "model_module": "@jupyter-widgets/controls",
          "model_name": "HBoxModel",
          "model_module_version": "1.5.0",
          "state": {
            "_dom_classes": [],
            "_model_module": "@jupyter-widgets/controls",
            "_model_module_version": "1.5.0",
            "_model_name": "HBoxModel",
            "_view_count": null,
            "_view_module": "@jupyter-widgets/controls",
            "_view_module_version": "1.5.0",
            "_view_name": "HBoxView",
            "box_style": "",
            "children": [
              "IPY_MODEL_f754df96eb4c42ec8f7c4d8e51d3def4",
              "IPY_MODEL_1782670bdb5442e491c5c0d3154f7977",
              "IPY_MODEL_c7d46ce887294a4fa6662a9be740d76f"
            ],
            "layout": "IPY_MODEL_29df2850aa54480192c9fa3b9a029597"
          }
        },
        "f754df96eb4c42ec8f7c4d8e51d3def4": {
          "model_module": "@jupyter-widgets/controls",
          "model_name": "HTMLModel",
          "model_module_version": "1.5.0",
          "state": {
            "_dom_classes": [],
            "_model_module": "@jupyter-widgets/controls",
            "_model_module_version": "1.5.0",
            "_model_name": "HTMLModel",
            "_view_count": null,
            "_view_module": "@jupyter-widgets/controls",
            "_view_module_version": "1.5.0",
            "_view_name": "HTMLView",
            "description": "",
            "description_tooltip": null,
            "layout": "IPY_MODEL_65c478cc17384be9b0cb50014aec149d",
            "placeholder": "​",
            "style": "IPY_MODEL_ee6f3a9c87354d88b4d347a22c7c574e",
            "value": "Computing transition probabilities: 100%"
          }
        },
        "1782670bdb5442e491c5c0d3154f7977": {
          "model_module": "@jupyter-widgets/controls",
          "model_name": "FloatProgressModel",
          "model_module_version": "1.5.0",
          "state": {
            "_dom_classes": [],
            "_model_module": "@jupyter-widgets/controls",
            "_model_module_version": "1.5.0",
            "_model_name": "FloatProgressModel",
            "_view_count": null,
            "_view_module": "@jupyter-widgets/controls",
            "_view_module_version": "1.5.0",
            "_view_name": "ProgressView",
            "bar_style": "success",
            "description": "",
            "description_tooltip": null,
            "layout": "IPY_MODEL_c9be0590a83548f3b0e5334a42b1fdc2",
            "max": 2455,
            "min": 0,
            "orientation": "horizontal",
            "style": "IPY_MODEL_a2e493a0f0a6491b8a9cf0eeb4ae89d1",
            "value": 2455
          }
        },
        "c7d46ce887294a4fa6662a9be740d76f": {
          "model_module": "@jupyter-widgets/controls",
          "model_name": "HTMLModel",
          "model_module_version": "1.5.0",
          "state": {
            "_dom_classes": [],
            "_model_module": "@jupyter-widgets/controls",
            "_model_module_version": "1.5.0",
            "_model_name": "HTMLModel",
            "_view_count": null,
            "_view_module": "@jupyter-widgets/controls",
            "_view_module_version": "1.5.0",
            "_view_name": "HTMLView",
            "description": "",
            "description_tooltip": null,
            "layout": "IPY_MODEL_39a9db5ccf9d4fbba9a176c65fc343df",
            "placeholder": "​",
            "style": "IPY_MODEL_42c4df80710b432d84881b129f14002e",
            "value": " 2455/2455 [00:21&lt;00:00, 344.52it/s]"
          }
        },
        "29df2850aa54480192c9fa3b9a029597": {
          "model_module": "@jupyter-widgets/base",
          "model_name": "LayoutModel",
          "model_module_version": "1.2.0",
          "state": {
            "_model_module": "@jupyter-widgets/base",
            "_model_module_version": "1.2.0",
            "_model_name": "LayoutModel",
            "_view_count": null,
            "_view_module": "@jupyter-widgets/base",
            "_view_module_version": "1.2.0",
            "_view_name": "LayoutView",
            "align_content": null,
            "align_items": null,
            "align_self": null,
            "border": null,
            "bottom": null,
            "display": null,
            "flex": null,
            "flex_flow": null,
            "grid_area": null,
            "grid_auto_columns": null,
            "grid_auto_flow": null,
            "grid_auto_rows": null,
            "grid_column": null,
            "grid_gap": null,
            "grid_row": null,
            "grid_template_areas": null,
            "grid_template_columns": null,
            "grid_template_rows": null,
            "height": null,
            "justify_content": null,
            "justify_items": null,
            "left": null,
            "margin": null,
            "max_height": null,
            "max_width": null,
            "min_height": null,
            "min_width": null,
            "object_fit": null,
            "object_position": null,
            "order": null,
            "overflow": null,
            "overflow_x": null,
            "overflow_y": null,
            "padding": null,
            "right": null,
            "top": null,
            "visibility": null,
            "width": null
          }
        },
        "65c478cc17384be9b0cb50014aec149d": {
          "model_module": "@jupyter-widgets/base",
          "model_name": "LayoutModel",
          "model_module_version": "1.2.0",
          "state": {
            "_model_module": "@jupyter-widgets/base",
            "_model_module_version": "1.2.0",
            "_model_name": "LayoutModel",
            "_view_count": null,
            "_view_module": "@jupyter-widgets/base",
            "_view_module_version": "1.2.0",
            "_view_name": "LayoutView",
            "align_content": null,
            "align_items": null,
            "align_self": null,
            "border": null,
            "bottom": null,
            "display": null,
            "flex": null,
            "flex_flow": null,
            "grid_area": null,
            "grid_auto_columns": null,
            "grid_auto_flow": null,
            "grid_auto_rows": null,
            "grid_column": null,
            "grid_gap": null,
            "grid_row": null,
            "grid_template_areas": null,
            "grid_template_columns": null,
            "grid_template_rows": null,
            "height": null,
            "justify_content": null,
            "justify_items": null,
            "left": null,
            "margin": null,
            "max_height": null,
            "max_width": null,
            "min_height": null,
            "min_width": null,
            "object_fit": null,
            "object_position": null,
            "order": null,
            "overflow": null,
            "overflow_x": null,
            "overflow_y": null,
            "padding": null,
            "right": null,
            "top": null,
            "visibility": null,
            "width": null
          }
        },
        "ee6f3a9c87354d88b4d347a22c7c574e": {
          "model_module": "@jupyter-widgets/controls",
          "model_name": "DescriptionStyleModel",
          "model_module_version": "1.5.0",
          "state": {
            "_model_module": "@jupyter-widgets/controls",
            "_model_module_version": "1.5.0",
            "_model_name": "DescriptionStyleModel",
            "_view_count": null,
            "_view_module": "@jupyter-widgets/base",
            "_view_module_version": "1.2.0",
            "_view_name": "StyleView",
            "description_width": ""
          }
        },
        "c9be0590a83548f3b0e5334a42b1fdc2": {
          "model_module": "@jupyter-widgets/base",
          "model_name": "LayoutModel",
          "model_module_version": "1.2.0",
          "state": {
            "_model_module": "@jupyter-widgets/base",
            "_model_module_version": "1.2.0",
            "_model_name": "LayoutModel",
            "_view_count": null,
            "_view_module": "@jupyter-widgets/base",
            "_view_module_version": "1.2.0",
            "_view_name": "LayoutView",
            "align_content": null,
            "align_items": null,
            "align_self": null,
            "border": null,
            "bottom": null,
            "display": null,
            "flex": null,
            "flex_flow": null,
            "grid_area": null,
            "grid_auto_columns": null,
            "grid_auto_flow": null,
            "grid_auto_rows": null,
            "grid_column": null,
            "grid_gap": null,
            "grid_row": null,
            "grid_template_areas": null,
            "grid_template_columns": null,
            "grid_template_rows": null,
            "height": null,
            "justify_content": null,
            "justify_items": null,
            "left": null,
            "margin": null,
            "max_height": null,
            "max_width": null,
            "min_height": null,
            "min_width": null,
            "object_fit": null,
            "object_position": null,
            "order": null,
            "overflow": null,
            "overflow_x": null,
            "overflow_y": null,
            "padding": null,
            "right": null,
            "top": null,
            "visibility": null,
            "width": null
          }
        },
        "a2e493a0f0a6491b8a9cf0eeb4ae89d1": {
          "model_module": "@jupyter-widgets/controls",
          "model_name": "ProgressStyleModel",
          "model_module_version": "1.5.0",
          "state": {
            "_model_module": "@jupyter-widgets/controls",
            "_model_module_version": "1.5.0",
            "_model_name": "ProgressStyleModel",
            "_view_count": null,
            "_view_module": "@jupyter-widgets/base",
            "_view_module_version": "1.2.0",
            "_view_name": "StyleView",
            "bar_color": null,
            "description_width": ""
          }
        },
        "39a9db5ccf9d4fbba9a176c65fc343df": {
          "model_module": "@jupyter-widgets/base",
          "model_name": "LayoutModel",
          "model_module_version": "1.2.0",
          "state": {
            "_model_module": "@jupyter-widgets/base",
            "_model_module_version": "1.2.0",
            "_model_name": "LayoutModel",
            "_view_count": null,
            "_view_module": "@jupyter-widgets/base",
            "_view_module_version": "1.2.0",
            "_view_name": "LayoutView",
            "align_content": null,
            "align_items": null,
            "align_self": null,
            "border": null,
            "bottom": null,
            "display": null,
            "flex": null,
            "flex_flow": null,
            "grid_area": null,
            "grid_auto_columns": null,
            "grid_auto_flow": null,
            "grid_auto_rows": null,
            "grid_column": null,
            "grid_gap": null,
            "grid_row": null,
            "grid_template_areas": null,
            "grid_template_columns": null,
            "grid_template_rows": null,
            "height": null,
            "justify_content": null,
            "justify_items": null,
            "left": null,
            "margin": null,
            "max_height": null,
            "max_width": null,
            "min_height": null,
            "min_width": null,
            "object_fit": null,
            "object_position": null,
            "order": null,
            "overflow": null,
            "overflow_x": null,
            "overflow_y": null,
            "padding": null,
            "right": null,
            "top": null,
            "visibility": null,
            "width": null
          }
        },
        "42c4df80710b432d84881b129f14002e": {
          "model_module": "@jupyter-widgets/controls",
          "model_name": "DescriptionStyleModel",
          "model_module_version": "1.5.0",
          "state": {
            "_model_module": "@jupyter-widgets/controls",
            "_model_module_version": "1.5.0",
            "_model_name": "DescriptionStyleModel",
            "_view_count": null,
            "_view_module": "@jupyter-widgets/base",
            "_view_module_version": "1.2.0",
            "_view_name": "StyleView",
            "description_width": ""
          }
        }
      }
    }
  },
  "cells": [
    {
      "cell_type": "markdown",
      "source": [
        "# **Курсовая работа**\n",
        "по теме \"Интерпретируемые методы выделения сообществ на атрибутированных графовых наборах данных\"\\\n",
        "студент 3 курса, учебной группы ПМ21-4\\\n",
        "факультет ИТиАБД\\\n",
        "Тумасян Валентин Максимович"
      ],
      "metadata": {
        "id": "VDVdl3UYlr1p"
      }
    },
    {
      "cell_type": "markdown",
      "metadata": {
        "id": "amARuQDJ616O",
        "tags": []
      },
      "source": [
        "## **Описание работы**"
      ]
    },
    {
      "cell_type": "markdown",
      "metadata": {
        "id": "PfHSOMlivhyN"
      },
      "source": [
        "1. **Наименование темы:** \\\n",
        "Интерпретируемые методы выделения сообществ на атрибутированных графовых наборах данных."
      ]
    },
    {
      "cell_type": "markdown",
      "metadata": {
        "id": "tivAsqyI5wWp"
      },
      "source": [
        "2. **Цель:**\\\n",
        "Изучить и сравнить различные интерпретируемые методы выделения сообществ на атрибутированных графовых наборах данных, а также разработать эффективные алгоритмы их применения на практике."
      ]
    },
    {
      "cell_type": "markdown",
      "metadata": {
        "id": "Q92LeoO_5tZE"
      },
      "source": [
        "3. **Задачи:**\n",
        "* Обзор литературы и существующих методов выделения сообществ (изучение основных концепций, обзор методов)\n",
        "* Подготовка данных (выбрать атрибутированные графовые датасеты для экспериментов, предварительный анализ данных)\n",
        "* Реализация выбранных интерпретируемых методов выделения сообществ (кодом на Python)\n",
        "* Проведение экспериментов (применение реализованных методов, сравнение эффективности и интерпретируемости различных алгоритмов)\n",
        "* Анализ результатов экспериментов (выявление особенностей каждого метода, сравнение полученных результатов)\n",
        "* Оценка применимости методов в реальных задачах (протестировать наилучшие методы на реальных задачах, при возможности)\n",
        "* Составить заключение всей работы"
      ]
    },
    {
      "cell_type": "markdown",
      "metadata": {
        "id": "oPYtrlgd5quw"
      },
      "source": [
        "4. **Ожидаемые результаты:**\n",
        "* Сравнительный анализ интерпретируемых методов выделения сообществ на атрибутированных графовых наборах данных\n",
        "* Разработанные алгоритмы и код на Python для применения выбранных методов\n",
        "* Выявление особенностей и преимуществ конкретных методов в различных контекстах\n",
        "* Рекомендации по выбору наиболее подходящих методов для конкретных прикладных задач"
      ]
    },
    {
      "cell_type": "markdown",
      "metadata": {
        "id": "VZe357Qe3su9"
      },
      "source": [
        "5. **Описание датасета:**\\\n",
        "Репозиторий содержит несколько (3) наборов атрибутивных графовых данных с основными классами истинности. Эти наборы данных были предварительно обработаны и очищены. Наборы данных содержат вершины, ребра и атрибуты узлов, представляющие собой пользователей тех или иных социальных сетей (facebook*, google plus, twitter), дружбу между этими пользователями и профили этих пользователей соответственно."
      ]
    },
    {
      "cell_type": "markdown",
      "source": [
        "[*Источник датасета*](https://github.com/he-tiantian/Attributed-Graph-Data): *T. He, L. Bai and Y.S. Ong, \"Vicinal Vertex Allocation for Matrix Factorization in Networks,\" IEEE Transactions on Cybernetics, 2021.*"
      ],
      "metadata": {
        "id": "TfKumjj__Eov"
      }
    },
    {
      "cell_type": "markdown",
      "metadata": {
        "id": "2F1dTzHZ65m8"
      },
      "source": [
        "## **Практическая часть**"
      ]
    },
    {
      "cell_type": "markdown",
      "source": [
        "### Загрузка наборов данных"
      ],
      "metadata": {
        "id": "1bN80s4rKey7"
      }
    },
    {
      "cell_type": "code",
      "source": [
        "import zipfile\n",
        "import os"
      ],
      "metadata": {
        "id": "M628ipXm8z5k"
      },
      "execution_count": null,
      "outputs": []
    },
    {
      "cell_type": "code",
      "source": [
        "# путь к файлу архива\n",
        "zip_file_path = '/content/Attributed-Graph-Data-master.zip'\n",
        "\n",
        "# распаковываем архив\n",
        "with zipfile.ZipFile(zip_file_path, 'r') as zip_ref:\n",
        "    zip_ref.extractall('/content/')"
      ],
      "metadata": {
        "id": "JoQTkEC-Mp1b"
      },
      "execution_count": null,
      "outputs": []
    },
    {
      "cell_type": "code",
      "source": [
        "# распаковка подархива и перемещение его содержимого в указанную папку\n",
        "def extract_dataset(dataset_name, output_folder):\n",
        "    zip_file_path = f'/content/{dataset_name}.zip'\n",
        "    with zipfile.ZipFile(zip_file_path, 'r') as zip_ref:\n",
        "        zip_ref.extractall(output_folder)\n",
        "\n",
        "# создаем папки для каждого датасета и распаковываем содержимое\n",
        "datasets = ['facebook', 'googleplus', 'twitter']\n",
        "for dataset in datasets:\n",
        "    dataset_folder = f'/content/{dataset}'\n",
        "    os.makedirs(dataset_folder, exist_ok=True)\n",
        "    extract_dataset(dataset, dataset_folder)"
      ],
      "metadata": {
        "id": "lYEPLQoTNYvT"
      },
      "execution_count": null,
      "outputs": []
    },
    {
      "cell_type": "markdown",
      "source": [
        "### Создание графов"
      ],
      "metadata": {
        "id": "dCRAq4E1JU9R"
      }
    },
    {
      "cell_type": "code",
      "source": [
        "import networkx as nx"
      ],
      "metadata": {
        "id": "KDn4pEDW81k5"
      },
      "execution_count": null,
      "outputs": []
    },
    {
      "cell_type": "code",
      "source": [
        "folder_paths = ['facebook', 'googleplus', 'twitter']\n",
        "\n",
        "# обрабатываем данные из каждой папки\n",
        "for folder_path in folder_paths:\n",
        "    # создаем пустой граф\n",
        "    G = nx.Graph()\n",
        "    # считываем данные из файлов и добавляем их в граф\n",
        "    for file_name in os.listdir(folder_path):\n",
        "        file_path = os.path.join(folder_path, file_name)\n",
        "        # пропускаем папки и ненужные файлы\n",
        "        if os.path.isdir(file_path) or file_name.startswith('.'):\n",
        "            continue\n",
        "        # определяем тип данных по названию файла и загружаем соответствующим образом\n",
        "        if file_name == 'edgelist':\n",
        "            # загружаем список рёбер\n",
        "            with open(file_path, 'r') as f:\n",
        "                for line in f:\n",
        "                    source, target = line.strip().split()\n",
        "                    G.add_edge(source, target)\n",
        "        elif file_name == 'vertex2aid':\n",
        "            # загружаем атрибуты вершин\n",
        "            with open(file_path, 'r') as f:\n",
        "                for line in f:\n",
        "                    vertex, attribute = line.strip().split()\n",
        "                    # проверяем, существует ли вершина в графе\n",
        "                    if not G.has_node(vertex):\n",
        "                        G.add_node(vertex)\n",
        "                    # добавляем атрибут к вершине\n",
        "                    G.nodes[vertex]['attribute'] = attribute\n",
        "    # присваиваем соответствующим переменным\n",
        "    if folder_path == 'facebook':\n",
        "        G_facebook = G\n",
        "    elif folder_path == 'googleplus':\n",
        "        G_googleplus = G\n",
        "    elif folder_path == 'twitter':\n",
        "        G_twitter = G"
      ],
      "metadata": {
        "id": "c7SnYCk3ZKal"
      },
      "execution_count": null,
      "outputs": []
    },
    {
      "cell_type": "code",
      "source": [
        "# выводим информацию о каждом атрибутированном графе\n",
        "for graph_name, graph in [('G_facebook', G_facebook), ('G_googleplus', G_googleplus), ('G_twitter', G_twitter)]:\n",
        "    print(f\"Граф '{graph_name}':\")\n",
        "    print(f\"Количество вершин: {graph.number_of_nodes()}\")\n",
        "    print(f\"Количество рёбер: {graph.number_of_edges()}\")\n",
        "    print()"
      ],
      "metadata": {
        "colab": {
          "base_uri": "https://localhost:8080/"
        },
        "id": "Pmc98QEFAErO",
        "outputId": "c4634003-9f71-4f76-ddc8-1b7980d66113"
      },
      "execution_count": null,
      "outputs": [
        {
          "output_type": "stream",
          "name": "stdout",
          "text": [
            "Граф 'G_facebook':\n",
            "Количество вершин: 4039\n",
            "Количество рёбер: 88234\n",
            "\n",
            "Граф 'G_googleplus':\n",
            "Количество вершин: 7805\n",
            "Количество рёбер: 321268\n",
            "\n",
            "Граф 'G_twitter':\n",
            "Количество вершин: 2455\n",
            "Количество рёбер: 37154\n",
            "\n"
          ]
        }
      ]
    },
    {
      "cell_type": "markdown",
      "source": [
        "### Реализация интерпретируемых методов выделения сообществ"
      ],
      "metadata": {
        "id": "RB3dSDOZU1iF"
      }
    },
    {
      "cell_type": "markdown",
      "source": [
        "##### 1. KMeans"
      ],
      "metadata": {
        "id": "pUGRElUuVuhj"
      }
    },
    {
      "cell_type": "code",
      "source": [
        "from sklearn.cluster import KMeans\n",
        "import numpy as np"
      ],
      "metadata": {
        "id": "iafg9eWg9VAK"
      },
      "execution_count": null,
      "outputs": []
    },
    {
      "cell_type": "code",
      "source": [
        "# выделение сообществ методом KMeans\n",
        "def kmeans_community_detection(graph, num_communities):\n",
        "    # получаем атрибуты вершин в виде векторов одинаковой длины\n",
        "    node_attributes = {node: np.array(list(data.values())) for node, data in graph.nodes(data=True)}\n",
        "    attribute_length = len(next(iter(node_attributes.values())))\n",
        "    for node, attributes in node_attributes.items():\n",
        "        if len(attributes) < attribute_length:\n",
        "            node_attributes[node] = np.concatenate([attributes, np.zeros(attribute_length - len(attributes))])\n",
        "\n",
        "    # применяем KMeans\n",
        "    kmeans = KMeans(n_clusters=num_communities, random_state=42)\n",
        "    labels = kmeans.fit_predict(list(node_attributes.values()))\n",
        "\n",
        "    # формируем словарь, где ключами являются метки кластеров, а значениями - списки вершин в каждом кластере\n",
        "    communities = {}\n",
        "    for node, label in zip(graph.nodes(), labels):\n",
        "        if label not in communities:\n",
        "            communities[label] = []\n",
        "        communities[label].append(node)\n",
        "\n",
        "    return communities"
      ],
      "metadata": {
        "id": "tJT9Vd-8FN8U"
      },
      "execution_count": null,
      "outputs": []
    },
    {
      "cell_type": "code",
      "source": [
        "# пример использования для графа G_facebook с 5 сообществами\n",
        "num_communities = 5\n",
        "facebook_communities = kmeans_community_detection(G_facebook, num_communities)\n",
        "print(\"сообщества, выделенные методом KMeans, для графа G_facebook:\")\n",
        "for label, nodes in facebook_communities.items():\n",
        "    print(f\"сообщество {label + 1}: {nodes}\")"
      ],
      "metadata": {
        "colab": {
          "base_uri": "https://localhost:8080/"
        },
        "id": "5f_44YzM9aYO",
        "outputId": "19a20b85-1dad-43ee-be27-65177a1acf31"
      },
      "execution_count": null,
      "outputs": [
        {
          "output_type": "stream",
          "name": "stdout",
          "text": [
            "сообщества, выделенные методом KMeans, для графа G_facebook:\n",
            "сообщество 3: ['0', '2', '3', '4', '5', '6', '7', '8', '9', '10', '13', '14', '17', '19', '20', '22', '24', '25', '26', '27', '31', '33', '34', '35', '38', '39', '40', '41', '42', '44', '46', '50', '54', '55', '57', '58', '63', '64', '65', '67', '69', '70', '71', '72', '73', '74', '75', '76', '79', '82', '85', '87', '89', '91', '92', '93', '95', '97', '98', '100', '101', '102', '103', '105', '106', '107', '108', '109', '112', '113', '115', '118', '119', '120', '121', '123', '124', '125', '127', '130', '132', '134', '136', '137', '138', '139', '141', '143', '145', '146', '151', '152', '153', '157', '159', '160', '164', '165', '166', '169', '174', '175', '176', '180', '181', '184', '185', '187', '188', '189', '191', '196', '197', '199', '202', '206', '209', '212', '214', '215', '218', '219', '220', '221', '226', '230', '241', '242', '244', '247', '248', '249', '255', '259', '260', '261', '262', '266', '267', '268', '271', '274', '275', '276', '277', '280', '281', '282', '283', '284', '286', '288', '289', '290', '293', '294', '299', '305', '306', '307', '311', '312', '314', '317', '320', '321', '325', '326', '329', '344', '372', '377', '384', '391', '401', '413', '415', '427', '430', '464', '476', '501', '536', '568', '581', '610', '637', '642', '651', '669', '683', '692', '696', '700', '706', '708', '721', '724', '725', '729', '767', '773', '777', '833', '840', '847', '858', '864', '866', '876', '878', '879', '883', '887', '889', '894', '901', '903', '904', '912', '927', '929', '952', '956', '958', '996', '1031', '1049', '1053', '1057', '1058', '1061', '1088', '1098', '1105', '1144', '1146', '1177', '1178', '1187', '1206', '1224', '1251', '1252', '1283', '1297', '1317', '1328', '1368', '1369', '1386', '1471', '1516', '1527', '1533', '1534', '1546', '1579', '1588', '1601', '1602', '1607', '1664', '1690', '1734', '1758', '1780', '1795', '1802', '1803', '1831', '1852', '1854', '1860', '1866', '1883', '1889', '1915', '1950', '1967', '2002', '2007', '2016', '2023', '2032', '2050', '2080', '2099', '2104', '2105', '2106', '2132', '2152', '2166', '2168', '2173', '2236', '2238', '2273', '2281', '2312', '2314', '2315', '2328', '2332', '2353', '2357', '2364', '2368', '2372', '2382', '2388', '2444', '2449', '2468', '2471', '2501', '2517', '2523', '2542', '2544', '2568', '2580', '2594', '2626', '2632', '2645', '2676', '2699', '2702', '2725', '2736', '2741', '2761', '2764', '2771', '2797', '2801', '2805', '2812', '2816', '2822', '2823', '2826', '2829', '2834', '2836', '2838', '2841', '2842', '2843', '2857', '2858', '2893', '2894', '2899', '2902', '2906', '2935', '2941', '2954', '2956', '2963', '2964', '2966', '2968', '2972', '2991', '2994', '2996', '2998', '3000', '3002', '3003', '3006', '3012', '3015', '3024', '3027', '3028', '3030', '3056', '3060', '3062', '3066', '3072', '3074', '3096', '3099', '3107', '3108', '3118', '3125', '3142', '3152', '3155', '3156', '3161', '3164', '3171', '3179', '3182', '3186', '3187', '3190', '3199', '3217', '3248', '3250', '3254', '3258', '3268', '3274', '3278', '3282', '3290', '3298', '3301', '3302', '3307', '3328', '3332', '3366', '3376', '3380', '3382', '3408', '3416', '3424', '3440', '3453', '3461', '3475', '3482', '3491', '3495', '3497', '3503', '3511', '3515', '3517', '3529', '3539', '3540', '3543', '3546', '3554', '3565', '3567', '3572', '3577', '3583', '3584', '3594', '3596', '3598', '3609', '3615', '3622', '3640', '3643', '3648', '3664', '3665', '3667', '3673', '3684', '3689', '3713', '3721', '3727', '3732', '3736', '3738', '3739', '3750', '3752', '3754', '3764', '3767', '3775', '3785', '3787', '3791', '3795', '3804', '3819', '3821', '3822', '3841', '3849', '3851', '3852', '3859', '3891', '3892', '3908', '3909', '3916', '3917', '3927', '3928', '3939', '3948', '3953', '3956', '3968', '3974', '3978', '3983', '3984', '3985', '3988', '3989', '3991', '3993', '3995', '3996', '3997', '3998', '3999', '4000', '4005', '4008', '4009', '4011', '4017', '4023', '4026', '4027', '4032', '4034', '1', '11', '12', '15', '16', '18', '21', '23', '28', '30', '32', '36', '37', '43', '45', '47', '48', '49', '52', '53', '56', '59', '60', '61', '62', '66', '68', '77', '78', '80', '81', '84', '86', '88', '90', '94', '96', '99', '104', '110', '111', '114', '116', '117', '122', '126', '128', '129', '131', '133', '135', '140', '142', '144', '147', '149', '150', '154', '155', '167', '178', '179', '182', '186', '190', '194', '195', '201', '207', '210', '213', '227', '228', '229', '231', '234', '235', '237', '239', '240', '245', '250', '251', '253', '256', '257', '264', '269', '270', '272', '279', '287', '292', '298', '301', '302', '303', '309', '310', '316', '319', '322', '327', '333', '336', '337', '338', '340', '341', '360', '393', '411', '461', '463', '472', '521', '565', '586', '613', '623', '660', '667', '672', '691', '693', '710', '716', '743', '753', '758', '768', '779', '783', '793', '801', '805', '811', '824', '837', '841', '842', '844', '848', '880', '910', '911', '918', '938', '972', '983', '991', '1002', '1017', '1028', '1034', '1039', '1079', '1080', '1091', '1092', '1117', '1133', '1140', '1155', '1174', '1200', '1208', '1210', '1254', '1358', '1365', '1395', '1398', '1403', '1411', '1434', '1447', '1477', '1493', '1530', '1581', '1594', '1597', '1613', '1637', '1657', '1705', '1754', '1762', '1769', '1787', '1805', '1817', '1836', '1838', '1846', '1865', '1916', '1920', '1930', '1961', '1969', '1982', '1990', '2005', '2013', '2015', '2034', '2051', '2079', '2085', '2110', '2120', '2130', '2134', '2155', '2156', '2160', '2167', '2192', '2193', '2227', '2230', '2241', '2259', '2269', '2270', '2292', '2297', '2304', '2342', '2389', '2411', '2432', '2448', '2475', '2481', '2508', '2519', '2532', '2533', '2536', '2537', '2565', '2581', '2584', '2614', '2624', '2664', '2665', '2668', '2671', '2686', '2692', '2716', '2717', '2721', '2727', '2746', '2772', '2775', '2783', '2790', '2791', '2799', '2818', '2824', '2835', '2851', '2855', '2865', '2876', '2882', '2897', '2909', '2916', '2923', '2931', '2932', '2940', '2946', '2947', '2950', '2958', '2965', '2975', '2976', '2980', '2992', '2997', '3008', '3016', '3018', '3037', '3046', '3048', '3073', '3081', '3088', '3089', '3094', '3100', '3101', '3103', '3109', '3112', '3113', '3116', '3124', '3126', '3133', '3134', '3138', '3144', '3148', '3150', '3151', '3165', '3167', '3172', '3178', '3184', '3188', '3191', '3208', '3209', '3215', '3224', '3228', '3235', '3241', '3244', '3245', '3255', '3261', '3288', '3292', '3295', '3306', '3312', '3320', '3330', '3336', '3342', '3346', '3351', '3353', '3356', '3358', '3367', '3372', '3374', '3389', '3402', '3409', '3421', '3423', '3429', '3438', '3444', '3456', '3462', '3464', '3470', '3477', '3490', '3522', '3532', '3545', '3549', '3580', '3585', '3597', '3600', '3617', '3623', '3624', '3628', '3636', '3645', '3651', '3654', '3655', '3662', '3675', '3682', '3686', '3706', '3709', '3711', '3714', '3725', '3726', '3729', '3734', '3743', '3746', '3760', '3762', '3792', '3793', '3807', '3814', '3816', '3836', '3843', '3846', '3850', '3861', '3868', '3870', '3878', '3882', '3884', '3899', '3900', '3903', '3906', '3907', '3910', '3921', '3941', '3947', '3949', '3964', '3965', '3971', '3972', '3994', '4001', '4012', '4022', '4024', '4029', '4033', '4035', '4036', '29', '51', '83', '222', '704', '737', '739', '770', '772', '791', '795', '815', '823', '845', '872', '882', '886', '923', '1038', '1220', '1958', '2478', '2482', '2496', '2735', '2785', '2856', '2878', '2959', '3790', '148', '734', '812', '830', '1912', '358', '447', '602', '607', '638', '668', '674', '3437', '3980', '686', '875']\n",
            "сообщество 4: ['156', '158', '161', '163', '168', '170', '171', '172', '173', '192', '193', '200', '204', '208', '211', '216', '224', '225', '232', '238', '254', '258', '263', '265', '285', '291', '295', '297', '308', '313', '318', '323', '324', '328', '331', '332', '335', '339', '342', '343', '346', '347', '348', '349', '350', '351', '352', '354', '355', '357', '359', '361', '363', '364', '365', '366', '367', '368', '369', '374', '375', '376', '378', '380', '382', '383', '387', '388', '389', '394', '395', '396', '397', '398', '400', '402', '403', '404', '405', '406', '407', '408', '409', '414', '418', '419', '420', '421', '422', '424', '425', '426', '428', '431', '432', '433', '434', '435', '436', '437', '438', '439', '440', '441', '443', '444', '445', '448', '449', '450', '451', '452', '454', '455', '456', '457', '458', '459', '460', '462', '465', '466', '467', '469', '470', '471', '474', '475', '477', '478', '479', '480', '481', '482', '483', '484', '485', '486', '487', '488', '489', '490', '491', '493', '494', '495', '496', '500', '502', '504', '505', '506', '507', '508', '509', '510', '511', '512', '513', '514', '515', '516', '517', '518', '519', '520', '522', '523', '525', '526', '529', '530', '531', '532', '533', '534', '535', '538', '539', '540', '541', '543', '544', '545', '546', '549', '550', '551', '552', '554', '556', '557', '558', '559', '561', '562', '563', '569', '570', '573', '575', '578', '579', '582', '583', '585', '588', '589', '592', '593', '594', '596', '597', '598', '600', '603', '604', '605', '606', '608', '609', '611', '614', '617', '618', '619', '620', '622', '625', '626', '627', '628', '630', '631', '632', '633', '634', '639', '643', '644', '645', '646', '647', '649', '653', '654', '655', '656', '657', '658', '661', '662', '664', '665', '666', '670', '671', '673', '675', '676', '677', '678', '680', '681', '682', '684', '687', '688', '690', '694', '695', '698', '699', '701', '712', '715', '722', '723', '726', '727', '730', '731', '735', '738', '744', '747', '748', '750', '752', '760', '761', '762', '763', '766', '769', '771', '774', '775', '776', '785', '796', '797', '802', '803', '804', '806', '810', '816', '818', '825', '829', '831', '832', '834', '839', '846', '849', '850', '856', '857', '859', '860', '862', '863', '865', '868', '869', '870', '873', '874', '877', '881', '888', '891', '892', '893', '895', '896', '898', '900', '902', '905', '906', '909', '913', '914', '921', '928', '936', '949', '951', '962', '981', '984', '985', '987', '988', '1008', '1010', '1013', '1014', '1015', '1020', '1032', '1033', '1042', '1054', '1068', '1071', '1074', '1077', '1078', '1081', '1082', '1095', '1100', '1104', '1115', '1122', '1143', '1152', '1160', '1167', '1172', '1175', '1176', '1193', '1202', '1207', '1216', '1217', '1218', '1221', '1222', '1226', '1229', '1236', '1241', '1249', '1256', '1260', '1275', '1277', '1279', '1282', '1286', '1291', '1292', '1293', '1298', '1307', '1311', '1316', '1320', '1332', '1343', '1345', '1347', '1353', '1357', '1359', '1360', '1364', '1374', '1375', '1382', '1387', '1392', '1401', '1406', '1410', '1412', '1428', '1430', '1438', '1439', '1450', '1459', '1470', '1472', '1482', '1486', '1494', '1501', '1502', '1513', '1514', '1520', '1525', '1535', '1536', '1542', '1543', '1553', '1555', '1569', '1575', '1578', '1591', '1625', '1628', '1630', '1633', '1640', '1645', '1671', '1673', '1678', '1679', '1681', '1684', '1686', '1688', '1689', '1701', '1709', '1727', '1729', '1740', '1756', '1759', '1767', '1776', '1777', '1782', '1786', '1809', '1813', '1815', '1820', '1823', '1830', '1833', '1847', '1859', '1872', '1884', '1885', '1887', '1891', '1892', '1899', '1956', '1972', '2252', '2596', '2682', '2697', '2700', '2704', '2712', '2730', '2734', '2740', '2765', '2779', '2813', '2848', '2860', '2892', '2903', '2942', '3050', '3069', '3071', '3083', '3160', '3259', '3263', '3273', '3276', '3281', '3283', '3319', '3322', '3329', '3398', '3407', '3413', '3434', '3445', '3454', '3457', '3476', '3484', '3499', '3504', '3509', '3512', '3520', '3530', '3544', '3550', '3595', '3607', '3618', '3619', '3658', '3693', '3704', '3733', '3748', '3766', '3779', '3783', '3794', '3802', '3817', '3820', '3853', '3857', '3865', '3871', '3872', '3875', '3887', '3889', '3904', '3905', '3912', '3931', '3935', '3940', '3942', '3954', '3977', '4010', '4019', '4028', '162', '177', '183', '198', '203', '205', '223', '233', '236', '243', '246', '252', '273', '278', '296', '300', '304', '315', '330', '334', '345', '353', '356', '362', '370', '371', '373', '385', '386', '390', '392', '399', '412', '416', '417', '423', '429', '446', '453', '473', '492', '497', '503', '524', '527', '528', '537', '542', '547', '548', '553', '560', '564', '566', '567', '571', '577', '580', '587', '590', '591', '601', '612', '624', '629', '652', '663', '697', '702', '703', '705', '707', '709', '714', '718', '719', '720', '732', '733', '736', '740', '741', '742', '749', '751', '754', '755', '759', '764', '765', '778', '781', '782', '786', '787', '788', '789', '790', '792', '794', '809', '814', '817', '821', '822', '828', '835', '836', '838', '843', '851', '852', '853', '855', '867', '871', '884', '885', '897', '899', '907', '908', '920', '953', '982', '993', '1012', '1024', '1060', '1063', '1150', '1173', '1181', '1191', '1201', '1266', '1274', '1276', '1327', '1335', '1336', '1394', '1400', '1414', '1442', '1446', '1463', '1476', '1498', '1509', '1523', '1524', '1526', '1537', '1540', '1556', '1585', '1589', '1590', '1592', '1605', '1616', '1617', '1619', '1623', '1674', '1680', '1700', '1716', '1722', '1723', '1752', '1774', '1790', '1793', '1797', '1806', '1808', '1824', '1834', '1849', '1856', '1878', '2094', '2097', '2144', '2202', '2219', '2358', '2431', '2513', '2713', '2749', '2760', '2831', '2886', '2908', '2910', '2971', '2982', '3067', '3086', '3087', '3120', '3170', '3239', '3326', '3379', '3466', '3468', '3473', '3483', '3575', '3650', '3659', '3680', '3696', '3708', '3710', '3724', '3735', '3737', '3777', '3798', '3823', '3834', '3858', '3920', '3981', '4018', '217', '379', '381', '410', '442', '468', '498', '499', '555', '572', '574', '576', '584', '595', '599', '615', '616', '621', '635', '636', '640', '641', '648', '650', '659', '679', '685', '689', '711', '713', '717', '728', '745', '746', '756', '757', '780', '798', '799', '800', '807', '808', '813', '819', '820', '826', '827', '854', '861', '890', '937', '965', '1018', '1047', '1067', '1103', '1134', '1142', '1148', '1169', '1192', '1233', '1235', '1253', '1273', '1303', '1309', '1315', '1324', '1413', '1451', '1455', '1466', '1474', '1492', '1506', '1560', '1576', '1638', '1647', '1655', '1682', '1732', '1749', '1766', '1841', '1855', '3314', '784']\n",
            "сообщество 1: ['915', '917', '922', '924', '926', '930', '931', '932', '934', '935', '939', '940', '942', '943', '944', '945', '948', '950', '955', '957', '960', '961', '963', '964', '966', '968', '969', '970', '971', '973', '975', '976', '977', '978', '979', '980', '986', '990', '992', '995', '997', '998', '1003', '1005', '1006', '1007', '1011', '1016', '1019', '1021', '1022', '1025', '1026', '1027', '1029', '1030', '1035', '1037', '1041', '1044', '1045', '1048', '1050', '1051', '1052', '1059', '1062', '1064', '1066', '1070', '1073', '1075', '1083', '1084', '1085', '1086', '1087', '1089', '1090', '1093', '1096', '1097', '1099', '1102', '1106', '1107', '1108', '1109', '1110', '1111', '1112', '1113', '1114', '1116', '1118', '1120', '1121', '1123', '1126', '1128', '1129', '1131', '1132', '1135', '1136', '1138', '1139', '1147', '1151', '1153', '1154', '1158', '1159', '1161', '1163', '1164', '1165', '1166', '1168', '1170', '1171', '1179', '1180', '1183', '1184', '1185', '1186', '1188', '1189', '1190', '1195', '1199', '1203', '1205', '1209', '1213', '1219', '1223', '1225', '1227', '1230', '1231', '1232', '1238', '1239', '1242', '1244', '1245', '1246', '1247', '1248', '1250', '1258', '1259', '1261', '1262', '1263', '1264', '1265', '1267', '1269', '1272', '1278', '1280', '1281', '1288', '1294', '1296', '1299', '1300', '1301', '1302', '1304', '1305', '1306', '1308', '1310', '1313', '1314', '1318', '1322', '1323', '1325', '1333', '1334', '1337', '1338', '1340', '1341', '1344', '1346', '1348', '1349', '1350', '1351', '1352', '1354', '1355', '1356', '1361', '1362', '1363', '1366', '1367', '1373', '1377', '1379', '1388', '1389', '1399', '1404', '1407', '1408', '1415', '1416', '1418', '1420', '1422', '1426', '1429', '1432', '1436', '1443', '1448', '1449', '1454', '1460', '1462', '1468', '1481', '1484', '1490', '1496', '1503', '1504', '1507', '1512', '1517', '1528', '1529', '1539', '1541', '1544', '1557', '1558', '1561', '1562', '1570', '1571', '1572', '1574', '1583', '1596', '1603', '1604', '1608', '1610', '1615', '1621', '1622', '1624', '1631', '1634', '1635', '1636', '1641', '1646', '1649', '1650', '1652', '1653', '1660', '1663', '1669', '1676', '1677', '1683', '1685', '1687', '1693', '1696', '1708', '1713', '1714', '1720', '1726', '1737', '1745', '1746', '1747', '1748', '1757', '1760', '1763', '1764', '1765', '1770', '1771', '1781', '1788', '1792', '1794', '1796', '1804', '1810', '1811', '1814', '1816', '1825', '1826', '1829', '1832', '1840', '1842', '1844', '1851', '1857', '1861', '1862', '1863', '1864', '1868', '1870', '1871', '1873', '1877', '1895', '1897', '1903', '1904', '1905', '1907', '1908', '1910', '1922', '1923', '1933', '1934', '1936', '1937', '1978', '2001', '2041', '2049', '2070', '2162', '2177', '2178', '2204', '2286', '2316', '2317', '2360', '2421', '2424', '2498', '2503', '2541', '2577', '2587', '2603', '2621', '2628', '2653', '2662', '2675', '2677', '2685', '2701', '2703', '2709', '2737', '2744', '2752', '2767', '2768', '2819', '2845', '2879', '2898', '2955', '2995', '3011', '3059', '3061', '3068', '3079', '3127', '3157', '3176', '3214', '3221', '3222', '3225', '3230', '3233', '3236', '3264', '3287', '3289', '3343', '3361', '3370', '3371', '3377', '3395', '3396', '3404', '3410', '3411', '3448', '3469', '3478', '3494', '3510', '3533', '3537', '3561', '3563', '3582', '3588', '3620', '3638', '3663', '3671', '3703', '3720', '3757', '3796', '3797', '3831', '3842', '3848', '3856', '3897', '3914', '3915', '3918', '3933', '3943', '3944', '3969', '3970', '4031', '916', '925', '946', '947', '959', '967', '994', '1004', '1023', '1040', '1043', '1055', '1056', '1069', '1076', '1101', '1119', '1124', '1125', '1130', '1137', '1141', '1145', '1149', '1157', '1182', '1196', '1197', '1198', '1211', '1212', '1214', '1234', '1237', '1240', '1243', '1255', '1268', '1271', '1289', '1290', '1312', '1321', '1329', '1330', '1331', '1339', '1342', '1370', '1380', '1383', '1384', '1397', '1417', '1419', '1423', '1433', '1437', '1440', '1445', '1458', '1464', '1478', '1483', '1485', '1487', '1488', '1511', '1518', '1519', '1521', '1522', '1532', '1563', '1566', '1567', '1580', '1593', '1612', '1627', '1643', '1644', '1654', '1659', '1662', '1665', '1692', '1694', '1697', '1698', '1702', '1707', '1711', '1724', '1735', '1736', '1753', '1755', '1768', '1773', '1799', '1801', '1821', '1822', '1827', '1835', '1853', '1858', '1879', '1881', '1882', '1890', '1901', '1902', '1927', '2008', '2017', '2089', '2091', '2175', '2181', '2186', '2195', '2248', '2260', '2335', '2361', '2380', '2397', '2416', '2474', '2525', '2562', '2569', '2618', '2644', '2728', '2739', '2962', '3007', '3038', '3043', '3145', '3210', '3272', '3391', '3431', '3459', '3535', '3541', '3570', '3601', '3631', '3633', '3646', '3647', '3668', '3692', '3694', '3699', '3728', '3749', '3769', '3773', '3844', '3867', '3873', '3877', '3937', '3961', '3967', '919', '933', '941', '954', '974', '989', '999', '1000', '1001', '1009', '1036', '1046', '1065', '1094', '1127', '1156', '1162', '1194', '1204', '1215', '1228', '1257', '1270', '1284', '1285', '1287', '1295', '1319', '1326', '1372', '1381', '1396', '1425', '1441', '1475', '1489', '1495', '1508', '1510', '1550', '1586', '1595', '1661', '1704', '1706', '1715', '1725', '1743', '1775', '1785', '1812', '1848', '1869', '2437', '1072']\n",
            "сообщество 5: ['1371', '1385', '1390', '1391', '1393', '1409', '1421', '1424', '1431', '1435', '1444', '1452', '1453', '1456', '1461', '1465', '1467', '1469', '1473', '1479', '1480', '1491', '1499', '1500', '1531', '1538', '1545', '1547', '1548', '1549', '1554', '1564', '1565', '1573', '1577', '1582', '1584', '1587', '1599', '1600', '1606', '1609', '1611', '1620', '1629', '1632', '1639', '1642', '1656', '1658', '1666', '1667', '1668', '1670', '1672', '1675', '1691', '1695', '1699', '1703', '1718', '1719', '1721', '1730', '1731', '1733', '1738', '1742', '1744', '1761', '1778', '1783', '1784', '1789', '1798', '1800', '1807', '1818', '1819', '1828', '1837', '1843', '1845', '1850', '1867', '1874', '1876', '1880', '1888', '1894', '1896', '1898', '1906', '1913', '1914', '1917', '1924', '1931', '1932', '1939', '1941', '1943', '1946', '1947', '1948', '1952', '1953', '1955', '1957', '1959', '1962', '1964', '1966', '1973', '1975', '1977', '1979', '1980', '1983', '1984', '1986', '1989', '1991', '1992', '1994', '1995', '1998', '1999', '2000', '2006', '2012', '2018', '2025', '2026', '2027', '2028', '2029', '2031', '2036', '2037', '2038', '2040', '2042', '2045', '2047', '2052', '2053', '2054', '2055', '2057', '2058', '2059', '2060', '2061', '2062', '2064', '2066', '2069', '2071', '2072', '2076', '2077', '2078', '2083', '2084', '2090', '2093', '2096', '2101', '2102', '2108', '2109', '2112', '2114', '2115', '2116', '2118', '2122', '2123', '2125', '2128', '2131', '2135', '2136', '2138', '2143', '2146', '2147', '2148', '2150', '2151', '2159', '2161', '2163', '2164', '2169', '2170', '2171', '2174', '2183', '2187', '2188', '2191', '2194', '2196', '2197', '2200', '2201', '2203', '2206', '2210', '2211', '2212', '2213', '2215', '2216', '2217', '2218', '2221', '2222', '2223', '2224', '2225', '2226', '2229', '2231', '2232', '2235', '2239', '2242', '2243', '2245', '2250', '2265', '2266', '2267', '2271', '2274', '2275', '2279', '2280', '2284', '2301', '2303', '2308', '2318', '2320', '2321', '2327', '2329', '2330', '2334', '2336', '2337', '2338', '2345', '2346', '2356', '2363', '2365', '2367', '2370', '2375', '2379', '2381', '2386', '2390', '2391', '2392', '2402', '2403', '2404', '2406', '2412', '2418', '2426', '2429', '2435', '2438', '2442', '2452', '2456', '2458', '2469', '2473', '2477', '2479', '2493', '2494', '2499', '2502', '2504', '2512', '2516', '2518', '2522', '2534', '2535', '2539', '2540', '2545', '2550', '2556', '2570', '2571', '2572', '2576', '2583', '2593', '2598', '2610', '2612', '2613', '2615', '2616', '2620', '2622', '2631', '2636', '2638', '2639', '2641', '2643', '2647', '2650', '2651', '2652', '2654', '2657', '2663', '2680', '2691', '2696', '2724', '2726', '2769', '2837', '2852', '2866', '2868', '2873', '2883', '2904', '2914', '2917', '2921', '2938', '2945', '3001', '3019', '3045', '3052', '3065', '3143', '3153', '3177', '3183', '3223', '3227', '3246', '3313', '3337', '3338', '3339', '3340', '3487', '3507', '3551', '3632', '3826', '3890', '1376', '1378', '1402', '1405', '1457', '1497', '1505', '1551', '1552', '1559', '1568', '1598', '1614', '1618', '1626', '1648', '1651', '1710', '1712', '1717', '1739', '1750', '1772', '1779', '1791', '1839', '1886', '1900', '1909', '1911', '1918', '1919', '1921', '1925', '1926', '1928', '1935', '1938', '1940', '1944', '1945', '1949', '1951', '1954', '1960', '1963', '1965', '1970', '1974', '1976', '1981', '1987', '1988', '1996', '2003', '2004', '2009', '2010', '2011', '2014', '2022', '2024', '2033', '2035', '2039', '2043', '2048', '2056', '2063', '2065', '2067', '2068', '2073', '2074', '2075', '2081', '2082', '2086', '2087', '2088', '2098', '2100', '2103', '2107', '2111', '2113', '2117', '2119', '2121', '2124', '2126', '2127', '2129', '2133', '2137', '2139', '2140', '2141', '2142', '2145', '2149', '2153', '2154', '2157', '2158', '2180', '2182', '2184', '2185', '2189', '2198', '2199', '2205', '2207', '2208', '2209', '2214', '2228', '2233', '2234', '2237', '2244', '2246', '2247', '2249', '2251', '2254', '2256', '2257', '2261', '2277', '2278', '2282', '2287', '2289', '2290', '2295', '2296', '2313', '2322', '2323', '2331', '2333', '2343', '2344', '2348', '2371', '2373', '2383', '2387', '2393', '2396', '2400', '2401', '2405', '2407', '2409', '2415', '2417', '2419', '2427', '2434', '2445', '2446', '2447', '2453', '2454', '2455', '2459', '2460', '2464', '2470', '2472', '2476', '2490', '2500', '2505', '2506', '2510', '2511', '2514', '2520', '2524', '2526', '2530', '2531', '2549', '2553', '2560', '2566', '2573', '2574', '2579', '2582', '2585', '2586', '2589', '2607', '2608', '2609', '2617', '2625', '2629', '2634', '2635', '2640', '2646', '2648', '2656', '2658', '2659', '2660', '2792', '2817', '2913', '2951', '3091', '3117', '3185', '3252', '3324', '3433', '3606', '3629', '3753', '3866', '1427', '1515', '1728', '1741', '1751', '1875', '1893', '1929', '1942', '1968', '1971', '1985', '1993', '1997', '2019', '2020', '2021', '2030', '2044', '2046', '2095', '2165', '2172', '2176', '2179', '2190', '2220', '2240', '2253', '2255', '2258', '2262', '2263', '2264', '2285', '2291', '2339', '2349', '2374', '2408', '2423', '2430', '2433', '2466', '2467', '2484', '2485', '2487', '2489', '2492', '2495', '2546', '2547', '2552', '2554', '2561', '2590', '2591', '2600', '2606', '2623', '2655', '2092']\n",
            "сообщество 2: ['2283', '2293', '2294', '2298', '2300', '2307', '2310', '2325', '2341', '2347', '2350', '2351', '2362', '2366', '2378', '2385', '2394', '2399', '2413', '2414', '2420', '2436', '2443', '2451', '2457', '2480', '2486', '2488', '2509', '2527', '2528', '2543', '2551', '2555', '2557', '2575', '2588', '2592', '2595', '2597', '2602', '2605', '2611', '2619', '2627', '2630', '2633', '2637', '2642', '2649', '2661', '2666', '2669', '2672', '2674', '2678', '2681', '2683', '2684', '2688', '2689', '2690', '2693', '2694', '2698', '2705', '2706', '2707', '2708', '2710', '2711', '2714', '2718', '2720', '2722', '2723', '2729', '2731', '2738', '2743', '2745', '2748', '2750', '2751', '2753', '2754', '2755', '2756', '2757', '2758', '2759', '2763', '2773', '2774', '2776', '2782', '2789', '2793', '2794', '2796', '2798', '2800', '2802', '2804', '2807', '2808', '2809', '2810', '2815', '2820', '2821', '2825', '2832', '2833', '2839', '2846', '2849', '2853', '2854', '2859', '2867', '2869', '2870', '2871', '2872', '2874', '2880', '2884', '2885', '2887', '2891', '2895', '2896', '2905', '2907', '2915', '2918', '2922', '2924', '2926', '2927', '2929', '2933', '2934', '2936', '2937', '2939', '2943', '2944', '2949', '2952', '2957', '2967', '2969', '2970', '2974', '2977', '2978', '2979', '2983', '2984', '2987', '2988', '2989', '2993', '2999', '3005', '3010', '3013', '3017', '3020', '3022', '3023', '3025', '3026', '3029', '3031', '3032', '3033', '3034', '3035', '3036', '3039', '3040', '3042', '3044', '3047', '3049', '3051', '3053', '3055', '3057', '3058', '3063', '3070', '3075', '3076', '3077', '3078', '3080', '3084', '3085', '3090', '3092', '3093', '3095', '3097', '3098', '3104', '3105', '3111', '3115', '3123', '3128', '3129', '3130', '3131', '3132', '3135', '3141', '3147', '3149', '3154', '3158', '3159', '3163', '3166', '3169', '3173', '3174', '3175', '3180', '3189', '3192', '3193', '3194', '3196', '3201', '3204', '3205', '3206', '3207', '3212', '3213', '3216', '3219', '3220', '3226', '3229', '3231', '3232', '3234', '3237', '3238', '3247', '3249', '3253', '3256', '3257', '3262', '3265', '3269', '3270', '3271', '3277', '3284', '3285', '3286', '3293', '3294', '3296', '3297', '3300', '3303', '3304', '3305', '3308', '3311', '3315', '3316', '3317', '3323', '3325', '3327', '3333', '3347', '3348', '3349', '3350', '3352', '3354', '3355', '3357', '3362', '3363', '3364', '3368', '3373', '3375', '3383', '3384', '3386', '3387', '3388', '3390', '3393', '3397', '3400', '3401', '3403', '3405', '3419', '3420', '3426', '3427', '3428', '3430', '3432', '3435', '3436', '3439', '3441', '3442', '3443', '3447', '3449', '3452', '3463', '3480', '3485', '3486', '3488', '3489', '3492', '3496', '3501', '3505', '3508', '3513', '3516', '3519', '3521', '3525', '3526', '3527', '3528', '3536', '3542', '3547', '3548', '3552', '3553', '3555', '3556', '3557', '3558', '3559', '3566', '3571', '3573', '3579', '3581', '3586', '3590', '3593', '3603', '3605', '3608', '3610', '3621', '3625', '3626', '3627', '3634', '3635', '3637', '3639', '3642', '3644', '3652', '3653', '3656', '3661', '3672', '3676', '3677', '3678', '3679', '3681', '3683', '3687', '3688', '3690', '3697', '3698', '3701', '3702', '3705', '3712', '3718', '3722', '3723', '3731', '3740', '3741', '3747', '3756', '3759', '3763', '3768', '3772', '3776', '3780', '3781', '3782', '3786', '3788', '3799', '3800', '3801', '3803', '3805', '3806', '3808', '3809', '3810', '3812', '3818', '3825', '3827', '3828', '3832', '3833', '3838', '3839', '3845', '3854', '3855', '3860', '3862', '3864', '3869', '3879', '3880', '3881', '3886', '3888', '3893', '3894', '3895', '3901', '3902', '3911', '3913', '3919', '3922', '3926', '3930', '3936', '3938', '3945', '3946', '3950', '3958', '3959', '3960', '3962', '3963', '3966', '3979', '3982', '3986', '4002', '4003', '4004', '4006', '4007', '4014', '4015', '4016', '4021', '4030', '4037', '4038', '2268', '2272', '2302', '2306', '2309', '2319', '2326', '2352', '2354', '2355', '2369', '2377', '2384', '2395', '2410', '2422', '2425', '2428', '2440', '2441', '2450', '2461', '2463', '2465', '2483', '2491', '2497', '2507', '2515', '2521', '2529', '2548', '2558', '2563', '2567', '2599', '2601', '2604', '2667', '2670', '2673', '2679', '2695', '2719', '2732', '2733', '2742', '2747', '2762', '2766', '2770', '2777', '2778', '2780', '2784', '2786', '2787', '2788', '2803', '2806', '2811', '2814', '2827', '2828', '2830', '2840', '2844', '2847', '2850', '2861', '2862', '2863', '2864', '2875', '2877', '2881', '2888', '2889', '2890', '2900', '2901', '2911', '2912', '2919', '2920', '2925', '2928', '2930', '2948', '2953', '2960', '2961', '2973', '2981', '2985', '2986', '2990', '3004', '3009', '3014', '3021', '3054', '3064', '3082', '3102', '3106', '3114', '3121', '3122', '3136', '3137', '3139', '3140', '3146', '3162', '3168', '3181', '3195', '3197', '3198', '3200', '3202', '3203', '3218', '3240', '3242', '3243', '3251', '3260', '3266', '3267', '3275', '3279', '3280', '3291', '3299', '3309', '3310', '3318', '3321', '3331', '3334', '3335', '3341', '3344', '3345', '3360', '3365', '3369', '3378', '3381', '3385', '3392', '3394', '3399', '3406', '3412', '3414', '3415', '3417', '3418', '3422', '3425', '3446', '3450', '3451', '3455', '3458', '3460', '3465', '3467', '3471', '3472', '3474', '3493', '3500', '3506', '3514', '3518', '3524', '3531', '3534', '3538', '3560', '3564', '3568', '3569', '3574', '3576', '3578', '3587', '3589', '3591', '3592', '3599', '3602', '3604', '3611', '3612', '3614', '3616', '3630', '3641', '3649', '3657', '3660', '3666', '3669', '3670', '3674', '3695', '3700', '3707', '3715', '3719', '3742', '3745', '3751', '3755', '3758', '3761', '3770', '3771', '3774', '3784', '3789', '3811', '3815', '3829', '3830', '3835', '3837', '3840', '3847', '3863', '3874', '3876', '3885', '3896', '3923', '3924', '3925', '3929', '3932', '3951', '3955', '3957', '3973', '3975', '3976', '3992', '4013', '4020', '2276', '2288', '2299', '2305', '2311', '2324', '2340', '2359', '2376', '2439', '2462', '2538', '2559', '2564', '2578', '2715', '2781', '2795', '3041', '3110', '3119', '3211', '3359', '3479', '3481', '3498', '3502', '3523', '3562', '3613', '3685', '3691', '3716', '3717', '3730', '3778', '3813', '3824', '3883', '3898', '3952', '3987', '3990', '4025', '2398', '3744', '3934', '3765', '2687']\n"
          ]
        },
        {
          "output_type": "stream",
          "name": "stderr",
          "text": [
            "/usr/local/lib/python3.10/dist-packages/sklearn/cluster/_kmeans.py:870: FutureWarning: The default value of `n_init` will change from 10 to 'auto' in 1.4. Set the value of `n_init` explicitly to suppress the warning\n",
            "  warnings.warn(\n"
          ]
        }
      ]
    },
    {
      "cell_type": "markdown",
      "source": [
        "##### 2. Spectral Clustering"
      ],
      "metadata": {
        "id": "JkBdrgVdWMaA"
      }
    },
    {
      "cell_type": "code",
      "source": [
        "from sklearn.cluster import SpectralClustering"
      ],
      "metadata": {
        "id": "m_C0XGcH9e6S"
      },
      "execution_count": null,
      "outputs": []
    },
    {
      "cell_type": "code",
      "source": [
        "# выделение сообществ методом Spectral Clustering\n",
        "def spectral_clustering_community_detection(graph, num_communities):\n",
        "    # получаем матрицу смежности графа в виде массива numpy\n",
        "    adjacency_matrix = nx.to_numpy_array(graph)\n",
        "    # применяем Spectral Clustering\n",
        "    spectral_clustering = SpectralClustering(n_clusters=num_communities, affinity='nearest_neighbors', random_state=42)\n",
        "    labels = spectral_clustering.fit_predict(adjacency_matrix)\n",
        "    # формируем словарь, где ключами являются метки кластеров, а значениями - списки вершин в каждом кластере\n",
        "    communities = {}\n",
        "    for node, label in zip(graph.nodes(), labels):\n",
        "        if label not in communities:\n",
        "            communities[label] = []\n",
        "        communities[label].append(node)\n",
        "\n",
        "    return communities"
      ],
      "metadata": {
        "id": "IZ3pz4suFMxE"
      },
      "execution_count": null,
      "outputs": []
    },
    {
      "cell_type": "code",
      "source": [
        "# пример использования для графа G_facebook с 5 сообществами\n",
        "num_communities = 5\n",
        "facebook_communities = spectral_clustering_community_detection(G_facebook, num_communities)\n",
        "print(\"сообщества, выделенные методом Spectral Clustering, для графа G_facebook:\")\n",
        "for label, nodes in facebook_communities.items():\n",
        "    print(f\"сообщество {label + 1}: {nodes}\")"
      ],
      "metadata": {
        "colab": {
          "base_uri": "https://localhost:8080/"
        },
        "id": "5dwC8A9S9o9f",
        "outputId": "047f90f7-7957-421e-e942-a69a45fcbcd8"
      },
      "execution_count": null,
      "outputs": [
        {
          "output_type": "stream",
          "name": "stderr",
          "text": [
            "/usr/local/lib/python3.10/dist-packages/sklearn/cluster/_spectral.py:717: UserWarning: The spectral clustering API has changed. ``fit``now constructs an affinity matrix from data. To use a custom affinity matrix, set ``affinity=precomputed``.\n",
            "  warnings.warn(\n",
            "/usr/local/lib/python3.10/dist-packages/sklearn/manifold/_spectral_embedding.py:274: UserWarning: Graph is not fully connected, spectral embedding may not work as expected.\n",
            "  warnings.warn(\n"
          ]
        },
        {
          "output_type": "stream",
          "name": "stdout",
          "text": [
            "сообщества, выделенные методом Spectral Clustering, для графа G_facebook:\n",
            "сообщество 1: ['0', '2', '3', '4', '5', '6', '7', '8', '9', '10', '13', '14', '17', '19', '20', '22', '24', '25', '26', '27', '31', '33', '34', '35', '38', '39', '40', '41', '42', '44', '46', '50', '54', '55', '57', '58', '63', '64', '65', '67', '69', '70', '71', '72', '73', '74', '75', '76', '79', '82', '85', '87', '89', '91', '92', '93', '95', '97', '98', '100', '101', '102', '103', '105', '106', '107', '108', '109', '112', '113', '115', '118', '119', '120', '121', '123', '124', '125', '127', '130', '132', '134', '137', '138', '139', '141', '143', '145', '146', '151', '152', '153', '156', '157', '158', '159', '160', '161', '163', '164', '165', '166', '168', '169', '170', '171', '172', '173', '174', '175', '176', '180', '181', '184', '185', '187', '188', '189', '191', '192', '193', '196', '197', '199', '200', '202', '204', '206', '208', '209', '211', '212', '214', '215', '216', '218', '219', '220', '221', '224', '225', '226', '230', '232', '238', '241', '242', '244', '247', '248', '249', '254', '255', '258', '259', '260', '261', '262', '263', '265', '266', '267', '268', '271', '274', '275', '276', '277', '280', '281', '282', '283', '284', '285', '286', '288', '289', '290', '291', '293', '294', '295', '297', '299', '305', '306', '307', '308', '311', '312', '313', '314', '317', '318', '320', '321', '323', '324', '325', '326', '328', '329', '331', '332', '335', '339', '342', '343', '344', '346', '347', '348', '349', '350', '351', '352', '354', '355', '357', '359', '361', '363', '364', '365', '366', '367', '368', '369', '372', '374', '375', '376', '377', '378', '380', '382', '383', '384', '387', '388', '389', '391', '394', '395', '396', '397', '398', '400', '401', '402', '403', '404', '405', '406', '407', '408', '409', '413', '414', '415', '418', '419', '420', '421', '422', '424', '425', '426', '427', '428', '430', '431', '432', '433', '434', '435', '436', '437', '438', '439', '440', '441', '443', '444', '445', '448', '449', '450', '451', '452', '454', '455', '456', '457', '458', '459', '460', '462', '464', '465', '466', '467', '469', '470', '471', '474', '475', '476', '477', '478', '479', '480', '481', '482', '483', '484', '485', '486', '487', '488', '489', '490', '491', '493', '494', '495', '496', '500', '501', '502', '504', '505', '506', '507', '508', '509', '510', '511', '512', '513', '514', '515', '516', '517', '518', '519', '520', '522', '523', '525', '526', '529', '530', '531', '532', '533', '534', '535', '536', '538', '539', '540', '541', '543', '544', '545', '546', '549', '550', '551', '552', '554', '556', '557', '558', '559', '561', '562', '563', '568', '569', '570', '573', '575', '578', '579', '581', '582', '583', '585', '588', '589', '592', '593', '594', '596', '597', '598', '600', '603', '604', '605', '606', '608', '609', '610', '611', '614', '617', '618', '619', '620', '622', '625', '626', '627', '628', '630', '631', '632', '633', '634', '637', '639', '642', '643', '644', '645', '646', '647', '649', '651', '653', '654', '655', '656', '657', '658', '661', '662', '664', '665', '666', '669', '670', '671', '673', '675', '676', '677', '678', '680', '681', '682', '683', '684', '687', '688', '690', '692', '694', '695', '696', '698', '699', '700', '701', '706', '708', '712', '715', '721', '722', '723', '724', '725', '726', '727', '729', '730', '731', '735', '738', '744', '747', '748', '750', '752', '760', '761', '762', '763', '766', '767', '769', '771', '773', '774', '775', '776', '777', '785', '796', '797', '802', '803', '804', '806', '810', '816', '818', '825', '829', '831', '832', '833', '834', '839', '840', '846', '847', '849', '850', '856', '858', '859', '860', '863', '864', '865', '866', '868', '869', '870', '873', '874', '876', '877', '878', '879', '881', '883', '887', '888', '889', '891', '892', '893', '894', '895', '896', '898', '900', '901', '902', '903', '904', '905', '906', '909', '912', '913', '914', '915', '917', '921', '922', '924', '926', '927', '928', '929', '930', '931', '932', '934', '935', '936', '939', '940', '942', '943', '944', '945', '948', '949', '950', '951', '952', '955', '956', '957', '958', '960', '961', '962', '963', '964', '966', '968', '969', '970', '971', '973', '975', '976', '977', '978', '979', '980', '981', '984', '985', '986', '987', '988', '990', '992', '995', '996', '997', '998', '1003', '1005', '1006', '1007', '1008', '1010', '1011', '1013', '1014', '1015', '1016', '1019', '1020', '1021', '1022', '1025', '1026', '1027', '1029', '1030', '1031', '1032', '1033', '1035', '1037', '1041', '1042', '1044', '1045', '1048', '1049', '1050', '1051', '1052', '1053', '1054', '1057', '1058', '1059', '1061', '1062', '1064', '1066', '1068', '1070', '1071', '1073', '1074', '1075', '1077', '1078', '1081', '1082', '1083', '1084', '1085', '1086', '1087', '1088', '1089', '1090', '1093', '1095', '1096', '1097', '1098', '1099', '1100', '1102', '1104', '1105', '1106', '1107', '1108', '1109', '1110', '1111', '1112', '1113', '1114', '1115', '1116', '1118', '1120', '1121', '1122', '1123', '1126', '1128', '1129', '1131', '1132', '1135', '1136', '1138', '1139', '1143', '1144', '1146', '1147', '1151', '1152', '1153', '1154', '1158', '1159', '1160', '1161', '1163', '1164', '1165', '1166', '1167', '1168', '1170', '1171', '1172', '1175', '1176', '1177', '1178', '1179', '1180', '1183', '1184', '1185', '1186', '1187', '1188', '1189', '1190', '1193', '1195', '1199', '1202', '1203', '1205', '1206', '1207', '1209', '1213', '1216', '1217', '1218', '1219', '1221', '1222', '1223', '1224', '1225', '1226', '1227', '1229', '1230', '1231', '1232', '1236', '1238', '1239', '1241', '1242', '1244', '1245', '1246', '1247', '1248', '1249', '1250', '1251', '1252', '1256', '1258', '1259', '1260', '1261', '1262', '1263', '1264', '1265', '1267', '1269', '1272', '1275', '1277', '1278', '1279', '1280', '1281', '1282', '1283', '1286', '1288', '1291', '1292', '1293', '1294', '1296', '1297', '1298', '1299', '1300', '1301', '1302', '1304', '1305', '1306', '1307', '1308', '1310', '1311', '1313', '1314', '1316', '1317', '1318', '1320', '1322', '1323', '1325', '1328', '1332', '1333', '1334', '1337', '1338', '1340', '1341', '1343', '1344', '1345', '1346', '1347', '1348', '1349', '1350', '1351', '1352', '1353', '1354', '1355', '1356', '1357', '1359', '1360', '1361', '1362', '1363', '1364', '1366', '1367', '1368', '1369', '1371', '1373', '1374', '1375', '1377', '1379', '1382', '1385', '1386', '1387', '1388', '1389', '1390', '1391', '1392', '1393', '1399', '1401', '1404', '1406', '1407', '1408', '1409', '1410', '1412', '1415', '1416', '1418', '1420', '1421', '1422', '1424', '1426', '1428', '1429', '1430', '1431', '1432', '1435', '1436', '1438', '1439', '1443', '1444', '1448', '1449', '1450', '1452', '1453', '1454', '1456', '1459', '1460', '1461', '1462', '1467', '1468', '1469', '1470', '1471', '1472', '1473', '1479', '1480', '1481', '1482', '1484', '1486', '1490', '1491', '1494', '1496', '1499', '1500', '1501', '1502', '1503', '1504', '1507', '1512', '1513', '1514', '1516', '1517', '1520', '1525', '1527', '1528', '1529', '1531', '1533', '1534', '1535', '1536', '1538', '1539', '1541', '1542', '1543', '1544', '1545', '1546', '1547', '1548', '1549', '1553', '1554', '1555', '1557', '1558', '1561', '1562', '1564', '1565', '1569', '1570', '1571', '1572', '1573', '1574', '1575', '1578', '1579', '1582', '1583', '1584', '1587', '1588', '1591', '1596', '1599', '1600', '1601', '1602', '1603', '1604', '1606', '1607', '1608', '1609', '1610', '1611', '1615', '1620', '1621', '1622', '1624', '1625', '1628', '1629', '1630', '1631', '1632', '1633', '1634', '1635', '1636', '1639', '1640', '1641', '1642', '1645', '1646', '1649', '1650', '1652', '1653', '1656', '1658', '1660', '1663', '1664', '1666', '1667', '1668', '1669', '1670', '1671', '1672', '1673', '1675', '1676', '1677', '1678', '1679', '1681', '1683', '1684', '1685', '1686', '1687', '1688', '1689', '1690', '1691', '1693', '1695', '1696', '1699', '1701', '1703', '1708', '1709', '1713', '1714', '1719', '1720', '1721', '1726', '1727', '1729', '1730', '1731', '1733', '1734', '1737', '1738', '1740', '1742', '1744', '1745', '1746', '1747', '1748', '1756', '1757', '1758', '1759', '1760', '1761', '1763', '1764', '1765', '1767', '1770', '1771', '1776', '1777', '1778', '1780', '1781', '1782', '1783', '1784', '1786', '1788', '1789', '1792', '1794', '1795', '1796', '1798', '1800', '1802', '1803', '1804', '1807', '1809', '1810', '1811', '1813', '1814', '1815', '1816', '1818', '1819', '1820', '1823', '1825', '1826', '1828', '1829', '1830', '1831', '1832', '1833', '1837', '1840', '1842', '1843', '1844', '1845', '1847', '1850', '1851', '1852', '1854', '1857', '1859', '1860', '1861', '1862', '1863', '1864', '1866', '1867', '1868', '1870', '1871', '1872', '1873', '1874', '1876', '1877', '1880', '1883', '1884', '1885', '1887', '1888', '1889', '1891', '1892', '1894', '1895', '1896', '1897', '1898', '1899', '1903', '1904', '1905', '1906', '1907', '1908', '1910', '2661', '2662', '2663', '2666', '2669', '2672', '2674', '2675', '2676', '2677', '2678', '2680', '2681', '2682', '2683', '2684', '2685', '2688', '2689', '2690', '2691', '2693', '2694', '2696', '2697', '2698', '2699', '2700', '2701', '2702', '2703', '2704', '2705', '2706', '2707', '2708', '2709', '2710', '2711', '2712', '2714', '2718', '2720', '2722', '2723', '2724', '2725', '2726', '2729', '2730', '2731', '2734', '2736', '2737', '2738', '2740', '2741', '2743', '2744', '2745', '2748', '2750', '2751', '2752', '2753', '2754', '2755', '2756', '2757', '2758', '2759', '2761', '2763', '2764', '2765', '2767', '2768', '2769', '2771', '2773', '2774', '2776', '2779', '2782', '2789', '2793', '2794', '2796', '2797', '2798', '2800', '2801', '2802', '2804', '2805', '2807', '2808', '2809', '2810', '2812', '2813', '2815', '2816', '2819', '2820', '2821', '2822', '2823', '2825', '2826', '2829', '2832', '2833', '2834', '2836', '2837', '2838', '2839', '2841', '2842', '2843', '2845', '2846', '2848', '2849', '2852', '2853', '2854', '2857', '2858', '2859', '2860', '2866', '2867', '2868', '2869', '2870', '2871', '2872', '2873', '2874', '2879', '2880', '2883', '2884', '2885', '2887', '2891', '2892', '2893', '2894', '2895', '2896', '2898', '2899', '2902', '2903', '2904', '2905', '2906', '2907', '2914', '2915', '2917', '2918', '2921', '2922', '2924', '2926', '2927', '2929', '2933', '2934', '2935', '2936', '2937', '2938', '2939', '2941', '2942', '2943', '2944', '2945', '2949', '2952', '2954', '2955', '2956', '2957', '2963', '2964', '2966', '2967', '2968', '2969', '2970', '2972', '2974', '2977', '2978', '2979', '2983', '2984', '2987', '2988', '2989', '2991', '2993', '2994', '2995', '2996', '2998', '2999', '3000', '3001', '3002', '3003', '3005', '3006', '3010', '3011', '3012', '3013', '3015', '3017', '3019', '3020', '3022', '3023', '3024', '3025', '3026', '3027', '3028', '3029', '3030', '3031', '3032', '3033', '3034', '3035', '3036', '3039', '3040', '3042', '3044', '3045', '3047', '3049', '3050', '3051', '3052', '3053', '3055', '3056', '3057', '3058', '3059', '3060', '3061', '3062', '3063', '3065', '3066', '3068', '3069', '3070', '3071', '3072', '3074', '3075', '3076', '3077', '3078', '3079', '3080', '3083', '3084', '3085', '3090', '3092', '3093', '3095', '3096', '3097', '3098', '3099', '3104', '3105', '3107', '3108', '3111', '3115', '3118', '3123', '3125', '3127', '3128', '3129', '3130', '3131', '3132', '3135', '3141', '3142', '3143', '3147', '3149', '3152', '3153', '3154', '3155', '3156', '3157', '3158', '3159', '3160', '3161', '3163', '3164', '3166', '3169', '3171', '3173', '3174', '3175', '3176', '3177', '3179', '3180', '3182', '3183', '3186', '3187', '3189', '3190', '3192', '3193', '3194', '3196', '3199', '3201', '3204', '3205', '3206', '3207', '3212', '3213', '3214', '3216', '3217', '3219', '3220', '3221', '3222', '3223', '3225', '3226', '3227', '3229', '3230', '3231', '3232', '3233', '3234', '3236', '3237', '3238', '3246', '3247', '3248', '3249', '3250', '3253', '3254', '3256', '3257', '3258', '3259', '3262', '3263', '3264', '3265', '3268', '3269', '3270', '3271', '3273', '3274', '3276', '3277', '3278', '3281', '3282', '3283', '3284', '3285', '3286', '3287', '3289', '3290', '3293', '3294', '3296', '3297', '3298', '3300', '3301', '3302', '3303', '3304', '3305', '3307', '3308', '3311', '3313', '3315', '3316', '3317', '3319', '3322', '3323', '3325', '3327', '3328', '3329', '3332', '3333', '3337', '3338', '3339', '3340', '3343', '3347', '3348', '3349', '3350', '3352', '3354', '3355', '3357', '3361', '3362', '3363', '3364', '3366', '3368', '3370', '3371', '3373', '3375', '3376', '3377', '3380', '3382', '3383', '3384', '3386', '3387', '3388', '3390', '3393', '3395', '3396', '3397', '3398', '3400', '3401', '3403', '3404', '3405', '3407', '3408', '3410', '3411', '3413', '3416', '3419', '3420', '3424', '3426', '3427', '3428', '3430', '3432', '3434', '3435', '3436', '3982', '3983', '3984', '3985', '3986', '3988', '3989', '3991', '3993', '3995', '3996', '3997', '3998', '3999', '4000', '4002', '4003', '4004', '4005', '4006', '4007', '4008', '4009', '4010', '4011', '4014', '4015', '4016', '4017', '4019', '4021', '4023', '4026', '4027', '4028', '4030', '4031', '4032', '4034', '4037', '4038', '1', '11', '12', '15', '16', '18', '21', '23', '28', '30', '32', '36', '37', '43', '45', '47', '48', '49', '52', '53', '56', '59', '60', '61', '62', '66', '68', '77', '78', '80', '81', '84', '86', '88', '90', '94', '96', '99', '104', '110', '111', '114', '116', '117', '122', '126', '128', '129', '131', '133', '135', '140', '142', '144', '147', '149', '150', '154', '155', '162', '167', '177', '178', '179', '182', '183', '186', '190', '194', '195', '198', '201', '203', '205', '207', '210', '213', '223', '227', '228', '229', '231', '233', '234', '235', '236', '237', '239', '240', '243', '245', '246', '250', '251', '252', '253', '256', '257', '264', '269', '270', '272', '273', '278', '279', '287', '292', '296', '298', '300', '301', '302', '303', '304', '309', '310', '315', '316', '319', '322', '327', '330', '333', '334', '336', '337', '338', '340', '341', '345', '353', '356', '360', '362', '370', '371', '373', '385', '386', '390', '392', '393', '399', '411', '412', '416', '417', '423', '429', '446', '453', '461', '463', '472', '473', '492', '497', '503', '521', '524', '527', '528', '537', '542', '547', '548', '553', '560', '564', '565', '566', '567', '571', '577', '580', '586', '587', '590', '591', '601', '612', '613', '623', '624', '629', '652', '660', '663', '667', '672', '691', '693', '697', '702', '703', '705', '707', '709', '710', '714', '716', '718', '719', '720', '732', '733', '736', '740', '741', '742', '743', '749', '751', '753', '754', '755', '758', '759', '764', '765', '768', '778', '779', '781', '782', '783', '786', '787', '788', '789', '790', '792', '793', '794', '801', '805', '809', '811', '814', '817', '821', '822', '824', '828', '835', '836', '837', '838', '841', '842', '843', '844', '848', '851', '852', '853', '855', '867', '871', '880', '884', '885', '897', '899', '907', '908', '910', '911', '916', '918', '920', '925', '938', '946', '947', '953', '959', '967', '972', '982', '983', '991', '993', '994', '1002', '1004', '1012', '1017', '1023', '1024', '1028', '1034', '1039', '1040', '1043', '1055', '1056', '1060', '1063', '1069', '1076', '1079', '1080', '1091', '1092', '1101', '1117', '1119', '1124', '1125', '1130', '1133', '1137', '1140', '1141', '1145', '1149', '1150', '1155', '1157', '1173', '1174', '1181', '1182', '1191', '1196', '1197', '1198', '1200', '1201', '1208', '1210', '1211', '1212', '1214', '1234', '1237', '1240', '1243', '1254', '1255', '1266', '1268', '1271', '1274', '1276', '1289', '1290', '1312', '1321', '1327', '1329', '1330', '1331', '1335', '1336', '1339', '1342', '1358', '1365', '1370', '1376', '1378', '1380', '1383', '1384', '1394', '1395', '1397', '1398', '1400', '1402', '1403', '1405', '1411', '1414', '1417', '1419', '1423', '1433', '1434', '1437', '1440', '1442', '1445', '1446', '1447', '1457', '1458', '1463', '1464', '1476', '1477', '1478', '1483', '1485', '1487', '1488', '1493', '1497', '1498', '1505', '1509', '1511', '1518', '1519', '1521', '1522', '1523', '1524', '1526', '1530', '1532', '1537', '1540', '1551', '1552', '1556', '1559', '1563', '1566', '1567', '1568', '1580', '1581', '1585', '1589', '1590', '1592', '1593', '1594', '1597', '1598', '1605', '1612', '1613', '1614', '1616', '1617', '1618', '1619', '1623', '1626', '1627', '1637', '1643', '1644', '1648', '1651', '1654', '1657', '1659', '1662', '1665', '1674', '1680', '1692', '1694', '1697', '1698', '1700', '1702', '1705', '1707', '1710', '1711', '1712', '1716', '1717', '1722', '1723', '1724', '1735', '1736', '1739', '1750', '1752', '1753', '1754', '1755', '1762', '1768', '1769', '1772', '1773', '1774', '1779', '1787', '1790', '1791', '1793', '1797', '1799', '1801', '1805', '1806', '1808', '1817', '1821', '1822', '1824', '1827', '1834', '1835', '1836', '1838', '1839', '1846', '1849', '1853', '1856', '1858', '1865', '1878', '1879', '1881', '1882', '1886', '1890', '1900', '1901', '1902', '1909', '1911', '2664', '2665', '2667', '2668', '2670', '2671', '2673', '2679', '2686', '2692', '2695', '2713', '2716', '2717', '2719', '2721', '2727', '2728', '2732', '2733', '2739', '2742', '2746', '2747', '2749', '2760', '2762', '2766', '2770', '2772', '2775', '2777', '2778', '2780', '2783', '2784', '2786', '2787', '2788', '2790', '2791', '2792', '2799', '2803', '2806', '2811', '2814', '2817', '2818', '2824', '2827', '2828', '2830', '2831', '2835', '2840', '2844', '2847', '2850', '2851', '2855', '2861', '2862', '2863', '2864', '2865', '2875', '2876', '2877', '2881', '2882', '2886', '2888', '2889', '2890', '2897', '2900', '2901', '2908', '2909', '2910', '2911', '2912', '2913', '2916', '2919', '2920', '2923', '2925', '2928', '2930', '2931', '2932', '2940', '2946', '2947', '2948', '2950', '2951', '2953', '2958', '2960', '2961', '2962', '2965', '2971', '2973', '2975', '2976', '2980', '2981', '2982', '2985', '2986', '2990', '2992', '2997', '3004', '3007', '3008', '3009', '3014', '3016', '3018', '3021', '3037', '3038', '3043', '3046', '3048', '3054', '3064', '3067', '3073', '3081', '3082', '3086', '3087', '3088', '3089', '3091', '3094', '3100', '3101', '3102', '3103', '3106', '3109', '3112', '3113', '3114', '3116', '3117', '3120', '3121', '3122', '3124', '3126', '3133', '3134', '3136', '3137', '3138', '3139', '3140', '3144', '3145', '3146', '3148', '3150', '3151', '3162', '3165', '3167', '3168', '3170', '3172', '3178', '3181', '3184', '3185', '3188', '3191', '3195', '3197', '3198', '3200', '3202', '3203', '3208', '3209', '3210', '3215', '3218', '3224', '3228', '3235', '3239', '3240', '3241', '3242', '3243', '3244', '3245', '3251', '3252', '3255', '3260', '3261', '3266', '3267', '3272', '3275', '3279', '3280', '3288', '3291', '3292', '3295', '3299', '3306', '3309', '3310', '3312', '3318', '3320', '3321', '3324', '3326', '3330', '3331', '3334', '3335', '3336', '3341', '3342', '3344', '3345', '3346', '3351', '3353', '3356', '3358', '3360', '3365', '3367', '3369', '3372', '3374', '3378', '3379', '3381', '3385', '3389', '3391', '3392', '3394', '3399', '3402', '3406', '3409', '3412', '3414', '3415', '3417', '3418', '3421', '3422', '3423', '3425', '3429', '3431', '3433', '3981', '3992', '3994', '4001', '4012', '4013', '4018', '4020', '4022', '4024', '4029', '4033', '4035', '4036', '29', '51', '83', '217', '222', '379', '381', '410', '442', '468', '498', '499', '555', '572', '574', '576', '584', '595', '599', '615', '616', '621', '635', '636', '640', '641', '648', '650', '659', '679', '685', '689', '704', '711', '713', '717', '728', '737', '739', '745', '746', '756', '757', '770', '772', '780', '791', '795', '798', '799', '800', '807', '808', '813', '815', '819', '820', '823', '826', '827', '845', '854', '861', '872', '882', '886', '890', '919', '923', '933', '937', '941', '954', '965', '974', '989', '999', '1000', '1001', '1009', '1018', '1036', '1038', '1046', '1047', '1065', '1067', '1094', '1103', '1127', '1134', '1142', '1148', '1156', '1162', '1169', '1192', '1194', '1204', '1215', '1220', '1228', '1233', '1235', '1253', '1257', '1270', '1273', '1284', '1285', '1287', '1295', '1303', '1309', '1315', '1319', '1324', '1326', '1372', '1381', '1396', '1413', '1425', '1427', '1441', '1451', '1455', '1466', '1474', '1475', '1489', '1492', '1495', '1506', '1508', '1510', '1515', '1550', '1560', '1576', '1586', '1595', '1638', '1647', '1655', '1661', '1682', '1704', '1706', '1715', '1725', '1728', '1732', '1741', '1743', '1749', '1751', '1766', '1775', '1785', '1812', '1841', '1848', '1855', '1869', '1875', '1893', '2715', '2735', '2781', '2785', '2795', '2856', '2878', '2959', '3041', '3110', '3119', '3211', '3314', '3359', '3987', '3990', '4025', '148', '734', '812', '830', '1072', '2687', '784', '358', '447', '602', '607', '638', '668', '674', '3980', '686', '875']\n",
            "сообщество 2: ['136', '1465', '1577', '1718', '1913', '1914', '1915', '1917', '1922', '1923', '1924', '1931', '1932', '1933', '1934', '1936', '1937', '1939', '1941', '1943', '1946', '1947', '1948', '1950', '1952', '1953', '1955', '1956', '1957', '1959', '1962', '1964', '1966', '1967', '1972', '1973', '1975', '1977', '1978', '1979', '1980', '1983', '1984', '1986', '1989', '1991', '1992', '1994', '1995', '1998', '1999', '2000', '2001', '2002', '2006', '2007', '2012', '2016', '2018', '2023', '2025', '2026', '2027', '2028', '2029', '2031', '2032', '2036', '2037', '2038', '2040', '2041', '2042', '2045', '2047', '2049', '2050', '2052', '2053', '2054', '2055', '2057', '2058', '2059', '2060', '2061', '2062', '2064', '2066', '2069', '2070', '2071', '2072', '2076', '2077', '2078', '2080', '2083', '2084', '2090', '2093', '2096', '2099', '2101', '2102', '2104', '2105', '2106', '2108', '2109', '2112', '2114', '2115', '2116', '2118', '2122', '2123', '2125', '2128', '2131', '2132', '2135', '2136', '2138', '2143', '2146', '2147', '2148', '2150', '2151', '2152', '2159', '2161', '2162', '2163', '2164', '2166', '2168', '2169', '2170', '2171', '2173', '2174', '2177', '2178', '2183', '2187', '2188', '2191', '2194', '2196', '2197', '2200', '2201', '2203', '2204', '2206', '2210', '2211', '2212', '2213', '2215', '2216', '2217', '2218', '2221', '2222', '2223', '2224', '2225', '2226', '2229', '2231', '2232', '2235', '2236', '2238', '2239', '2242', '2243', '2245', '2250', '2252', '2265', '2266', '2267', '2271', '2273', '2274', '2275', '2279', '2280', '2281', '2283', '2284', '2286', '2293', '2294', '2298', '2300', '2301', '2303', '2307', '2308', '2310', '2312', '2314', '2315', '2316', '2317', '2318', '2320', '2321', '2325', '2327', '2328', '2329', '2330', '2332', '2334', '2336', '2337', '2338', '2341', '2345', '2346', '2347', '2350', '2351', '2353', '2356', '2357', '2360', '2362', '2363', '2364', '2365', '2366', '2367', '2368', '2370', '2372', '2375', '2378', '2379', '2381', '2382', '2385', '2386', '2388', '2390', '2391', '2392', '2394', '2399', '2402', '2403', '2404', '2406', '2412', '2413', '2414', '2418', '2420', '2421', '2424', '2426', '2429', '2435', '2436', '2438', '2442', '2443', '2444', '2449', '2451', '2452', '2456', '2457', '2458', '2468', '2469', '2471', '2473', '2477', '2479', '2480', '2486', '2488', '2493', '2494', '2498', '2499', '2501', '2502', '2503', '2504', '2509', '2512', '2516', '2517', '2518', '2522', '2523', '2527', '2528', '2534', '2535', '2539', '2540', '2541', '2542', '2543', '2544', '2545', '2550', '2551', '2555', '2556', '2557', '2568', '2570', '2571', '2572', '2575', '2576', '2577', '2580', '2583', '2587', '2588', '2592', '2593', '2594', '2595', '2596', '2597', '2598', '2602', '2603', '2605', '2610', '2611', '2612', '2613', '2615', '2616', '2619', '2620', '2621', '2622', '2626', '2627', '2628', '2630', '2631', '2632', '2633', '2636', '2637', '2638', '2639', '2641', '2642', '2643', '2645', '2647', '2649', '2650', '2651', '2652', '2653', '2654', '2657', '1916', '1918', '1919', '1920', '1921', '1925', '1926', '1927', '1928', '1930', '1935', '1938', '1940', '1944', '1945', '1949', '1951', '1954', '1960', '1961', '1963', '1965', '1969', '1970', '1974', '1976', '1981', '1982', '1987', '1988', '1990', '1996', '2003', '2004', '2005', '2008', '2009', '2010', '2011', '2013', '2014', '2015', '2017', '2022', '2024', '2033', '2034', '2035', '2039', '2043', '2048', '2051', '2056', '2063', '2065', '2067', '2068', '2073', '2074', '2075', '2079', '2081', '2082', '2085', '2086', '2087', '2088', '2089', '2091', '2094', '2097', '2098', '2100', '2103', '2107', '2110', '2111', '2113', '2117', '2119', '2120', '2121', '2124', '2126', '2127', '2129', '2130', '2133', '2134', '2137', '2139', '2140', '2141', '2142', '2144', '2145', '2149', '2153', '2154', '2155', '2156', '2157', '2158', '2160', '2167', '2175', '2180', '2181', '2182', '2184', '2185', '2186', '2189', '2192', '2193', '2195', '2198', '2199', '2202', '2205', '2207', '2208', '2209', '2214', '2219', '2227', '2228', '2230', '2233', '2234', '2237', '2241', '2244', '2246', '2247', '2248', '2249', '2251', '2254', '2256', '2257', '2259', '2260', '2261', '2268', '2269', '2270', '2272', '2277', '2278', '2282', '2287', '2289', '2290', '2292', '2295', '2296', '2297', '2302', '2304', '2306', '2309', '2313', '2319', '2322', '2323', '2326', '2331', '2333', '2335', '2342', '2343', '2344', '2348', '2352', '2354', '2355', '2358', '2361', '2369', '2371', '2373', '2377', '2380', '2383', '2384', '2387', '2389', '2393', '2395', '2396', '2397', '2400', '2401', '2405', '2407', '2409', '2410', '2411', '2415', '2416', '2417', '2419', '2422', '2425', '2427', '2428', '2431', '2432', '2434', '2440', '2441', '2445', '2446', '2447', '2448', '2450', '2453', '2454', '2455', '2459', '2460', '2461', '2463', '2464', '2465', '2470', '2472', '2474', '2475', '2476', '2481', '2483', '2490', '2491', '2497', '2500', '2505', '2506', '2507', '2508', '2510', '2511', '2513', '2514', '2515', '2519', '2520', '2521', '2524', '2525', '2526', '2529', '2530', '2531', '2532', '2533', '2536', '2537', '2548', '2549', '2553', '2558', '2560', '2562', '2563', '2565', '2566', '2567', '2569', '2573', '2574', '2579', '2581', '2582', '2584', '2585', '2586', '2589', '2599', '2601', '2604', '2607', '2608', '2609', '2614', '2617', '2618', '2624', '2625', '2629', '2634', '2635', '2640', '2644', '2646', '2648', '2656', '2658', '2659', '2660', '1929', '1942', '1958', '1968', '1971', '1985', '1993', '1997', '2019', '2020', '2021', '2030', '2044', '2046', '2095', '2165', '2172', '2176', '2179', '2190', '2220', '2240', '2253', '2255', '2258', '2262', '2263', '2264', '2276', '2285', '2288', '2291', '2299', '2305', '2311', '2324', '2339', '2340', '2349', '2359', '2374', '2376', '2408', '2423', '2430', '2433', '2437', '2439', '2462', '2466', '2467', '2478', '2482', '2484', '2485', '2487', '2489', '2492', '2495', '2496', '2538', '2546', '2547', '2552', '2554', '2559', '2561', '2564', '2578', '2590', '2591', '2600', '2606', '2623', '2655', '2092', '2398', '1912']\n",
            "сообщество 3: ['857', '862', '3439', '3440', '3441', '3442', '3443', '3445', '3447', '3448', '3449', '3452', '3453', '3454', '3457', '3461', '3463', '3469', '3475', '3478', '3480', '3482', '3484', '3485', '3486', '3487', '3488', '3489', '3491', '3492', '3494', '3495', '3496', '3497', '3499', '3501', '3503', '3504', '3505', '3507', '3508', '3509', '3510', '3511', '3512', '3513', '3515', '3517', '3520', '3521', '3525', '3526', '3527', '3528', '3529', '3530', '3533', '3536', '3537', '3539', '3540', '3542', '3543', '3544', '3546', '3547', '3548', '3550', '3551', '3552', '3553', '3554', '3555', '3556', '3557', '3558', '3559', '3561', '3563', '3565', '3566', '3567', '3572', '3573', '3577', '3582', '3583', '3584', '3586', '3588', '3590', '3593', '3595', '3596', '3598', '3603', '3605', '3607', '3608', '3609', '3610', '3615', '3618', '3619', '3620', '3621', '3622', '3625', '3626', '3627', '3632', '3634', '3635', '3637', '3638', '3640', '3642', '3643', '3644', '3648', '3652', '3653', '3656', '3658', '3661', '3663', '3664', '3665', '3667', '3671', '3672', '3673', '3676', '3677', '3678', '3679', '3681', '3683', '3684', '3687', '3688', '3689', '3690', '3693', '3697', '3698', '3702', '3703', '3704', '3705', '3712', '3713', '3718', '3720', '3721', '3722', '3723', '3727', '3731', '3732', '3733', '3736', '3738', '3739', '3740', '3741', '3747', '3748', '3750', '3752', '3754', '3756', '3763', '3764', '3766', '3767', '3768', '3772', '3775', '3776', '3779', '3780', '3781', '3782', '3783', '3785', '3786', '3787', '3788', '3791', '3794', '3795', '3796', '3797', '3799', '3800', '3801', '3802', '3803', '3804', '3805', '3806', '3808', '3809', '3810', '3812', '3817', '3818', '3819', '3820', '3821', '3822', '3825', '3826', '3827', '3828', '3831', '3832', '3833', '3838', '3839', '3841', '3842', '3845', '3848', '3849', '3851', '3852', '3853', '3854', '3855', '3856', '3857', '3859', '3860', '3862', '3864', '3865', '3869', '3871', '3872', '3875', '3879', '3880', '3881', '3886', '3887', '3888', '3889', '3890', '3891', '3892', '3893', '3894', '3895', '3897', '3901', '3902', '3904', '3905', '3908', '3909', '3911', '3912', '3913', '3914', '3915', '3916', '3917', '3922', '3926', '3927', '3928', '3930', '3931', '3933', '3935', '3936', '3938', '3939', '3940', '3942', '3943', '3944', '3945', '3946', '3948', '3950', '3953', '3954', '3956', '3958', '3959', '3960', '3962', '3963', '3966', '3968', '3969', '3970', '3974', '3977', '3978', '3979', '3438', '3444', '3446', '3450', '3451', '3455', '3456', '3458', '3459', '3460', '3462', '3464', '3466', '3467', '3468', '3470', '3471', '3472', '3473', '3474', '3477', '3483', '3490', '3493', '3500', '3506', '3514', '3518', '3522', '3524', '3531', '3532', '3534', '3535', '3538', '3541', '3545', '3549', '3560', '3564', '3568', '3569', '3570', '3574', '3575', '3576', '3578', '3580', '3585', '3587', '3589', '3591', '3592', '3597', '3599', '3600', '3601', '3602', '3604', '3606', '3611', '3612', '3614', '3616', '3617', '3623', '3624', '3628', '3629', '3630', '3631', '3633', '3636', '3641', '3645', '3646', '3647', '3650', '3651', '3654', '3655', '3657', '3659', '3660', '3662', '3666', '3668', '3669', '3670', '3674', '3680', '3682', '3686', '3692', '3694', '3696', '3699', '3700', '3706', '3707', '3709', '3710', '3711', '3714', '3715', '3719', '3724', '3725', '3726', '3728', '3729', '3734', '3735', '3737', '3742', '3743', '3745', '3746', '3749', '3751', '3753', '3755', '3758', '3760', '3761', '3762', '3769', '3770', '3771', '3773', '3777', '3784', '3789', '3792', '3793', '3798', '3807', '3811', '3814', '3815', '3816', '3823', '3829', '3830', '3834', '3835', '3840', '3843', '3844', '3846', '3847', '3850', '3858', '3861', '3863', '3866', '3867', '3868', '3870', '3873', '3874', '3876', '3877', '3878', '3882', '3884', '3885', '3896', '3899', '3900', '3903', '3906', '3907', '3910', '3920', '3921', '3923', '3924', '3925', '3929', '3932', '3937', '3941', '3947', '3949', '3951', '3955', '3961', '3964', '3965', '3967', '3971', '3972', '3973', '3976', '3498', '3502', '3685', '3691', '3716', '3717', '3730', '3778', '3790', '3813', '3824', '3952', '3744', '3934', '3765', '3437']\n",
            "сообщество 4: ['3476', '3519', '3571', '3579', '3701', '3757', '3759', '3918', '3465', '3675', '3708', '3774', '3836', '3837', '3957', '3975']\n",
            "сообщество 5: ['3516', '3581', '3594', '3639', '3919', '3649', '3695', '3479', '3481', '3523', '3562', '3613', '3883', '3898']\n"
          ]
        }
      ]
    },
    {
      "cell_type": "markdown",
      "source": [
        "##### 3. Random Walk"
      ],
      "metadata": {
        "id": "NI5aM4NIWhnR"
      }
    },
    {
      "cell_type": "code",
      "source": [
        "import random"
      ],
      "metadata": {
        "id": "T-8TPEDQfPHp"
      },
      "execution_count": null,
      "outputs": []
    },
    {
      "cell_type": "code",
      "source": [
        "# выделение сообществ методом Random Walk\n",
        "def random_walk_community_detection(graph, num_communities, num_iterations=100):\n",
        "    # выполняем случайные блуждания из случайно выбранных вершин\n",
        "    random_walks = []\n",
        "    for _ in range(num_iterations):\n",
        "        start_node = random.choice(list(graph.nodes()))  # выбираем случайную вершину\n",
        "        random_walk = [start_node]\n",
        "        for _ in range(10):  # длина блуждания\n",
        "            neighbors = list(graph.neighbors(random_walk[-1]))\n",
        "            if neighbors:\n",
        "                random_walk.append(random.choice(neighbors))\n",
        "            else:\n",
        "                break\n",
        "        random_walks.append(random_walk)\n",
        "    # выполняем кластеризацию вершин на основе частоты посещения\n",
        "    node_visits = {}\n",
        "    for walk in random_walks:\n",
        "        for node in walk:\n",
        "            if node not in node_visits:\n",
        "                node_visits[node] = 0\n",
        "            node_visits[node] += 1\n",
        "    # формируем список вершин, встречающихся хотя бы один раз в блужданиях\n",
        "    unique_nodes = list(node_visits.keys())\n",
        "    # инициализируем сообщества\n",
        "    communities = {i: [] for i in range(num_communities)}\n",
        "    # проверяем, что каждая вершина графа присутствует в каком-либо сообществе\n",
        "    num_nodes_graph = len(graph.nodes())\n",
        "    if len(unique_nodes) < num_nodes_graph:\n",
        "        # добавляем недостающие вершины в сообщества случайным образом\n",
        "        missing_nodes = set(graph.nodes()) - set(unique_nodes)\n",
        "        for node in missing_nodes:\n",
        "            communities[random.randint(0, num_communities - 1)].append(node)\n",
        "    # разбиваем уникальные вершины на сообщества\n",
        "    for i, node in enumerate(unique_nodes):\n",
        "        communities[i % num_communities].append(node)\n",
        "\n",
        "    return communities"
      ],
      "metadata": {
        "id": "9O9t1ISpXbhh"
      },
      "execution_count": null,
      "outputs": []
    },
    {
      "cell_type": "code",
      "source": [
        "# пример использования для графа G_facebook с 5 сообществами\n",
        "num_communities = 5\n",
        "facebook_communities = random_walk_community_detection(G_facebook, num_communities)\n",
        "print(\"сообщества, выделенные методом Random Walk, для графа G_facebook:\")\n",
        "for label, nodes in facebook_communities.items():\n",
        "    print(f\"сообщество {label + 1}: {nodes}\")"
      ],
      "metadata": {
        "colab": {
          "base_uri": "https://localhost:8080/"
        },
        "id": "vs1rBExxXcmC",
        "outputId": "e6fe571a-9fd6-4e3f-e981-d9561736f2ca"
      },
      "execution_count": null,
      "outputs": [
        {
          "output_type": "stream",
          "name": "stdout",
          "text": [
            "сообщества, выделенные методом Random Walk, для графа G_facebook:\n",
            "сообщество 1: ['1528', '832', '1072', '1786', '3702', '2431', '2071', '1908', '1354', '1941', '2403', '2678', '515', '3007', '1704', '1213', '2887', '2035', '3492', '410', '961', '1157', '1934', '1847', '563', '285', '654', '898', '3352', '66', '2038', '1898', '943', '168', '851', '3071', '3034', '2450', '1478', '2355', '1171', '1392', '2205', '3543', '2043', '470', '864', '1306', '553', '2945', '1438', '3683', '1910', '3028', '145', '1237', '2993', '314', '2117', '2330', '502', '3033', '3919', '775', '1737', '2139', '1944', '2673', '2311', '2525', '3299', '1252', '2538', '2784', '1363', '3440', '357', '345', '880', '692', '1734', '2556', '1841', '3865', '2048', '3915', '4022', '1030', '2367', '3013', '3420', '1809', '3390', '3108', '2721', '535', '3809', '2073', '1330', '1803', '259', '3396', '2995', '764', '3859', '1347', '1563', '552', '3423', '3376', '1640', '3896', '2850', '3665', '441', '8', '1679', '3213', '2660', '2773', '3539', '2751', '1714', '3879', '3721', '915', '3835', '178', '1733', '1046', '3881', '3459', '2337', '164', '1619', '3687', '243', '2701', '3986', '2698', '1994', '711', '516', '1763', '3217', '2309', '2407', '2801', '2512', '2696', '885', '1329', '2125', '2387', '2702', '3979', '1369', '1386', '3463', '731', '2025', '3562', '3735', '2987', '2816', '1674', '3839', '427', '245', '2979', '1049', '257', '3767', '3455', '2963', '382', '1544', '3577', '2435', '905', '3994', '2366', '2085', '1510', '2019', '1031', '1657', '3303', '1170', '797', '1781', '3305', '3951', '1595', '3167', '1869', '1693', '2012', '2767', '1728', '54', '3690', '46', '3819', '2897', '1606', '1191', '1088', '306', '3618', '2558', '1201', '1846', '4035', '2632', '450', '569', '213', '3050', '4038', '1892', '3765', '520', '187', '899', '181', '3738', '1105', '2791', '2888', '2783', '2284', '708', '984', '3916', '2042', '3883', '660', '191', '96', '472', '2930', '312', '288', '1456', '1681', '1397', '3983', '2574', '796', '2682', '3905', '685', '1538', '2764', '721', '2013', '904', '3725', '1687', '486', '2804', '2545', '27', '1454', '3968', '1464', '1761', '2039', '986', '2466', '3620', '3549', '3795', '2539', '3652', '1720', '2476', '273', '2411', '1283', '920', '2593', '1004', '1736', '228', '272', '1010', '1254', '3949', '755', '3414', '2809', '638', '2680', '967', '1901', '3961', '1297', '337', '926', '194', '2977', '508', '202', '2255', '292', '3794', '3771', '1262', '2959', '3466', '3752', '3847', '2769', '2170', '523', '1279', '3200', '3143', '1183', '143', '3769', '1836', '1851', '434', '2024', '3438', '962', '1764', '2917', '2768', '3068', '1967', '1142', '1719', '326', '517', '2324', '855', '2956', '2532', '1744', '1891', '3872', '1194', '972', '3629', '3816', '1512', '3029', '1501', '1558', '2876', '371', '3011', '3780', '3371', '2965', '392', '1707', '4', '3751', '1499', '1338', '1552', '4015', '2948', '1455', '2459', '1724', '652', '426', '700', '3092', '322', '3062', '3386', '2128', '354', '1188', '2503', '153', '3954', '3099', '1645', '2598', '1052', '1212', '2508', '2843', '2750', '2611', '23', '1263', '4001', '1346', '2733', '816', '1107', '2614', '3515', '208', '3233', '2594', '1153', '3094', '680', '1036', '3127', '3709', '1614', '3561', '1875', '1286', '1190', '3808', '2238', '240', '431', '1555', '2375', '3502', '2040', '3006', '442', '1639', '1136', '3180', '2675', '1074', '1434', '3080', '1697', '2517', '2485', '3318', '1834', '1985', '1063', '2202', '149', '179', '1743', '3057', '1905', '3723', '3761', '1526', '49', '1161', '2553', '128', '93', '2741', '278', '1362', '1274', '2623', '2438', '2223', '1597', '2711', '4029', '1669', '2674', '3000', '1147', '2802', '3715', '2881', '3788', '3171', '3059', '1135', '1181', '1890', '3457', '2742', '1525', '1550', '381', '2482', '1541', '14', '3712', '3634', '3238', '1102', '1644', '3393', '854', '924', '3314', '1050', '274', '3911', '810', '3464', '3533', '2340', '1019', '2392', '843', '353', '3694', '1622', '2051', '2807', '1560', '3565', '3041', '1567', '3017', '3556', '2805', '1928', '3813', '1879', '1627', '2578', '13', '3581', '2568', '612', '3611', '3026', '1060', '931', '279', '33', '349', '2835', '1942', '1573', '2269', '1586', '1175', '543', '2961', '614', '3934', '3649', '67', '649', '325', '2658', '2561', '1232', '3105', '3422', '129', '34', '590', '1599', '3677', '1862', '2536', '3292', '820', '1410', '555', '3074', '446', '193', '1988', '1546', '2572', '2735', '2889', '2005', '1987', '175', '1382', '1949', '908', '1659', '4037', '1412', '3551', '2268', '2518', '2297', '3448', '1077', '80', '352', '3409', '3864', '3332', '968', '111', '733', '1617', '1711', '2209', '1342', '3340', '304', '316', '3327', '3433', '1349', '577', '2152', '1001', '1600', '2296', '887', '447', '658', '1992', '2648', '3031', '1253', '861', '934', '2192', '1878', '2076', '1416', '1535', '2828', '2650', '1041', '77', '3157', '2662', '2498', '2692', '2265', '579', '2846', '1932', '2457', '1414', '3749', '1660', '1668', '3828', '1205', '3621', '287', '3281', '586', '435', '359', '258', '1268', '593', '2838', '2938', '2905', '3792', '3508', '2475', '776', '3215', '2821', '2554', '571', '1590', '3708', '3594', '1955', '2770', '2216', '2306', '2244', '1548', '3699', '3936', '2880', '2738', '2862', '2719', '3178', '3288', '3115', '686', '817', '631', '1177', '1562', '3830', '3814', '82', '109', '833', '1130', '1409', '2689', '3146', '2992', '1554', '1156', '3878', '3906', '2030', '2240', '1747', '1319', '2398', '2243', '815', '705', '1483', '1256', '1530', '3232', '3163', '2004', '2147', '2654', '3119', '2694', '64', '48', '2119', '2251', '1514', '1129', '2250', '146', '238', '1702', '1540', '1503', '407', '3207', '3295', '3113', '3362', '2343', '2226', '3772', '659', '635', '536', '417', '3476', '3701', '3571', '3553', '3279', '2661', '2267', '2501', '3640', '3703', '556', '519', '944', '3798', '3938', '1845', '1527', '955', '1433', '3730', '1009', '1204', '3128', '2776', '433', '532', '1199', '2245', '2314', '2352', '1918', '729', '698', '1471', '1610', '1758', '991', '951', '4013', '3998', '482', '619', '2991', '2002', '2338', '724', '707', '2590', '2279', '2028', '3072', '3197', '3412', '3186', '2697', '1882', '507', '3254', '2778', '1185', '867', '792', '917', '824', '803', '3759', '4019', '3824', '360', '471', '3195', '267', '169', '409', '1966', '1788', '2316', '2643', '3804', '205', '232', '2564', '694', '2608', '1621', '3425', '3369', '3321', '3326', '36', '2861', '2374', '2586', '3259', '2736', '526', '3264', '3240', '83']\n",
            "сообщество 2: ['3373', '2380', '1780', '4012', '1976', '408', '716', '3121', '722', '86', '481', '3920', '3531', '2159', '1468', '3645', '987', '3350', '1638', '811', '1712', '3863', '2760', '1584', '2681', '1406', '2547', '2940', '2687', '246', '621', '2873', '584', '1093', '1832', '1601', '1195', '2401', '884', '1308', '896', '2464', '3405', '1529', '1933', '2909', '1040', '344', '1484', '487', '2685', '2017', '7', '3166', '2818', '1677', '1814', '74', '3602', '3844', '3659', '2371', '2334', '1460', '3666', '3777', '3900', '1651', '22', '1371', '3904', '876', '1376', '1435', '3370', '1716', '736', '79', '3984', '3784', '3669', '2246', '3866', '2599', '3061', '1854', '1284', '990', '260', '699', '879', '3051', '1348', '1084', '488', '1855', '1', '3019', '2781', '1311', '3367', '1753', '1384', '100', '2705', '2799', '3985', '567', '1326', '1556', '957', '336', '3265', '3570', '399', '3086', '468', '2182', '2747', '20', '663', '3049', '1124', '2537', '3317', '2127', '2404', '1574', '2372', '2332', '3250', '3887', '1285', '211', '102', '3283', '3667', '3607', '2854', '932', '2997', '977', '378', '3530', '2148', '1717', '3945', '574', '2577', '1131', '2541', '2499', '2187', '1904', '3486', '3993', '1287', '203', '2236', '3907', '2445', '3846', '3122', '814', '1571', '2103', '1458', '801', '3959', '2361', '1877', '2868', '1296', '821', '656', '983', '1461', '996', '2990', '1790', '2110', '1398', '1042', '3616', '1772', '791', '137', '1340', '223', '768', '1778', '2982', '1282', '1422', '2249', '564', '1101', '1927', '3153', '460', '31', '3198', '3282', '2646', '3428', '2842', '779', '3447', '818', '3366', '2396', '1557', '1402', '1079', '398', '226', '1916', '966', '2099', '3151', '583', '2595', '2777', '160', '997', '2906', '3302', '3140', '3537', '2740', '3623', '2815', '252', '2831', '2165', '3095', '672', '3137', '2389', '3560', '1055', '1246', '394', '1208', '437', '343', '2477', '2684', '3833', '3877', '1647', '831', '1539', '1225', '2291', '430', '963', '1965', '582', '3325', '490', '1926', '1876', '2971', '3355', '3538', '2262', '1228', '3458', '1356', '2423', '3673', '3349', '3805', '2413', '594', '1553', '2000', '3490', '355', '448', '769', '249', '147', '3779', '1215', '2479', '847', '1661', '1642', '2417', '2288', '1935', '356', '335', '3860', '2569', '340', '3328', '3820', '2808', '2087', '2894', '253', '1152', '2941', '3172', '3672', '2167', '404', '1727', '2803', '959', '3850', '2989', '2134', '1224', '2079', '3487', '2964', '2062', '1739', '856', '682', '3168', '1545', '2354', '1172', '623', '3012', '2095', '1202', '388', '2749', '607', '2600', '131', '1511', '3967', '1307', '1324', '1367', '63', '148', '3294', '2278', '2592', '3870', '840', '3566', '313', '101', '2261', '3231', '163', '1579', '825', '560', '592', '1826', '2849', '1115', '852', '865', '1399', '3680', '910', '946', '3587', '3498', '3230', '2214', '2944', '3514', '925', '3004', '3116', '89', '2703', '3653', '3722', '1513', '2451', '1457', '1032', '2304', '970', '3181', '624', '1014', '282', '693', '3344', '2514', '1078', '3559', '386', '717', '1770', '2126', '1315', '1241', '1216', '2902', '1732', '2895', '3237', '1272', '2465', '141', '3300', '964', '3999', '134', '572', '530', '587', '342', '576', '3781', '1174', '1491', '1411', '1492', '1938', '550', '914', '3595', '124', '2695', '2179', '2382', '1265', '1108', '199', '3276', '3953', '2434', '1776', '3397', '714', '1566', '2406', '3851', '310', '3462', '1792', '1413', '11', '524', '611', '3706', '3856', '2576', '3810', '3484', '2932', '358', '3613', '270', '1076', '2975', '3558', '3912', '2234', '3848', '242', '634', '3079', '1245', '2203', '684', '3946', '1192', '1370', '757', '1103', '1675', '2936', '1082', '1020', '2049', '3255', '2709', '902', '819', '3743', '752', '2890', '479', '1791', '1200', '76', '1785', '3091', '1726', '1795', '138', '1441', '782', '1534', '1024', '2683', '385', '3179', '1013', '3432', '644', '3583', '3052', '1807', '3159', '2810', '3541', '3015', '860', '3821', '1473', '2511', '1495', '3446', '3020', '401', '837', '1929', '2425', '3854', '1038', '3102', '727', '61', '1230', '157', '2402', '799', '3978', '1303', '2313', '1532', '1741', '2571', '1742', '3555', '224', '1502', '3043', '2857', '3908', '723', '1221', '2489', '389', '3964', '443', '2954', '3056', '2020', '2980', '3330', '2871', '2041', '3096', '39', '1162', '881', '3869', '305', '2133', '3338', '2444', '2452', '1067', '1649', '2931', '1782', '3293', '4028', '1379', '988', '3799', '2609', '3625', '1209', '540', '1652', '1833', '645', '3378', '95', '307', '2998', '3363', '2883', '3436', '2745', '2014', '229', '3586', '2665', '3133', '115', '2003', '2630', '3387', '3112', '3590', '3139', '3093', '2604', '1963', '1593', '1186', '3437', '3442', '2927', '3104', '2869', '3345', '2813', '2958', '748', '830', '719', '679', '1016', '1886', '3576', '108', '65', '158', '732', '1547', '1589', '2676', '3206', '3298', '1730', '1542', '3903', '3534', '2115', '1962', '1137', '1648', '1465', '2053', '754', '784', '1517', '1336', '3430', '2986', '2050', '1921', '2266', '2655', '2974', '2912', '171', '2570', '2089', '1531', '1300', '2032', '2461', '152', '1817', '1321', '1689', '1429', '350', '3410', '2845', '1684', '2010', '2007', '3880', '3633', '600', '662', '545', '495', '3757', '3957', '3793', '3482', '3214', '2780', '2293', '2649', '3605', '3717', '673', '1127', '1686', '3557', '3797', '947', '1519', '1111', '3885', '3800', '1636', '1706', '3126', '3271', '510', '379', '1509', '2281', '2248', '1946', '2348', '889', '772', '1849', '1796', '3205', '1467', '1806', '3989', '4018', '683', '598', '2853', '2194', '2543', '742', '2271', '2507', '2509', '2920', '3353', '3150', '3002', '2775', '2962', '1318', '493', '3411', '978', '1182', '703', '1299', '606', '829', '875', '3918', '3981', '3831', '438', '432', '2867', '73', '318', '2204', '2462', '1045', '2023', '2176', '3930', '219', '30', '2033', '773', '2137', '1086', '3187', '3278', '2833', '281', '309', '2788', '2615', '2526', '3018', '2836', '465', '3385', '16', '237']\n",
            "сообщество 3: ['1417', '110', '2442', '2612', '1735', '207', '3125', '221', '971', '449', '293', '3054', '935', '1165', '2478', '1447', '393', '869', '3960', '2830', '709', '1537', '1759', '2270', '1408', '3693', '2114', '3520', '1641', '1900', '857', '2589', '3589', '3691', '3660', '3746', '3517', '2252', '2386', '3337', '1122', '2345', '2153', '956', '319', '1840', '421', '922', '1258', '1322', '2433', '1829', '214', '1804', '3377', '3211', '3970', '2287', '954', '3199', '1168', '10', '2627', '3760', '1948', '740', '402', '230', '2300', '3245', '1710', '271', '121', '3016', '2486', '1359', '666', '534', '3678', '2631', '182', '1383', '743', '549', '1035', '1914', '1643', '2863', '485', '1968', '3009', '235', '262', '822', '1290', '469', '3361', '3614', '275', '3935', '1969', '3849', '1271', '3415', '3689', '3840', '2317', '42', '1952', '290', '1980', '1957', '1749', '2746', '2429', '1695', '2006', '3597', '1023', '2848', '3894', '1295', '3718', '3705', '1302', '3177', '3174', '3711', '1523', '3307', '2409', '286', '3914', '2877', '906', '250', '3076', '117', '3201', '3220', '1309', '3175', '4010', '1339', '3696', '3064', '1637', '3084', '3451', '3103', '1839', '599', '1220', '1310', '836', '3308', '730', '2447', '2924', '3306', '1954', '3585', '2584', '794', '613', '3550', '1091', '3358', '2253', '3917', '2840', '3803', '303', '2424', '3270', '3382', '3066', '2763', '505', '3516', '298', '1975', '1280', '2826', '1999', '2737', '2629', '1388', '2916', '2305', '217', '2573', '626', '3491', '725', '3480', '1459', '557', '1907', '38', '3024', '1057', '646', '1431', '2988', '3494', '870', '595', '1598', '2149', '747', '1061', '3806', '3656', '2722', '2782', '3726', '3750', '463', '166', '328', '3036', '2575', '2169', '3582', '451', '2229', '473', '827', '2031', '3657', '104', '1520', '2878', '383', '2193', '2218', '1592', '3965', '445', '2656', '1628', '1996', '3662', '766', '2388', '44', '3266', '1173', '2542', '2378', '3997', '713', '3360', '1580', '1443', '1350', '3791', '2636', '1070', '1655', '2756', '1666', '294', '423', '2919', '2036', '56', '911', '1827', '1504', '2603', '3592', '1522', '280', '933', '620', '3176', '2327', '3977', '15', '3450', '1688', '2368', '2069', '1515', '3037', '2379', '3638', '1812', '1485', '783', '3922', '2325', '985', '1316', '3493', '597', '3890', '3842', '3322', '1428', '3202', '1951', '664', '26', '1760', '3815', '862', '47', '1699', '1085', '3483', '3963', '3184', '1543', '2652', '1059', '3789', '566', '2135', '2414', '1496', '1582', '2626', '3301', '2691', '1424', '3221', '3418', '1924', '3695', '2753', '3639', '3426', '3827', '497', '210', '937', '1524', '853', '3610', '1797', '2224', '2228', '170', '787', '1281', '1474', '1769', '2968', '866', '3014', '3413', '2415', '3714', '758', '1351', '1231', '604', '2163', '3354', '2208', '3', '1000', '209', '1775', '642', '362', '813', '1922', '1902', '3658', '2502', '601', '2357', '3741', '3273', '4003', '2704', '808', '87', '2140', '494', '1229', '2510', '2645', '1521', '739', '1665', '2318', '1097', '637', '1691', '608', '2779', '3921', '3039', '1275', '165', '1690', '993', '1065', '236', '1106', '130', '3822', '3053', '2198', '793', '2410', '3329', '2496', '2904', '52', '3987', '2320', '231', '1325', '144', '99', '3263', '3246', '2206', '3861', '1859', '1248', '2168', '2827', '19', '3183', '2364', '3641', '3236', '2772', '3853', '4020', '2794', '29', '333', '3346', '133', '735', '1117', '3724', '2690', '3775', '2787', '3504', '670', '261', '2217', '2817', '3651', '3359', '800', '1095', '3388', '2884', '387', '2197', '174', '2460', '264', '2335', '480', '2605', '3435', '277', '1331', '850', '841', '1051', '477', '1291', '2797', '3742', '3269', '2432', '2644', '3078', '2739', '3384', '3169', '327', '3787', '3700', '3443', '2453', '2970', '1432', '3655', '3505', '2286', '2145', '60', '2258', '2759', '2786', '883', '2969', '3044', '97', '12', '3988', '2034', '2097', '1629', '2495', '521', '3445', '2814', '2233', '2427', '3129', '2693', '2731', '2715', '3876', '1676', '1073', '2241', '1779', '1818', '1768', '1466', '457', '2524', '92', '629', '1352', '1292', '2523', '3664', '858', '1596', '2183', '215', '2088', '1937', '384', '37', '1844', '3474', '1723', '2622', '798', '2175', '1708', '2312', '720', '639', '3528', '4011', '3755', '244', '3319', '518', '3368', '173', '3972', '999', '1113', '3857', '1022', '575', '785', '418', '3937', '2635', '3223', '247', '3773', '3210', '1011', '3511', '2493', '1913', '1259', '3144', '3356', '927', '1360', '1923', '2960', '2221', '1179', '3507', '3188', '2908', '3898', '3619', '2065', '3600', '2633', '1762', '1654', '3158', '3315', '351', '2972', '1917', '1828', '3023', '2898', '1436', '1752', '1233', '265', '1798', '3674', '2855', '1184', '3818', '317', '1189', '2161', '2158', '1950', '965', '2385', '4008', '2220', '2428', '1787', '1118', '3727', '3710', '2910', '3364', '3419', '2712', '3048', '3280', '697', '823', '589', '618', '1889', '3974', '3891', '21', '339', '689', '1835', '960', '1341', '3417', '3239', '2976', '1572', '1488', '3584', '3829', '2492', '2275', '1493', '992', '2533', '1981', '688', '738', '953', '1449', '3090', '3065', '1973', '2436', '2104', '1986', '2757', '0', '94', '2082', '2618', '1646', '641', '2394', '2344', '200', '1911', '1110', '1139', '483', '419', '2728', '2951', '2755', '1577', '2616', '3552', '3604', '661', '640', '525', '544', '3774', '3465', '3976', '3472', '3391', '2748', '2420', '3542', '3574', '603', '373', '1134', '1634', '3654', '3525', '1250', '1861', '1144', '3801', '3731', '1021', '1489', '3336', '3216', '533', '1613', '1559', '2301', '1990', '2363', '2077', '878', '845', '1390', '1146', '1505', '897', '1615', '3991', '4023', '370', '3421', '3320', '2239', '2336', '789', '2164', '2619', '2177', '3124', '3101', '3111', '3088', '2724', '1405', '1870', '456', '3262', '1813', '1222', '835', '1260', '366', '781', '873', '3612', '4030', '3461', '395', '475', '3117', '331', '119', '2190', '2122', '1109', '2047', '2322', '3642', '142', '2044', '2546', '726', '2151', '1344', '3365', '1656', '2939', '159', '127', '3341', '2395', '2059', '3248', '3118', '542', '2819', '40', '84']\n",
            "сообщество 4: ['2758', '1810', '2196', '2900', '3729', '3075', '3475', '2494', '311', '3572', '1816', '466', '1793', '2535', '2472', '424', '1463', '6', '3375', '1440', '162', '254', '842', '2365', '3648', '2653', '2929', '1005', '3030', '2441', '1578', '3296', '3923', '710', '3893', '2219', '3609', '3194', '2928', '374', '1678', '1518', '2302', '2469', '3070', '2624', '1099', '1831', '1353', '1442', '1391', '3716', '1018', '3929', '188', '1236', '1899', '3521', '3285', '3055', '2376', '846', '3927', '790', '913', '3990', '3394', '3685', '41', '2315', '522', '3758', '3901', '2551', '3591', '289', '1623', '1389', '2199', '4027', '496', '3941', '3573', '2181', '2075', '2397', '1635', '633', '3973', '2481', '3247', '3802', '3852', '2116', '106', '767', '2162', '3783', '501', '2581', '1138', '2295', '2184', '2800', '1223', '3740', '3251', '3909', '2458', '1825', '1425', '2393', '1673', '3083', '2789', '1094', '1685', '1385', '1238', '3601', '403', '1564', '3225', '1218', '1881', '2412', '3826', '3875', '2360', '1151', '2811', '650', '2107', '2859', '4014', '2068', '1561', '527', '3563', '18', '1289', '3897', '1533', '3427', '2903', '2637', '892', '1017', '3995', '2943', '1126', '3770', '2865', '1884', '2820', '872', '2793', '2617', '982', '2400', '995', '28', '2531', '630', '248', '32', '1278', '2191', '1261', '2098', '1396', '1054', '3025', '1075', '1777', '1823', '2824', '780', '4016', '1974', '2966', '3218', '939', '539', '2730', '1819', '2666', '2027', '425', '2109', '2070', '774', '3489', '918', '1244', '498', '396', '3256', '1630', '276', '3599', '368', '2978', '3838', '474', '1395', '1821', '1490', '1242', '3747', '3008', '2', '1154', '2641', '2418', '225', '1874', '3334', '2358', '1767', '681', '3243', '1100', '2560', '1672', '3871', '3431', '3766', '3010', '2516', '2790', '3408', '1570', '183', '2950', '3224', '1269', '1894', '3107', '3944', '2323', '2359', '1015', '1650', '3471', '1953', '1745', '1853', '759', '3042', '2273', '2585', '1166', '1625', '1196', '2699', '263', '195', '1919', '2844', '928', '1756', '1868', '2231', '1989', '734', '3219', '459', '88', '116', '1069', '2723', '2150', '2349', '1848', '3123', '341', '3164', '3895', '367', '3637', '2185', '266', '1293', '2350', '3381', '1337', '558', '1766', '3311', '1164', '1682', '1034', '2638', '3496', '795', '2001', '3868', '1393', '1080', '1479', '1143', '886', '2063', '3209', '581', '1066', '1585', '4004', '1028', '1476', '1452', '786', '2490', '1995', '602', '323', '1815', '891', '3038', '1857', '2383', '1824', '2210', '617', '3526', '2530', '1210', '2806', '1575', '2008', '3624', '2717', '3682', '1516', '844', '361', '1198', '458', '1482', '218', '610', '2100', '2280', '2602', '3404', '921', '2918', '59', '1062', '2670', '3748', '2440', '2207', '2664', '2026', '2242', '2290', '3067', '1487', '2124', '3323', '391', '1149', '2634', '3252', '3547', '2061', '2264', '2342', '300', '3510', '330', '284', '1044', '1631', '196', '2882', '3776', '2443', '2796', '3242', '1357', '3754', '3928', '1375', '3383', '2601', '2118', '1027', '2915', '3950', '3286', '347', '2180', '3513', '3952', '1121', '2669', '1332', '256', '3882', '3532', '1755', '3357', '3947', '1056', '1632', '2045', '1873', '3142', '1087', '156', '478', '3939', '1206', '2528', '2391', '3527', '1750', '809', '974', '2430', '380', '1068', '3588', '3110', '849', '2467', '1158', '3506', '2054', '412', '1039', '2708', '24', '2307', '1811', '3253', '1774', '585', '3523', '268', '50', '3992', '2671', '2339', '3003', '3786', '2625', '3698', '1273', '676', '2957', '462', '2732', '1366', '1713', '308', '2143', '2921', '3441', '2067', '3402', '3444', '2984', '3707', '3203', '3260', '3661', '2832', '1453', '1959', '1008', '3499', '5', '4025', '715', '2310', '562', '1940', '1843', '365', '416', '1746', '2172', '1418', '2351', '2562', '2937', '2792', '3148', '1506', '3400', '3309', '2091', '788', '916', '2437', '155', '1947', '3289', '1972', '548', '1372', '3719', '3347', '648', '2798', '1709', '3470', '1885', '940', '949', '2710', '2449', '2657', '1169', '2557', '2580', '4024', '1048', '2308', '204', '78', '2106', '1128', '2211', '1026', '241', '2156', '657', '1594', '3925', '2483', '4021', '1607', '2718', '1193', '2471', '3704', '2596', '3268', '538', '2591', '874', '2852', '826', '2060', '1400', '942', '668', '3874', '1277', '4000', '177', '2923', '3843', '1700', '2761', '1343', '3032', '1450', '1757', '675', '3647', '753', '1155', '436', '3796', '2215', '2083', '2725', '2686', '346', '1430', '98', '2795', '2274', '1748', '3249', '1587', '439', '295', '2766', '2021', '2263', '2186', '3222', '2672', '981', '3554', '2111', '369', '1671', '3212', '2588', '559', '930', '2292', '3452', '1141', '2157', '2534', '151', '1226', '3109', '651', '950', '1979', '1494', '3790', '113', '3449', '3763', '139', '1729', '4017', '2480', '2521', '1500', '2166', '125', '1866', '756', '3933', '2222', '834', '2138', '2256', '161', '1964', '1602', '895', '2213', '2108', '1895', '901', '3536', '3663', '3114', '3257', '3185', '2716', '3342', '2785', '777', '687', '622', '678', '979', '3785', '3845', '334', '315', '771', '1883', '998', '3348', '2896', '3021', '1312', '1799', '1377', '3764', '3460', '2078', '2200', '903', '2390', '2081', '1939', '701', '751', '1163', '1603', '2679', '2864', '2647', '2254', '2086', '2559', '3135', '70', '180', '2120', '2130', '1234', '1475', '2232', '2353', '118', '1858', '1327', '1906', '514', '2947', '2829', '2901', '2839', '2419', '2610', '3886', '3635', '628', '615', '400', '669', '3519', '3836', '3481', '3208', '3434', '2439', '2319', '3596', '3762', '625', '500', '1725', '1159', '3697', '1439', '1800', '1842', '1251', '3873', '1404', '1426', '1850', '2949', '561', '348', '1323', '1653', '1956', '2405', '2142', '804', '888', '1132', '1864', '1178', '929', '1058', '1588', '4031', '3980', '397', '3291', '3120', '2247', '838', '702', '2484', '2090', '2294', '3380', '2823', '2856', '3069', '2934', '936', '580', '2667', '3258', '1334', '1047', '765', '1167', '1374', '770', '3899', '4033', '4026', '3456', '452', '1313', '2841', '172', '269', '2201', '909', '1469', '2555', '3913', '3926', '297', '2084', '2331', '2567', '2582', '3401', '2744', '2765', '3351', '320', '135', '3190', '2579', '2188', '3424', '511', '413', '3272', '72', '51']\n",
            "сообщество 5: ['2454', '2552', '1664', '1958', '233', '301', '3996', '3823', '596', '1133', '674', '3737', '1247', '3316', '338', '2155', '1896', '2277', '3089', '3147', '2094', '1462', '1033', '2825', '3529', '2734', '2299', '1472', '3768', '2123', '2303', '704', '1604', '578', '2587', '1893', '2872', '605', '1214', '1420', '2922', '2072', '1007', '1880', '973', '828', '1394', '1931', '2230', '1920', '3955', '112', '2875', '531', '2146', '2983', '3063', '2272', '1145', '1197', '503', '2522', '3646', '2907', '3416', '3077', '3575', '746', '3399', '68', '1243', '1365', '1304', '176', '1470', '3173', '3578', '3098', '4034', '3958', '3732', '1581', '2235', '3134', '565', '3478', '3720', '4009', '3671', '3192', '372', '1401', '3627', '492', '2700', '2640', '375', '1364', '2812', '1006', '2058', '2500', '1658', '2064', '1925', '1705', '3540', '1112', '807', '2967', '2057', '3630', '3234', '1583', '3204', '216', '3333', '1116', '2714', '2362', '43', '364', '1104', '1380', '588', '762', '2326', '2321', '3782', '3406', '212', '655', '2347', '1090', '2621', '1970', '2237', '1481', '429', '3304', '653', '3500', '3453', '529', '140', '3631', '3615', '3603', '1096', '57', '491', '3477', '2866', '568', '1993', '1789', '167', '1240', '2174', '3045', '2597', '444', '1219', '45', '3227', '2677', '2519', '2858', '2720', '3676', '1317', '75', '1867', '3744', '1498', '3165', '390', '839', '3229', '2663', '2259', '3087', '464', '2225', '677', '3524', '2550', '1120', '1852', '3593', '3275', '35', '848', '1333', '3085', '114', '2999', '890', '691', '2620', '1098', '2011', '1820', '812', '2505', '749', '3679', '941', '220', '1549', '2066', '3943', '154', '3862', '1740', '1451', '3497', '2752', '3580', '126', '1423', '2016', '3753', '1620', '1612', '1255', '3670', '1624', '671', '1373', '85', '1551', '1887', '1415', '321', '3734', '3668', '741', '198', '1961', '1618', '55', '1012', '3834', '2874', '3688', '1765', '2416', '2606', '1977', '2497', '627', '1345', '2981', '3948', '2885', '1381', '2456', '1692', '1427', '296', '2506', '1445', '132', '1897', '476', '1092', '184', '2707', '2847', '2260', '499', '2096', '3522', '2341', '186', '2369', '2257', '2913', '2955', '3267', '2544', '3468', '2946', '1123', '3035', '3942', '3407', '2101', '58', '2668', '1771', '1497', '2762', '467', '1176', '893', '1378', '907', '1119', '690', '3728', '969', '3681', '3940', '1227', '3058', '1609', '2639', '3644', '2074', '2628', '3956', '255', '1808', '3398', '120', '989', '2056', '1361', '2899', '3628', '1670', '2952', '1731', '1064', '1507', '1982', '2953', '551', '3889', '1180', '3155', '3193', '2540', '3485', '3962', '3544', '3136', '3040', '454', '1037', '2520', '2642', '760', '3626', '1264', '3982', '3684', '1983', '512', '1978', '2455', '1536', '1355', '2105', '150', '2009', '1871', '3892', '3579', '2491', '2774', '2328', '3469', '1239', '1207', '3546', '3228', '3479', '2212', '2911', '283', '744', '3535', '461', '2446', '1508', '1288', '3235', '945', '3196', '3244', '1270', '1738', '4036', '554', '3488', '2195', '62', '1860', '750', '667', '2173', '1003', '3567', '3501', '1591', '3454', '1984', '3331', '3841', '1160', '3650', '91', '3324', '2113', '3389', '1838', '2370', '3439', '900', '2860', '3473', '2942', '2727', '2346', '1298', '1446', '1698', '1081', '2933', '1662', '3636', '2448', '2563', '1305', '919', '509', '3429', '1960', '1235', '1997', '3392', '1407', '3632', '3100', '2227', '3932', '3467', '647', '3817', '3910', '1387', '1998', '3811', '2022', '1328', '1419', '405', '3274', '239', '1301', '185', '958', '2015', '609', '1266', '737', '2171', '1872', '1822', '976', '2092', '1565', '3001', '81', '1477', '2515', '3745', '3290', '90', '1437', '1633', '3106', '2892', '3189', '1071', '2018', '2093', '1794', '3160', '251', '3971', '1936', '1971', '1486', '3149', '105', '802', '234', '4032', '1930', '329', '2298', '3374', '2565', '3643', '3131', '3888', '859', '2046', '1203', '2426', '541', '103', '1358', '868', '2131', '1915', '3509', '2527', '1294', '2583', '948', '3548', '440', '3261', '2513', '2834', '2651', '2822', '2488', '1626', '3807', '2487', '3778', '1667', '3379', '136', '2893', '291', '2381', '3617', '2329', '1083', '2399', '2706', '17', '1480', '2189', '871', '1114', '3608', '2851', '3739', '1903', '3733', '2037', '3966', '2935', '2713', '1053', '1680', '453', '3161', '302', '2879', '201', '4006', '643', '2548', '2659', '3335', '1801', '1320', '2132', '227', '1696', '2470', '69', '2837', '3825', '190', '324', '299', '489', '761', '3073', '1257', '1611', '3969', '1888', '2422', '2891', '2421', '1802', '411', '2994', '975', '1754', '2283', '1029', '3606', '3145', '1444', '570', '3855', '2729', '665', '3372', '1773', '3395', '2688', '912', '2276', '3022', '3569', '3686', '547', '71', '2289', '994', '2080', '3130', '3564', '206', '1605', '1683', '1276', '1751', '1569', '1140', '3924', '2473', '3027', '363', '2141', '3154', '528', '1856', '1865', '377', '506', '3512', '2154', '1448', '4005', '1830', '2373', '1002', '1784', '894', '3867', '3343', '1943', '1912', '938', '1314', '3812', '3713', '2726', '2754', '3287', '3403', '3313', '3046', '695', '718', '616', '636', '1403', '3736', '3545', '123', '122', '806', '1863', '1722', '3284', '3047', '3152', '980', '952', '3622', '3931', '3568', '2408', '1568', '1837', '2384', '2282', '706', '778', '745', '1663', '1608', '2985', '3226', '1991', '2144', '2607', '2468', '2743', '189', '53', '2129', '2160', '1694', '1576', '1945', '2112', '222', '1150', '1909', '1783', '504', '3162', '3241', '3082', '3339', '2333', '2566', '3756', '3832', '414', '632', '537', '420', '3837', '3675', '3598', '3138', '2973', '2529', '2029', '3503', '3902', '573', '546', '1089', '1249', '3858', '1211', '107', '1368', '1421', '3495', '1148', '1715', '2886', '3310', '455', '406', '1267', '1721', '2474', '2549', '2055', '882', '863', '1125', '1335', '923', '1701', '1805', '1187', '4002', '484', '422', '3277', '3097', '2377', '696', '712', '2613', '2463', '2102', '2914', '3182', '2996', '3191', '2870', '1616', '591', '3005', '3170', '1217', '877', '728', '1703', '1025', '763', '3975', '4007', '3518', '3692', '376', '2925', '3297', '332', '513', '2121', '1043', '2178', '2052', '3884', '192', '9', '2136', '805', '2285', '1718', '2926', '3156', '3132', '3312', '197', '3141', '2504', '2356', '3081', '2771', '428', '415', '3060', '25']\n"
          ]
        }
      ]
    },
    {
      "cell_type": "markdown",
      "source": [
        "##### 4. Node2Vec"
      ],
      "metadata": {
        "id": "Ff9JXGjfWiEq"
      }
    },
    {
      "cell_type": "code",
      "source": [
        "pip install node2vec"
      ],
      "metadata": {
        "colab": {
          "base_uri": "https://localhost:8080/",
          "height": 654
        },
        "id": "Q6sVgD0zelxg",
        "outputId": "e2b7c409-2d05-4096-f466-3a3feeafb9a2",
        "collapsed": true
      },
      "execution_count": null,
      "outputs": [
        {
          "output_type": "stream",
          "name": "stdout",
          "text": [
            "Collecting node2vec\n",
            "\u001b[33m  WARNING: Retrying (Retry(total=4, connect=None, read=None, redirect=None, status=None)) after connection broken by 'ConnectTimeoutError(<pip._vendor.urllib3.connection.HTTPSConnection object at 0x7b2e785e4f70>, 'Connection to files.pythonhosted.org timed out. (connect timeout=15)')': /packages/01/ba/bf72e645b382db3b7fd1df482c2f867171112c5efd99312aacfbb09e538e/node2vec-0.4.6-py3-none-any.whl\u001b[0m\u001b[33m\n",
            "\u001b[0m  Downloading node2vec-0.4.6-py3-none-any.whl (7.0 kB)\n",
            "Requirement already satisfied: gensim<5.0.0,>=4.1.2 in /usr/local/lib/python3.10/dist-packages (from node2vec) (4.3.2)\n",
            "Requirement already satisfied: joblib<2.0.0,>=1.1.0 in /usr/local/lib/python3.10/dist-packages (from node2vec) (1.4.2)\n",
            "Collecting networkx<3.0,>=2.5 (from node2vec)\n",
            "  Downloading networkx-2.8.8-py3-none-any.whl (2.0 MB)\n",
            "\u001b[2K     \u001b[90m━━━━━━━━━━━━━━━━━━━━━━━━━━━━━━━━━━━━━━━━\u001b[0m \u001b[32m2.0/2.0 MB\u001b[0m \u001b[31m14.8 MB/s\u001b[0m eta \u001b[36m0:00:00\u001b[0m\n",
            "\u001b[?25hRequirement already satisfied: numpy<2.0.0,>=1.19.5 in /usr/local/lib/python3.10/dist-packages (from node2vec) (1.25.2)\n",
            "Requirement already satisfied: tqdm<5.0.0,>=4.55.1 in /usr/local/lib/python3.10/dist-packages (from node2vec) (4.66.4)\n",
            "Requirement already satisfied: scipy>=1.7.0 in /usr/local/lib/python3.10/dist-packages (from gensim<5.0.0,>=4.1.2->node2vec) (1.11.4)\n",
            "Requirement already satisfied: smart-open>=1.8.1 in /usr/local/lib/python3.10/dist-packages (from gensim<5.0.0,>=4.1.2->node2vec) (6.4.0)\n",
            "Installing collected packages: networkx, node2vec\n",
            "  Attempting uninstall: networkx\n",
            "    Found existing installation: networkx 3.3\n",
            "    Uninstalling networkx-3.3:\n",
            "      Successfully uninstalled networkx-3.3\n",
            "\u001b[31mERROR: pip's dependency resolver does not currently take into account all the packages that are installed. This behaviour is the source of the following dependency conflicts.\n",
            "torch 2.2.1+cu121 requires nvidia-cublas-cu12==12.1.3.1; platform_system == \"Linux\" and platform_machine == \"x86_64\", which is not installed.\n",
            "torch 2.2.1+cu121 requires nvidia-cuda-cupti-cu12==12.1.105; platform_system == \"Linux\" and platform_machine == \"x86_64\", which is not installed.\n",
            "torch 2.2.1+cu121 requires nvidia-cuda-nvrtc-cu12==12.1.105; platform_system == \"Linux\" and platform_machine == \"x86_64\", which is not installed.\n",
            "torch 2.2.1+cu121 requires nvidia-cuda-runtime-cu12==12.1.105; platform_system == \"Linux\" and platform_machine == \"x86_64\", which is not installed.\n",
            "torch 2.2.1+cu121 requires nvidia-cudnn-cu12==8.9.2.26; platform_system == \"Linux\" and platform_machine == \"x86_64\", which is not installed.\n",
            "torch 2.2.1+cu121 requires nvidia-cufft-cu12==11.0.2.54; platform_system == \"Linux\" and platform_machine == \"x86_64\", which is not installed.\n",
            "torch 2.2.1+cu121 requires nvidia-curand-cu12==10.3.2.106; platform_system == \"Linux\" and platform_machine == \"x86_64\", which is not installed.\n",
            "torch 2.2.1+cu121 requires nvidia-cusolver-cu12==11.4.5.107; platform_system == \"Linux\" and platform_machine == \"x86_64\", which is not installed.\n",
            "torch 2.2.1+cu121 requires nvidia-cusparse-cu12==12.1.0.106; platform_system == \"Linux\" and platform_machine == \"x86_64\", which is not installed.\n",
            "torch 2.2.1+cu121 requires nvidia-nccl-cu12==2.19.3; platform_system == \"Linux\" and platform_machine == \"x86_64\", which is not installed.\n",
            "torch 2.2.1+cu121 requires nvidia-nvtx-cu12==12.1.105; platform_system == \"Linux\" and platform_machine == \"x86_64\", which is not installed.\u001b[0m\u001b[31m\n",
            "\u001b[0mSuccessfully installed networkx-2.8.8 node2vec-0.4.6\n"
          ]
        },
        {
          "output_type": "display_data",
          "data": {
            "application/vnd.colab-display-data+json": {
              "pip_warning": {
                "packages": [
                  "networkx"
                ]
              },
              "id": "bf6826f151f54094b790184774c70591"
            }
          },
          "metadata": {}
        }
      ]
    },
    {
      "cell_type": "code",
      "source": [
        "from node2vec import Node2Vec"
      ],
      "metadata": {
        "id": "c5WeTMfG97oj"
      },
      "execution_count": null,
      "outputs": []
    },
    {
      "cell_type": "code",
      "source": [
        "# выделение сообществ методом Node2Vec\n",
        "def node2vec_community_detection(graph, num_communities):\n",
        "    # обучаем модель Node2Vec\n",
        "    node2vec = Node2Vec(graph, dimensions=128, walk_length=30, num_walks=200, workers=2)\n",
        "    model = node2vec.fit(window=10, min_count=1, batch_words=4)\n",
        "    # получаем векторы вершин\n",
        "    embeddings = {node: model.wv[node] for node in graph.nodes()}\n",
        "    # применяем KMeans к векторам вершин для кластеризации\n",
        "    kmeans = KMeans(n_clusters=num_communities, random_state=42)\n",
        "    labels = kmeans.fit_predict(list(embeddings.values()))\n",
        "    # формируем словарь, где ключами являются метки кластеров, а значениями - списки вершин в каждом кластере\n",
        "    communities = {}\n",
        "    for node, label in zip(graph.nodes(), labels):\n",
        "        if label not in communities:\n",
        "            communities[label] = []\n",
        "        communities[label].append(node)\n",
        "\n",
        "    return communities"
      ],
      "metadata": {
        "id": "eX-rVMbrdsCM"
      },
      "execution_count": null,
      "outputs": []
    },
    {
      "cell_type": "code",
      "source": [
        "# пример использования для графа G_facebook с 5 сообществами\n",
        "num_communities = 5\n",
        "facebook_communities = node2vec_community_detection(G_facebook, num_communities)\n",
        "print(\"сообщества, выделенные методом Node2Vec, для графа G_facebook:\")\n",
        "for label, nodes in facebook_communities.items():\n",
        "    print(f\"сообщество {label + 1}: {nodes}\")"
      ],
      "metadata": {
        "colab": {
          "base_uri": "https://localhost:8080/",
          "height": 208,
          "referenced_widgets": [
            "a1e843db338b43329804636539f8dfa1",
            "37712e8331884e469eb32c2278c0c216",
            "04c1111099304d498c21d4297657125e",
            "00b71f2b1b76454eb70350d5fd2623ec",
            "53aff16e19a142609bb01de67aa94003",
            "714ccf3731384a2dbc2ca6e67b17cdaf",
            "b5dc14b9765b487ab60182c90441d5d3",
            "3f5dc2a8d57445879059a7e7ddc5225f",
            "6581da92af834779bfece15123986b99",
            "aee40d96e52441e8b8386e2079cb1425",
            "a2f98add693f4614bdafb6001c6c0784"
          ]
        },
        "id": "8HgGKbYB-JxI",
        "outputId": "4e50a0e6-1bcd-43ee-d0b5-ca3f5c2f3e75"
      },
      "execution_count": null,
      "outputs": [
        {
          "output_type": "display_data",
          "data": {
            "text/plain": [
              "Computing transition probabilities:   0%|          | 0/4039 [00:00<?, ?it/s]"
            ],
            "application/vnd.jupyter.widget-view+json": {
              "version_major": 2,
              "version_minor": 0,
              "model_id": "a1e843db338b43329804636539f8dfa1"
            }
          },
          "metadata": {}
        },
        {
          "output_type": "stream",
          "name": "stderr",
          "text": [
            "/usr/local/lib/python3.10/dist-packages/sklearn/cluster/_kmeans.py:870: FutureWarning: The default value of `n_init` will change from 10 to 'auto' in 1.4. Set the value of `n_init` explicitly to suppress the warning\n",
            "  warnings.warn(\n"
          ]
        },
        {
          "output_type": "stream",
          "name": "stdout",
          "text": [
            "сообщества, выделенные методом Node2Vec, для графа G_facebook:\n",
            "сообщество 4: ['0', '2', '3', '4', '5', '6', '7', '8', '9', '10', '13', '14', '17', '19', '20', '22', '24', '25', '26', '27', '31', '33', '34', '35', '38', '39', '40', '41', '42', '44', '46', '50', '54', '55', '57', '63', '64', '65', '67', '69', '70', '71', '72', '73', '74', '75', '76', '79', '82', '85', '87', '89', '91', '92', '93', '95', '97', '98', '100', '101', '102', '103', '105', '106', '108', '109', '112', '113', '115', '118', '119', '120', '121', '123', '124', '125', '127', '130', '132', '134', '137', '138', '139', '141', '143', '145', '146', '151', '152', '153', '156', '157', '158', '159', '160', '161', '163', '164', '165', '166', '168', '169', '170', '171', '172', '173', '174', '175', '176', '180', '181', '184', '185', '187', '188', '189', '191', '192', '193', '196', '197', '199', '200', '202', '204', '206', '208', '209', '211', '212', '214', '215', '216', '218', '219', '220', '221', '224', '225', '226', '230', '232', '238', '241', '242', '244', '247', '248', '249', '254', '255', '258', '259', '260', '261', '262', '263', '265', '266', '267', '268', '271', '274', '275', '276', '277', '280', '281', '282', '283', '284', '285', '286', '288', '289', '290', '291', '293', '294', '295', '297', '299', '305', '306', '307', '308', '311', '312', '313', '314', '317', '318', '320', '321', '323', '324', '325', '326', '328', '329', '331', '332', '335', '339', '342', '343', '344', '346', '347', '351', '364', '441', '476', '501', '1', '11', '12', '15', '16', '18', '21', '23', '28', '30', '32', '36', '37', '43', '45', '47', '48', '49', '52', '53', '56', '59', '60', '61', '62', '66', '68', '77', '78', '80', '81', '84', '86', '88', '90', '94', '96', '99', '104', '110', '111', '114', '116', '117', '122', '126', '128', '129', '131', '133', '135', '140', '142', '144', '147', '149', '150', '154', '155', '162', '167', '177', '178', '179', '182', '183', '186', '190', '194', '195', '198', '201', '203', '205', '207', '210', '213', '223', '227', '228', '229', '231', '233', '234', '235', '236', '237', '239', '240', '243', '245', '246', '250', '251', '252', '253', '256', '257', '264', '269', '270', '272', '273', '278', '279', '287', '292', '296', '298', '300', '301', '302', '303', '304', '309', '310', '315', '316', '319', '322', '327', '330', '333', '334', '336', '337', '338', '340', '341', '345', '393', '399', '564', '29', '51', '83', '217', '222', '148']\n",
            "сообщество 2: ['58', '860', '990', '1450', '1534', '1642', '1656', '1666', '1684', '1726', '2661', '2662', '2663', '2666', '2669', '2672', '2674', '2675', '2676', '2677', '2678', '2680', '2681', '2682', '2683', '2684', '2685', '2688', '2689', '2690', '2691', '2693', '2694', '2696', '2697', '2698', '2699', '2700', '2701', '2702', '2703', '2704', '2705', '2706', '2707', '2708', '2709', '2710', '2711', '2712', '2714', '2718', '2720', '2722', '2723', '2724', '2725', '2726', '2729', '2730', '2731', '2734', '2736', '2737', '2738', '2740', '2741', '2743', '2744', '2745', '2748', '2750', '2751', '2752', '2753', '2754', '2755', '2756', '2757', '2758', '2759', '2761', '2763', '2764', '2765', '2767', '2768', '2769', '2771', '2773', '2774', '2776', '2779', '2782', '2789', '2793', '2794', '2796', '2797', '2798', '2800', '2801', '2802', '2804', '2805', '2807', '2808', '2809', '2810', '2812', '2813', '2815', '2816', '2819', '2820', '2821', '2822', '2823', '2825', '2826', '2829', '2832', '2833', '2834', '2836', '2837', '2838', '2839', '2841', '2842', '2843', '2845', '2846', '2848', '2849', '2852', '2853', '2854', '2857', '2858', '2859', '2860', '2866', '2867', '2868', '2869', '2870', '2871', '2872', '2873', '2874', '2879', '2880', '2883', '2884', '2885', '2887', '2891', '2892', '2893', '2894', '2895', '2896', '2898', '2899', '2902', '2903', '2904', '2905', '2906', '2907', '2914', '2915', '2917', '2918', '2921', '2922', '2924', '2926', '2927', '2929', '2933', '2934', '2935', '2936', '2937', '2938', '2939', '2941', '2942', '2943', '2944', '2945', '2949', '2952', '2954', '2955', '2956', '2957', '2963', '2964', '2966', '2967', '2968', '2969', '2970', '2972', '2974', '2977', '2978', '2979', '2983', '2984', '2987', '2988', '2989', '2991', '2993', '2994', '2995', '2996', '2998', '2999', '3000', '3001', '3002', '3003', '3005', '3006', '3010', '3011', '3012', '3013', '3015', '3017', '3019', '3020', '3022', '3023', '3024', '3025', '3026', '3027', '3028', '3029', '3030', '3031', '3032', '3033', '3034', '3035', '3036', '3039', '3040', '3042', '3044', '3045', '3047', '3049', '3050', '3051', '3052', '3053', '3055', '3056', '3057', '3058', '3059', '3060', '3061', '3062', '3063', '3065', '3066', '3068', '3069', '3070', '3071', '3072', '3074', '3075', '3076', '3077', '3078', '3079', '3080', '3083', '3084', '3085', '3090', '3092', '3093', '3095', '3096', '3097', '3098', '3099', '3104', '3105', '3107', '3108', '3111', '3115', '3118', '3123', '3125', '3127', '3128', '3129', '3130', '3131', '3132', '3135', '3141', '3142', '3143', '3147', '3149', '3152', '3153', '3154', '3155', '3156', '3157', '3158', '3159', '3160', '3161', '3163', '3164', '3166', '3169', '3171', '3173', '3174', '3175', '3176', '3177', '3179', '3180', '3182', '3183', '3186', '3187', '3189', '3190', '3192', '3193', '3194', '3196', '3199', '3201', '3204', '3205', '3206', '3207', '3212', '3213', '3214', '3216', '3217', '3219', '3220', '3221', '3222', '3223', '3225', '3226', '3227', '3229', '3230', '3231', '3232', '3233', '3234', '3236', '3237', '3238', '3246', '3247', '3248', '3249', '3250', '3253', '3254', '3256', '3257', '3258', '3259', '3262', '3263', '3264', '3265', '3268', '3269', '3270', '3271', '3273', '3274', '3276', '3277', '3278', '3281', '3282', '3283', '3284', '3285', '3286', '3287', '3289', '3290', '3293', '3294', '3296', '3297', '3298', '3300', '3301', '3302', '3303', '3304', '3305', '3307', '3308', '3311', '3313', '3315', '3316', '3317', '3319', '3322', '3323', '3325', '3327', '3328', '3329', '3332', '3333', '3337', '3338', '3339', '3340', '3343', '3347', '3348', '3349', '3350', '3352', '3354', '3355', '3357', '3361', '3362', '3363', '3364', '3366', '3368', '3370', '3371', '3373', '3375', '3376', '3377', '3380', '3382', '3383', '3384', '3386', '3387', '3388', '3390', '3393', '3395', '3396', '3397', '3398', '3400', '3401', '3403', '3404', '3405', '3407', '3408', '3410', '3411', '3413', '3416', '3419', '3420', '3424', '3426', '3427', '3428', '3430', '3432', '3434', '3435', '3436', '1405', '1419', '1505', '2664', '2665', '2667', '2668', '2670', '2671', '2673', '2679', '2686', '2692', '2695', '2713', '2716', '2717', '2719', '2721', '2727', '2728', '2732', '2733', '2739', '2742', '2746', '2747', '2749', '2760', '2762', '2766', '2770', '2772', '2775', '2777', '2778', '2780', '2783', '2784', '2786', '2787', '2788', '2790', '2791', '2792', '2799', '2803', '2806', '2811', '2814', '2817', '2818', '2824', '2827', '2828', '2830', '2831', '2835', '2840', '2844', '2847', '2850', '2851', '2855', '2861', '2862', '2863', '2864', '2865', '2875', '2876', '2877', '2881', '2882', '2886', '2888', '2889', '2890', '2897', '2900', '2901', '2908', '2909', '2910', '2911', '2912', '2913', '2916', '2919', '2920', '2923', '2925', '2928', '2930', '2931', '2932', '2940', '2946', '2947', '2948', '2950', '2951', '2953', '2958', '2960', '2961', '2962', '2965', '2971', '2973', '2975', '2976', '2980', '2981', '2982', '2985', '2986', '2990', '2992', '2997', '3004', '3007', '3008', '3009', '3014', '3016', '3018', '3021', '3037', '3038', '3043', '3046', '3048', '3054', '3064', '3067', '3073', '3081', '3082', '3086', '3087', '3088', '3089', '3091', '3094', '3100', '3101', '3102', '3103', '3106', '3109', '3112', '3113', '3114', '3116', '3117', '3120', '3121', '3122', '3124', '3126', '3133', '3134', '3136', '3137', '3138', '3139', '3140', '3144', '3145', '3146', '3148', '3150', '3151', '3162', '3165', '3167', '3168', '3170', '3172', '3178', '3181', '3184', '3185', '3188', '3191', '3195', '3197', '3198', '3200', '3202', '3203', '3208', '3209', '3210', '3215', '3218', '3224', '3228', '3235', '3239', '3240', '3241', '3242', '3243', '3244', '3245', '3251', '3252', '3255', '3260', '3261', '3266', '3267', '3272', '3275', '3279', '3280', '3288', '3291', '3292', '3295', '3299', '3306', '3309', '3310', '3312', '3318', '3320', '3321', '3324', '3326', '3330', '3331', '3334', '3335', '3336', '3341', '3342', '3344', '3345', '3346', '3351', '3353', '3356', '3358', '3360', '3365', '3367', '3369', '3372', '3374', '3378', '3379', '3381', '3385', '3389', '3391', '3392', '3394', '3399', '3402', '3406', '3409', '3412', '3414', '3415', '3417', '3418', '3421', '3422', '3423', '3425', '3429', '3431', '3433', '2715', '2735', '2781', '2785', '2795', '2856', '2878', '2959', '3041', '3110', '3119', '3211', '3314', '3359', '2687']\n",
            "сообщество 1: ['107', '348', '349', '350', '352', '354', '355', '357', '359', '361', '363', '365', '366', '367', '368', '369', '372', '374', '375', '376', '377', '378', '380', '382', '383', '384', '387', '388', '389', '391', '394', '395', '396', '397', '398', '400', '401', '402', '403', '404', '405', '406', '407', '408', '409', '413', '414', '415', '418', '419', '420', '421', '422', '424', '425', '426', '427', '428', '430', '431', '432', '433', '434', '435', '436', '437', '438', '439', '440', '443', '444', '445', '448', '449', '450', '451', '452', '454', '455', '456', '457', '458', '459', '460', '462', '464', '465', '466', '467', '469', '470', '471', '474', '475', '477', '478', '479', '480', '481', '482', '483', '484', '485', '486', '487', '488', '489', '490', '491', '493', '494', '495', '496', '500', '502', '504', '505', '506', '507', '508', '509', '510', '511', '512', '513', '514', '515', '516', '517', '518', '519', '520', '522', '523', '525', '526', '529', '530', '531', '532', '533', '534', '535', '536', '538', '539', '540', '541', '543', '544', '545', '546', '549', '550', '551', '552', '554', '556', '557', '558', '559', '561', '562', '563', '568', '569', '570', '573', '575', '578', '579', '581', '582', '583', '585', '588', '589', '592', '593', '594', '596', '597', '598', '600', '603', '604', '605', '606', '608', '609', '610', '611', '614', '617', '618', '619', '620', '622', '625', '626', '627', '628', '630', '631', '632', '633', '634', '637', '639', '642', '643', '644', '645', '646', '647', '649', '651', '653', '654', '655', '656', '657', '658', '661', '662', '664', '665', '666', '669', '670', '671', '673', '675', '676', '677', '678', '680', '681', '682', '683', '684', '896', '898', '900', '901', '902', '903', '904', '905', '906', '909', '912', '913', '914', '915', '917', '921', '922', '924', '926', '927', '928', '929', '930', '931', '932', '934', '935', '936', '939', '940', '942', '943', '944', '945', '948', '949', '950', '951', '952', '955', '956', '957', '958', '960', '961', '962', '963', '964', '966', '968', '969', '970', '971', '973', '975', '976', '977', '978', '979', '980', '981', '984', '985', '986', '987', '988', '992', '995', '996', '997', '998', '1003', '1005', '1006', '1007', '1008', '1010', '1011', '1013', '1014', '1015', '1016', '1019', '1020', '1021', '1022', '1025', '1026', '1027', '1029', '1030', '1031', '1032', '1033', '1035', '1037', '1041', '1042', '1044', '1045', '1048', '1049', '1050', '1051', '1052', '1053', '1054', '1057', '1058', '1059', '1061', '1062', '1064', '1066', '1068', '1070', '1071', '1073', '1074', '1075', '1077', '1078', '1081', '1082', '1083', '1084', '1086', '1087', '1088', '1089', '1090', '1093', '1095', '1096', '1097', '1098', '1099', '1100', '1102', '1104', '1105', '1106', '1107', '1108', '1109', '1110', '1111', '1112', '1113', '1114', '1115', '1116', '1118', '1120', '1121', '1122', '1123', '1126', '1128', '1129', '1131', '1132', '1135', '1136', '1138', '1139', '1143', '1144', '1146', '1147', '1151', '1152', '1153', '1154', '1158', '1159', '1160', '1161', '1163', '1164', '1165', '1166', '1167', '1168', '1170', '1171', '1172', '1175', '1176', '1177', '1178', '1179', '1180', '1183', '1184', '1185', '1186', '1187', '1188', '1189', '1190', '1193', '1195', '1199', '1202', '1203', '1205', '1206', '1207', '1209', '1213', '1216', '1217', '1218', '1219', '1221', '1222', '1223', '1224', '1225', '1226', '1227', '1229', '1230', '1231', '1232', '1236', '1238', '1239', '1241', '1242', '1244', '1245', '1246', '1247', '1248', '1249', '1250', '1251', '1252', '1256', '1258', '1259', '1260', '1261', '1262', '1263', '1264', '1265', '1267', '1269', '1272', '1275', '1277', '1278', '1279', '1280', '1281', '1282', '1283', '1286', '1288', '1291', '1292', '1293', '1294', '1296', '1297', '1298', '1299', '1300', '1301', '1302', '1304', '1305', '1306', '1307', '1308', '1310', '1311', '1313', '1314', '1316', '1317', '1318', '1320', '1322', '1323', '1325', '1328', '1332', '1333', '1334', '1337', '1338', '1340', '1341', '1343', '1344', '1345', '1346', '1347', '1348', '1349', '1350', '1351', '1352', '1353', '1354', '1355', '1356', '1357', '1359', '1360', '1361', '1362', '1363', '1364', '1366', '1367', '1368', '1369', '1371', '1373', '1374', '1375', '1377', '1379', '1382', '1385', '1386', '1387', '1388', '1389', '1390', '1391', '1392', '1393', '1399', '1401', '1404', '1406', '1407', '1408', '1409', '1410', '1412', '1415', '1416', '1418', '1420', '1421', '1422', '1424', '1426', '1428', '1429', '1430', '1431', '1432', '1435', '1436', '1438', '1439', '1443', '1444', '1448', '1449', '1452', '1453', '1454', '1456', '1459', '1460', '1461', '1462', '1467', '1468', '1469', '1470', '1471', '1472', '1473', '1479', '1480', '1481', '1482', '1484', '1486', '1490', '1491', '1494', '1496', '1499', '1500', '1501', '1502', '1503', '1504', '1507', '1512', '1513', '1514', '1516', '1517', '1520', '1525', '1527', '1528', '1529', '1531', '1533', '1535', '1536', '1538', '1539', '1541', '1542', '1543', '1544', '1545', '1546', '1547', '1548', '1549', '1553', '1554', '1555', '1557', '1558', '1561', '1562', '1564', '1565', '1569', '1570', '1571', '1572', '1573', '1574', '1575', '1578', '1579', '1582', '1583', '1584', '1587', '1588', '1591', '1596', '1599', '1600', '1601', '1602', '1603', '1604', '1606', '1607', '1608', '1609', '1610', '1611', '1615', '1620', '1621', '1622', '1624', '1625', '1628', '1629', '1630', '1631', '1632', '1633', '1634', '1635', '1636', '1639', '1640', '1641', '1645', '1646', '1649', '1650', '1652', '1653', '1658', '1660', '1663', '1664', '1667', '1668', '1669', '1670', '1671', '1672', '1673', '1675', '1676', '1677', '1678', '1679', '1681', '1683', '1685', '1686', '1687', '1688', '1689', '1690', '1691', '1693', '1695', '1696', '1699', '1701', '1703', '1708', '1709', '1713', '1714', '1719', '1720', '1721', '1727', '1729', '1730', '1731', '1733', '1734', '1737', '1738', '1740', '1742', '1744', '1745', '1746', '1747', '1748', '1756', '1757', '1758', '1759', '1760', '1761', '1763', '1764', '1765', '1767', '1770', '1771', '1776', '1777', '1778', '1780', '1781', '1782', '1783', '1784', '1786', '1788', '1789', '1792', '1794', '1795', '1796', '1798', '1800', '1802', '1803', '1804', '1807', '1809', '1810', '1811', '1813', '1814', '1815', '1816', '1818', '1819', '1820', '1823', '1825', '1826', '1828', '1829', '1830', '1831', '1832', '1833', '1837', '1840', '1842', '1843', '1844', '1845', '1847', '1850', '1851', '1852', '1854', '1857', '1859', '1860', '1861', '1862', '1863', '1864', '1866', '1867', '1868', '1870', '1871', '1872', '1873', '1874', '1876', '1877', '1880', '1883', '1884', '1885', '1887', '1888', '1889', '1891', '1892', '1894', '1895', '1896', '1897', '1898', '1899', '1903', '1904', '1905', '1906', '1907', '1908', '1910', '3989', '3991', '4011', '4031', '353', '356', '360', '362', '370', '371', '373', '385', '386', '390', '392', '411', '412', '416', '417', '423', '429', '446', '453', '461', '463', '472', '473', '492', '497', '503', '521', '524', '527', '528', '537', '542', '547', '548', '553', '560', '565', '566', '567', '571', '577', '580', '586', '587', '590', '591', '601', '612', '613', '623', '624', '629', '652', '660', '663', '667', '672', '897', '899', '907', '908', '910', '911', '916', '918', '920', '925', '938', '946', '947', '953', '959', '967', '972', '982', '983', '991', '993', '994', '1002', '1004', '1012', '1017', '1023', '1024', '1028', '1034', '1039', '1040', '1043', '1055', '1056', '1060', '1063', '1069', '1076', '1079', '1080', '1091', '1092', '1101', '1117', '1119', '1124', '1125', '1130', '1133', '1137', '1140', '1141', '1145', '1149', '1150', '1155', '1157', '1173', '1174', '1181', '1182', '1191', '1196', '1197', '1198', '1200', '1201', '1208', '1210', '1211', '1212', '1214', '1234', '1237', '1240', '1243', '1254', '1255', '1266', '1268', '1271', '1274', '1276', '1289', '1290', '1312', '1321', '1327', '1329', '1330', '1331', '1335', '1336', '1339', '1342', '1358', '1365', '1370', '1376', '1378', '1380', '1383', '1384', '1394', '1395', '1397', '1398', '1400', '1402', '1403', '1411', '1414', '1417', '1423', '1433', '1434', '1437', '1440', '1442', '1445', '1446', '1447', '1457', '1458', '1463', '1464', '1476', '1477', '1478', '1483', '1485', '1487', '1488', '1493', '1497', '1498', '1509', '1511', '1518', '1519', '1521', '1522', '1523', '1524', '1526', '1530', '1532', '1537', '1540', '1551', '1552', '1556', '1559', '1563', '1566', '1567', '1568', '1580', '1581', '1585', '1589', '1590', '1592', '1593', '1594', '1597', '1598', '1605', '1612', '1613', '1614', '1616', '1617', '1618', '1619', '1623', '1626', '1627', '1637', '1643', '1644', '1648', '1651', '1654', '1657', '1659', '1662', '1665', '1674', '1680', '1692', '1694', '1697', '1698', '1700', '1702', '1705', '1707', '1710', '1711', '1712', '1716', '1717', '1722', '1723', '1724', '1735', '1736', '1739', '1750', '1752', '1753', '1754', '1755', '1762', '1768', '1769', '1772', '1773', '1774', '1779', '1787', '1790', '1791', '1793', '1797', '1799', '1801', '1805', '1806', '1808', '1817', '1821', '1822', '1824', '1827', '1834', '1835', '1836', '1838', '1839', '1846', '1849', '1853', '1856', '1858', '1865', '1878', '1879', '1881', '1882', '1886', '1890', '1900', '1901', '1902', '1909', '1911', '379', '381', '410', '442', '468', '498', '499', '555', '572', '574', '576', '584', '595', '599', '615', '616', '621', '635', '636', '640', '641', '648', '650', '659', '679', '685', '919', '923', '933', '937', '941', '954', '965', '974', '989', '999', '1000', '1001', '1009', '1018', '1036', '1038', '1046', '1047', '1065', '1067', '1094', '1103', '1127', '1134', '1142', '1148', '1156', '1162', '1169', '1192', '1194', '1204', '1215', '1220', '1228', '1233', '1235', '1253', '1257', '1270', '1273', '1284', '1285', '1287', '1295', '1303', '1309', '1315', '1319', '1324', '1326', '1372', '1381', '1396', '1413', '1425', '1427', '1441', '1451', '1455', '1466', '1474', '1475', '1489', '1492', '1495', '1506', '1508', '1510', '1515', '1550', '1560', '1576', '1586', '1595', '1638', '1647', '1655', '1661', '1682', '1704', '1706', '1715', '1725', '1728', '1732', '1741', '1743', '1749', '1751', '1766', '1775', '1785', '1812', '1841', '1848', '1855', '1869', '1875', '1893', '1072', '358', '447', '602', '607', '638', '668', '674']\n",
            "сообщество 5: ['136', '687', '688', '690', '692', '694', '695', '696', '699', '700', '701', '706', '708', '712', '715', '721', '722', '723', '724', '725', '726', '727', '729', '730', '731', '735', '738', '744', '747', '748', '750', '752', '760', '761', '762', '763', '766', '767', '769', '771', '773', '774', '775', '777', '785', '796', '797', '802', '803', '804', '806', '810', '816', '818', '825', '829', '831', '832', '833', '834', '839', '840', '846', '847', '849', '850', '856', '863', '869', '876', '878', '888', '889', '1465', '1577', '1718', '1913', '1914', '1915', '1917', '1922', '1923', '1924', '1931', '1932', '1933', '1934', '1936', '1937', '1939', '1941', '1943', '1946', '1947', '1948', '1950', '1952', '1953', '1955', '1956', '1957', '1959', '1962', '1964', '1966', '1967', '1972', '1973', '1975', '1977', '1978', '1979', '1980', '1983', '1984', '1986', '1989', '1991', '1992', '1994', '1995', '1998', '1999', '2000', '2001', '2002', '2006', '2007', '2012', '2016', '2018', '2023', '2025', '2026', '2027', '2028', '2029', '2031', '2032', '2036', '2037', '2038', '2040', '2041', '2042', '2045', '2047', '2049', '2050', '2052', '2053', '2054', '2055', '2057', '2058', '2059', '2060', '2061', '2062', '2064', '2066', '2069', '2070', '2071', '2072', '2076', '2077', '2078', '2080', '2083', '2084', '2090', '2093', '2096', '2099', '2101', '2102', '2104', '2105', '2106', '2108', '2109', '2112', '2114', '2115', '2116', '2118', '2122', '2123', '2125', '2128', '2131', '2132', '2135', '2136', '2138', '2143', '2146', '2147', '2148', '2150', '2151', '2152', '2159', '2161', '2162', '2163', '2164', '2166', '2168', '2169', '2170', '2171', '2173', '2174', '2177', '2178', '2183', '2187', '2188', '2191', '2194', '2196', '2197', '2200', '2201', '2203', '2204', '2206', '2210', '2211', '2212', '2213', '2215', '2216', '2217', '2218', '2221', '2222', '2223', '2224', '2225', '2226', '2229', '2231', '2232', '2235', '2236', '2238', '2239', '2242', '2243', '2245', '2250', '2252', '2265', '2266', '2267', '2271', '2273', '2274', '2275', '2279', '2280', '2281', '2283', '2284', '2286', '2293', '2294', '2298', '2300', '2301', '2303', '2307', '2308', '2310', '2312', '2314', '2315', '2316', '2317', '2318', '2320', '2321', '2325', '2327', '2328', '2329', '2330', '2332', '2334', '2336', '2337', '2338', '2341', '2345', '2346', '2347', '2350', '2351', '2353', '2356', '2357', '2360', '2362', '2363', '2364', '2365', '2366', '2367', '2368', '2370', '2372', '2375', '2378', '2379', '2381', '2382', '2385', '2386', '2388', '2390', '2391', '2392', '2394', '2399', '2402', '2403', '2404', '2406', '2412', '2413', '2414', '2418', '2420', '2421', '2424', '2426', '2429', '2435', '2436', '2438', '2442', '2443', '2444', '2449', '2451', '2452', '2456', '2457', '2458', '2468', '2469', '2471', '2473', '2477', '2479', '2480', '2486', '2488', '2493', '2494', '2498', '2499', '2501', '2502', '2503', '2504', '2509', '2512', '2516', '2517', '2518', '2522', '2523', '2527', '2528', '2534', '2535', '2539', '2540', '2541', '2542', '2543', '2544', '2545', '2550', '2551', '2555', '2556', '2557', '2568', '2570', '2571', '2572', '2575', '2576', '2577', '2580', '2583', '2587', '2588', '2592', '2593', '2594', '2595', '2596', '2597', '2598', '2602', '2603', '2605', '2610', '2611', '2612', '2613', '2615', '2616', '2619', '2620', '2621', '2622', '2626', '2627', '2628', '2630', '2631', '2632', '2633', '2636', '2637', '2638', '2639', '2641', '2642', '2643', '2645', '2647', '2649', '2650', '2651', '2652', '2653', '2654', '2657', '3982', '3983', '3984', '3985', '3986', '3988', '3993', '3995', '3996', '3997', '3998', '3999', '4000', '4002', '4003', '4004', '4005', '4006', '4007', '4008', '4009', '4010', '4014', '4015', '4016', '4017', '4019', '4021', '4023', '4026', '4027', '4028', '4030', '4032', '4034', '4037', '4038', '691', '693', '697', '702', '703', '705', '707', '709', '710', '714', '716', '718', '719', '720', '732', '733', '736', '740', '741', '742', '743', '749', '751', '753', '754', '755', '758', '759', '764', '765', '768', '778', '779', '781', '782', '783', '786', '787', '788', '789', '790', '792', '793', '794', '801', '805', '809', '811', '814', '817', '821', '822', '824', '828', '835', '836', '837', '838', '841', '842', '843', '844', '848', '851', '852', '853', '855', '880', '1916', '1918', '1919', '1920', '1921', '1925', '1926', '1927', '1928', '1930', '1935', '1938', '1940', '1944', '1945', '1949', '1951', '1954', '1960', '1961', '1963', '1965', '1969', '1970', '1974', '1976', '1981', '1982', '1987', '1988', '1990', '1996', '2003', '2004', '2005', '2008', '2009', '2010', '2011', '2013', '2014', '2015', '2017', '2022', '2024', '2033', '2034', '2035', '2039', '2043', '2048', '2051', '2056', '2063', '2065', '2067', '2068', '2073', '2074', '2075', '2079', '2081', '2082', '2085', '2086', '2087', '2088', '2089', '2091', '2094', '2097', '2098', '2100', '2103', '2107', '2110', '2111', '2113', '2117', '2119', '2120', '2121', '2124', '2126', '2127', '2129', '2130', '2133', '2134', '2137', '2139', '2140', '2141', '2142', '2144', '2145', '2149', '2153', '2154', '2155', '2156', '2157', '2158', '2160', '2167', '2175', '2180', '2181', '2182', '2184', '2185', '2186', '2189', '2192', '2193', '2195', '2198', '2199', '2202', '2205', '2207', '2208', '2209', '2214', '2219', '2227', '2228', '2230', '2233', '2234', '2237', '2241', '2244', '2246', '2247', '2248', '2249', '2251', '2254', '2256', '2257', '2259', '2260', '2261', '2268', '2269', '2270', '2272', '2277', '2278', '2282', '2287', '2289', '2290', '2292', '2295', '2296', '2297', '2302', '2304', '2306', '2309', '2313', '2319', '2322', '2323', '2326', '2331', '2333', '2335', '2342', '2343', '2344', '2348', '2352', '2354', '2355', '2358', '2361', '2369', '2371', '2373', '2377', '2380', '2383', '2384', '2387', '2389', '2393', '2395', '2396', '2397', '2400', '2401', '2405', '2407', '2409', '2410', '2411', '2415', '2416', '2417', '2419', '2422', '2425', '2427', '2428', '2431', '2432', '2434', '2440', '2441', '2445', '2446', '2447', '2448', '2450', '2453', '2454', '2455', '2459', '2460', '2461', '2463', '2464', '2465', '2470', '2472', '2474', '2475', '2476', '2481', '2483', '2490', '2491', '2497', '2500', '2505', '2506', '2507', '2508', '2510', '2511', '2513', '2514', '2515', '2519', '2520', '2521', '2524', '2525', '2526', '2529', '2530', '2531', '2532', '2533', '2536', '2537', '2548', '2549', '2553', '2558', '2560', '2562', '2563', '2565', '2566', '2567', '2569', '2573', '2574', '2579', '2581', '2582', '2584', '2585', '2586', '2589', '2599', '2601', '2604', '2607', '2608', '2609', '2614', '2617', '2618', '2624', '2625', '2629', '2634', '2635', '2640', '2644', '2646', '2648', '2656', '2658', '2659', '2660', '3981', '3992', '3994', '4001', '4012', '4013', '4018', '4020', '4022', '4024', '4029', '4033', '4035', '4036', '689', '704', '711', '713', '717', '728', '737', '739', '745', '746', '756', '757', '770', '772', '780', '791', '795', '798', '799', '800', '807', '808', '813', '815', '819', '820', '823', '826', '827', '845', '854', '861', '882', '886', '890', '1929', '1942', '1958', '1968', '1971', '1985', '1993', '1997', '2019', '2020', '2021', '2030', '2044', '2046', '2095', '2165', '2172', '2176', '2179', '2190', '2220', '2240', '2253', '2255', '2258', '2262', '2263', '2264', '2276', '2285', '2288', '2291', '2299', '2305', '2311', '2324', '2339', '2340', '2349', '2359', '2374', '2376', '2408', '2423', '2430', '2433', '2437', '2439', '2462', '2466', '2467', '2478', '2482', '2484', '2485', '2487', '2489', '2492', '2495', '2496', '2538', '2546', '2547', '2552', '2554', '2559', '2561', '2564', '2578', '2590', '2591', '2600', '2606', '2623', '2655', '3987', '3990', '4025', '2092', '2398', '734', '812', '830', '784', '1912', '3980', '686']\n",
            "сообщество 3: ['698', '776', '857', '858', '859', '862', '864', '865', '866', '868', '870', '873', '874', '877', '879', '881', '883', '887', '891', '892', '893', '894', '895', '1085', '3439', '3440', '3441', '3442', '3443', '3445', '3447', '3448', '3449', '3452', '3453', '3454', '3457', '3461', '3463', '3469', '3475', '3476', '3478', '3480', '3482', '3484', '3485', '3486', '3487', '3488', '3489', '3491', '3492', '3494', '3495', '3496', '3497', '3499', '3501', '3503', '3504', '3505', '3507', '3508', '3509', '3510', '3511', '3512', '3513', '3515', '3516', '3517', '3519', '3520', '3521', '3525', '3526', '3527', '3528', '3529', '3530', '3533', '3536', '3537', '3539', '3540', '3542', '3543', '3544', '3546', '3547', '3548', '3550', '3551', '3552', '3553', '3554', '3555', '3556', '3557', '3558', '3559', '3561', '3563', '3565', '3566', '3567', '3571', '3572', '3573', '3577', '3579', '3581', '3582', '3583', '3584', '3586', '3588', '3590', '3593', '3594', '3595', '3596', '3598', '3603', '3605', '3607', '3608', '3609', '3610', '3615', '3618', '3619', '3620', '3621', '3622', '3625', '3626', '3627', '3632', '3634', '3635', '3637', '3638', '3639', '3640', '3642', '3643', '3644', '3648', '3652', '3653', '3656', '3658', '3661', '3663', '3664', '3665', '3667', '3671', '3672', '3673', '3676', '3677', '3678', '3679', '3681', '3683', '3684', '3687', '3688', '3689', '3690', '3693', '3697', '3698', '3701', '3702', '3703', '3704', '3705', '3712', '3713', '3718', '3720', '3721', '3722', '3723', '3727', '3731', '3732', '3733', '3736', '3738', '3739', '3740', '3741', '3747', '3748', '3750', '3752', '3754', '3756', '3757', '3759', '3763', '3764', '3766', '3767', '3768', '3772', '3775', '3776', '3779', '3780', '3781', '3782', '3783', '3785', '3786', '3787', '3788', '3791', '3794', '3795', '3796', '3797', '3799', '3800', '3801', '3802', '3803', '3804', '3805', '3806', '3808', '3809', '3810', '3812', '3817', '3818', '3819', '3820', '3821', '3822', '3825', '3826', '3827', '3828', '3831', '3832', '3833', '3838', '3839', '3841', '3842', '3845', '3848', '3849', '3851', '3852', '3853', '3854', '3855', '3856', '3857', '3859', '3860', '3862', '3864', '3865', '3869', '3871', '3872', '3875', '3879', '3880', '3881', '3886', '3887', '3888', '3889', '3890', '3891', '3892', '3893', '3894', '3895', '3897', '3901', '3902', '3904', '3905', '3908', '3909', '3911', '3912', '3913', '3914', '3915', '3916', '3917', '3918', '3919', '3922', '3926', '3927', '3928', '3930', '3931', '3933', '3935', '3936', '3938', '3939', '3940', '3942', '3943', '3944', '3945', '3946', '3948', '3950', '3953', '3954', '3956', '3958', '3959', '3960', '3962', '3963', '3966', '3968', '3969', '3970', '3974', '3977', '3978', '3979', '867', '871', '884', '885', '3438', '3444', '3446', '3450', '3451', '3455', '3456', '3458', '3459', '3460', '3462', '3464', '3465', '3466', '3467', '3468', '3470', '3471', '3472', '3473', '3474', '3477', '3483', '3490', '3493', '3500', '3506', '3514', '3518', '3522', '3524', '3531', '3532', '3534', '3535', '3538', '3541', '3545', '3549', '3560', '3564', '3568', '3569', '3570', '3574', '3575', '3576', '3578', '3580', '3585', '3587', '3589', '3591', '3592', '3597', '3599', '3600', '3601', '3602', '3604', '3606', '3611', '3612', '3614', '3616', '3617', '3623', '3624', '3628', '3629', '3630', '3631', '3633', '3636', '3641', '3645', '3646', '3647', '3649', '3650', '3651', '3654', '3655', '3657', '3659', '3660', '3662', '3666', '3668', '3669', '3670', '3674', '3675', '3680', '3682', '3686', '3692', '3694', '3695', '3696', '3699', '3700', '3706', '3707', '3708', '3709', '3710', '3711', '3714', '3715', '3719', '3724', '3725', '3726', '3728', '3729', '3734', '3735', '3737', '3742', '3743', '3745', '3746', '3749', '3751', '3753', '3755', '3758', '3760', '3761', '3762', '3769', '3770', '3771', '3773', '3774', '3777', '3784', '3789', '3792', '3793', '3798', '3807', '3811', '3814', '3815', '3816', '3823', '3829', '3830', '3834', '3835', '3836', '3837', '3840', '3843', '3844', '3846', '3847', '3850', '3858', '3861', '3863', '3866', '3867', '3868', '3870', '3873', '3874', '3876', '3877', '3878', '3882', '3884', '3885', '3896', '3899', '3900', '3903', '3906', '3907', '3910', '3920', '3921', '3923', '3924', '3925', '3929', '3932', '3937', '3941', '3947', '3949', '3951', '3955', '3957', '3961', '3964', '3965', '3967', '3971', '3972', '3973', '3975', '3976', '872', '3479', '3481', '3498', '3502', '3523', '3562', '3613', '3685', '3691', '3716', '3717', '3730', '3778', '3790', '3813', '3824', '3883', '3898', '3952', '3744', '3934', '3765', '3437', '875']\n"
          ]
        }
      ]
    },
    {
      "cell_type": "markdown",
      "source": [
        "##### 5. GraphSAGE"
      ],
      "metadata": {
        "id": "i5RnOkriWjJZ"
      }
    },
    {
      "cell_type": "code",
      "source": [
        "from gensim.models import Word2Vec"
      ],
      "metadata": {
        "id": "Xrn1iJGY-RZK"
      },
      "execution_count": null,
      "outputs": []
    },
    {
      "cell_type": "code",
      "source": [
        "# выделение сообществ методом GraphSAGE\n",
        "def graphsage_community_detection(graph, num_communities):\n",
        "    # генерируем соседей вершин для каждой вершины\n",
        "    neighbors = {node: list(graph.neighbors(node)) for node in graph.nodes()}\n",
        "    # обучаем модель GraphSAGE на соседях вершин\n",
        "    model = Word2Vec(neighbors.values(), vector_size=128, window=5, min_count=0, sg=1, workers=2, epochs=1)\n",
        "    # получаем эмбеддинги вершин\n",
        "    embeddings = {node: model.wv[node] for node in graph.nodes() if node in model.wv}\n",
        "    # применяем KMeans к эмбеддингам для кластеризации вершин\n",
        "    kmeans = KMeans(n_clusters=num_communities, random_state=42)\n",
        "    labels = kmeans.fit_predict(list(embeddings.values()))\n",
        "    # формируем словарь, где ключами являются метки кластеров, а значениями - списки вершин в каждом кластере\n",
        "    communities = {}\n",
        "    for node, label in zip(embeddings.keys(), labels):\n",
        "        if label not in communities:\n",
        "            communities[label] = []\n",
        "        communities[label].append(node)\n",
        "\n",
        "    return communities"
      ],
      "metadata": {
        "id": "p_a2oWsa7azd"
      },
      "execution_count": null,
      "outputs": []
    },
    {
      "cell_type": "code",
      "source": [
        "# пример использования для графа G_facebook с 5 сообществами\n",
        "num_communities = 5\n",
        "facebook_communities = graphsage_community_detection(G_facebook, num_communities)\n",
        "print(\"сообщества, выделенные методом GraphSAGE, для графа G_facebook:\")\n",
        "for label, nodes in facebook_communities.items():\n",
        "    print(f\"сообщество {label + 1}: {nodes}\")"
      ],
      "metadata": {
        "colab": {
          "base_uri": "https://localhost:8080/"
        },
        "id": "nQR3goBs7cAa",
        "outputId": "b6716a1f-8677-4cba-8763-9819e79037f0"
      },
      "execution_count": null,
      "outputs": [
        {
          "output_type": "stream",
          "name": "stderr",
          "text": [
            "/usr/local/lib/python3.10/dist-packages/sklearn/cluster/_kmeans.py:870: FutureWarning: The default value of `n_init` will change from 10 to 'auto' in 1.4. Set the value of `n_init` explicitly to suppress the warning\n",
            "  warnings.warn(\n"
          ]
        },
        {
          "output_type": "stream",
          "name": "stdout",
          "text": [
            "сообщества, выделенные методом GraphSAGE, для графа G_facebook:\n",
            "сообщество 2: ['0', '107', '136', '389', '526', '606', '651', '896', '902', '903', '906', '913', '915', '917', '921', '922', '924', '927', '930', '932', '936', '942', '944', '948', '949', '957', '958', '962', '963', '964', '968', '969', '971', '975', '977', '981', '984', '988', '992', '995', '1010', '1011', '1014', '1015', '1019', '1020', '1021', '1032', '1035', '1037', '1042', '1044', '1062', '1066', '1068', '1081', '1082', '1097', '1099', '1100', '1102', '1104', '1106', '1108', '1113', '1114', '1115', '1116', '1118', '1120', '1121', '1122', '1129', '1136', '1139', '1152', '1158', '1161', '1164', '1165', '1166', '1170', '1179', '1180', '1187', '1188', '1190', '1216', '1223', '1226', '1227', '1229', '1231', '1232', '1241', '1245', '1247', '1261', '1265', '1277', '1278', '1279', '1281', '1282', '1283', '1286', '1292', '1296', '1299', '1300', '1304', '1306', '1307', '1308', '1310', '1311', '1314', '1316', '1318', '1320', '1322', '1332', '1333', '1337', '1343', '1345', '1349', '1350', '1357', '1360', '1364', '1371', '1373', '1374', '1379', '1382', '1385', '1392', '1404', '1406', '1407', '1408', '1410', '1412', '1415', '1418', '1421', '1424', '1426', '1428', '1429', '1432', '1436', '1438', '1439', '1444', '1448', '1450', '1452', '1453', '1454', '1459', '1460', '1462', '1465', '1468', '1473', '1479', '1484', '1494', '1500', '1502', '1503', '1513', '1514', '1517', '1531', '1533', '1534', '1543', '1545', '1548', '1549', '1553', '1555', '1561', '1565', '1573', '1574', '1575', '1578', '1582', '1583', '1587', '1588', '1591', '1596', '1601', '1606', '1615', '1625', '1628', '1629', '1633', '1635', '1636', '1642', '1645', '1646', '1649', '1650', '1656', '1658', '1666', '1667', '1671', '1672', '1677', '1678', '1681', '1684', '1686', '1687', '1691', '1695', '1720', '1727', '1729', '1733', '1738', '1740', '1742', '1744', '1745', '1758', '1763', '1771', '1778', '1780', '1781', '1784', '1786', '1794', '1798', '1803', '1815', '1818', '1820', '1828', '1831', '1832', '1837', '1843', '1844', '1851', '1852', '1857', '1859', '1862', '1863', '1871', '1872', '1873', '1876', '1884', '1885', '1891', '1894', '1897', '1898', '1899', '1903', '1913', '1914', '1923', '1931', '1952', '1957', '1972', '1973', '1975', '1980', '1991', '1995', '1998', '1999', '2000', '2001', '2006', '2012', '2016', '2018', '2023', '2025', '2027', '2029', '2036', '2049', '2050', '2061', '2096', '2116', '2146', '2147', '2159', '2163', '2170', '2171', '2173', '2177', '2197', '2211', '2225', '2231', '2236', '2242', '2274', '2284', '2286', '2298', '2303', '2310', '2312', '2314', '2317', '2318', '2337', '2341', '2346', '2350', '2362', '2364', '2365', '2366', '2367', '2378', '2379', '2403', '2406', '2412', '2413', '2426', '2435', '2443', '2449', '2480', '2488', '2494', '2522', '2540', '2544', '2557', '2568', '2571', '2572', '2576', '2583', '2605', '2610', '2612', '2613', '2620', '2626', '2627', '2633', '2636', '2637', '2639', '2642', '2643', '2645', '2647', '2649', '2652', '2653', '2654', '2657', '2661', '2662', '2663', '2666', '2669', '2672', '2674', '2675', '2680', '2681', '2684', '2689', '2693', '2694', '2701', '2705', '2706', '2708', '2711', '2712', '2718', '2720', '2724', '2730', '2731', '2734', '2737', '2745', '2748', '2751', '2753', '2758', '2759', '2761', '2764', '2765', '2768', '2769', '2779', '2789', '2793', '2794', '2796', '2797', '2807', '2809', '2812', '2813', '2819', '2823', '2825', '2829', '2832', '2833', '2836', '2837', '2841', '2843', '2845', '2846', '2849', '2853', '2854', '2858', '2859', '2868', '2869', '2870', '2871', '2891', '2892', '2894', '2896', '2904', '2907', '2914', '2917', '2918', '2921', '2924', '2933', '2934', '2935', '2936', '2937', '2938', '2939', '2949', '2955', '2964', '2967', '2970', '2977', '2978', '2983', '2984', '2987', '2989', '2991', '2995', '2996', '2999', '3001', '3002', '3005', '3010', '3011', '3013', '3017', '3019', '3020', '3023', '3027', '3032', '3034', '3035', '3039', '3042', '3049', '3051', '3057', '3060', '3061', '3062', '3063', '3066', '3070', '3072', '3075', '3076', '3077', '3079', '3080', '3092', '3095', '3097', '3107', '3111', '3115', '3118', '3123', '3129', '3132', '3135', '3152', '3154', '3158', '3160', '3163', '3166', '3169', '3176', '3177', '3179', '3182', '3186', '3187', '3193', '3196', '3199', '3201', '3204', '3206', '3207', '3212', '3213', '3214', '3219', '3220', '3221', '3223', '3225', '3231', '3233', '3234', '3236', '3237', '3238', '3247', '3248', '3250', '3253', '3256', '3258', '3259', '3262', '3263', '3264', '3265', '3273', '3274', '3277', '3285', '3286', '3287', '3289', '3294', '3296', '3297', '3298', '3300', '3301', '3302', '3303', '3304', '3313', '3316', '3319', '3327', '3332', '3337', '3347', '3350', '3355', '3363', '3364', '3366', '3377', '3384', '3386', '3390', '3395', '3396', '3397', '3400', '3403', '3411', '3416', '3419', '3426', '3434', '3435', '3448', '3449', '3475', '3488', '3491', '3495', '3501', '3521', '3525', '3527', '3528', '3540', '3542', '3557', '3559', '3563', '3573', '3577', '3586', '3596', '3605', '3609', '3625', '3635', '3640', '3656', '3667', '3672', '3677', '3684', '3687', '3693', '3702', '3721', '3731', '3750', '3756', '3797', '3800', '3804', '3828', '3831', '3838', '3841', '3842', '3851', '3860', '3886', '3891', '3902', '3926', '3930', '3938', '3948', '3962', '3966', '3968', '897', '916', '938', '959', '982', '983', '994', '1012', '1039', '1056', '1060', '1063', '1069', '1080', '1091', '1137', '1141', '1155', '1196', '1210', '1237', '1274', '1321', '1327', '1358', '1365', '1378', '1398', '1405', '1419', '1423', '1433', '1437', '1440', '1446', '1458', '1485', '1487', '1493', '1497', '1505', '1511', '1519', '1532', '1556', '1566', '1567', '1568', '1593', '1616', '1618', '1626', '1674', '1680', '1692', '1694', '1700', '1702', '1705', '1710', '1716', '1722', '1769', '1773', '1774', '1779', '1787', '1805', '1806', '1821', '1824', '1836', '1846', '1858', '1881', '1882', '1902', '1909', '1911', '1919', '1921', '1927', '1928', '1935', '1944', '1951', '1960', '1965', '1976', '1982', '1987', '1988', '1990', '2004', '2009', '2011', '2022', '2024', '2035', '2048', '2065', '2067', '2085', '2089', '2091', '2097', '2107', '2126', '2129', '2141', '2145', '2156', '2157', '2160', '2185', '2186', '2192', '2202', '2207', '2208', '2209', '2214', '2228', '2234', '2248', '2249', '2260', '2270', '2272', '2295', '2296', '2297', '2313', '2322', '2335', '2342', '2355', '2361', '2371', '2383', '2389', '2393', '2397', '2400', '2401', '2411', '2416', '2425', '2427', '2432', '2440', '2447', '2448', '2454', '2459', '2474', '2476', '2497', '2525', '2530', '2531', '2536', '2566', '2581', '2585', '2599', '2609', '2635', '2640', '2648', '2658', '2659', '2664', '2665', '2673', '2713', '2716', '2719', '2728', '2733', '2739', '2742', '2762', '2766', '2770', '2772', '2775', '2778', '2780', '2783', '2784', '2787', '2806', '2828', '2830', '2835', '2840', '2844', '2850', '2851', '2863', '2865', '2875', '2881', '2888', '2897', '2901', '2908', '2932', '2946', '2948', '2950', '2951', '2953', '2958', '2965', '2973', '2976', '2981', '2992', '2997', '3007', '3016', '3018', '3021', '3038', '3043', '3046', '3081', '3082', '3086', '3087', '3089', '3100', '3101', '3102', '3103', '3106', '3113', '3116', '3120', '3124', '3136', '3137', '3139', '3140', '3145', '3146', '3148', '3150', '3162', '3167', '3168', '3170', '3172', '3178', '3184', '3185', '3188', '3191', '3198', '3203', '3215', '3224', '3228', '3239', '3240', '3243', '3252', '3255', '3260', '3261', '3267', '3272', '3275', '3279', '3280', '3288', '3291', '3295', '3299', '3306', '3320', '3321', '3324', '3330', '3331', '3335', '3341', '3342', '3344', '3345', '3346', '3351', '3353', '3356', '3360', '3365', '3369', '3378', '3381', '3385', '3391', '3392', '3394', '3399', '3406', '3412', '3417', '3433', '3456', '3514', '3518', '3545', '3576', '3604', '3611', '3633', '3651', '3670', '3674', '3680', '3692', '3707', '3734', '3737', '3758', '3830', '3858', '3873', '3877', '3884', '641', '941', '954', '989', '1001', '1009', '1018', '1036', '1047', '1067', '1127', '1142', '1148', '1169', '1192', '1204', '1215', '1235', '1257', '1273', '1284', '1303', '1309', '1315', '1319', '1324', '1381', '1396', '1413', '1425', '1427', '1451', '1475', '1495', '1508', '1515', '1550', '1576', '1595', '1638', '1647', '1655', '1661', '1682', '1704', '1706', '1715', '1725', '1728', '1732', '1743', '1751', '1766', '1785', '1812', '1841', '1848', '1893', '1942', '1958', '1968', '2019', '2021', '2044', '2258', '2288', '2291', '2305', '2311', '2349', '2496', '2538', '2655', '2715', '2781', '2785', '2795', '3041', '3211', '3730', '3790', '3824', '2092', '1072', '3437', '3980']\n",
            "сообщество 4: ['2', '3', '4', '5', '6', '8', '10', '14', '17', '19', '20', '22', '24', '27', '33', '34', '35', '38', '39', '42', '44', '46', '50', '54', '57', '58', '63', '64', '65', '69', '70', '71', '74', '75', '76', '79', '85', '87', '89', '91', '95', '97', '100', '102', '103', '106', '108', '112', '120', '121', '124', '125', '138', '139', '145', '146', '151', '152', '153', '156', '157', '159', '160', '163', '164', '165', '166', '168', '173', '174', '176', '181', '187', '189', '191', '192', '193', '196', '202', '206', '208', '209', '215', '216', '218', '219', '220', '230', '241', '244', '247', '255', '258', '259', '260', '262', '263', '267', '268', '274', '275', '282', '283', '286', '288', '289', '290', '293', '294', '295', '305', '306', '307', '311', '314', '317', '318', '321', '328', '331', '335', '343', '344', '347', '349', '350', '351', '352', '354', '357', '359', '361', '364', '365', '369', '372', '375', '377', '380', '382', '383', '384', '396', '401', '405', '406', '407', '421', '424', '425', '426', '427', '433', '435', '437', '440', '441', '443', '448', '449', '454', '457', '459', '462', '464', '466', '467', '469', '470', '474', '476', '477', '478', '480', '485', '486', '489', '490', '491', '501', '502', '505', '508', '509', '512', '516', '518', '522', '529', '530', '532', '533', '534', '535', '536', '540', '541', '543', '546', '549', '550', '551', '552', '554', '562', '568', '569', '570', '573', '575', '578', '579', '581', '582', '583', '585', '588', '589', '592', '593', '594', '597', '598', '600', '603', '605', '608', '610', '611', '617', '618', '619', '620', '622', '625', '626', '627', '628', '631', '632', '633', '639', '642', '643', '644', '647', '649', '653', '654', '655', '656', '657', '658', '661', '662', '664', '665', '666', '670', '671', '673', '675', '676', '677', '678', '680', '681', '682', '684', '690', '692', '699', '700', '721', '723', '725', '729', '735', '744', '750', '769', '771', '775', '776', '785', '796', '802', '804', '816', '825', '832', '846', '850', '857', '858', '859', '860', '863', '864', '865', '866', '868', '869', '870', '873', '874', '876', '877', '878', '879', '881', '883', '887', '888', '889', '891', '892', '893', '894', '895', '904', '909', '928', '929', '935', '945', '955', '956', '979', '985', '987', '996', '1007', '1013', '1016', '1022', '1027', '1030', '1031', '1050', '1053', '1057', '1058', '1071', '1087', '1096', '1105', '1111', '1147', '1151', '1154', '1168', '1176', '1193', '1202', '1206', '1224', '1248', '1252', '1262', '1263', '1264', '1297', '1301', '1346', '1353', '1362', '1368', '1386', '1430', '1461', '1486', '1546', '1558', '1579', '1607', '1631', '1640', '1664', '1690', '1693', '1701', '1713', '1759', '1760', '1776', '1777', '1788', '1792', '1840', '1854', '1889', '1896', '1905', '1908', '1924', '1937', '1956', '1967', '2106', '2168', '2178', '2204', '2375', '2382', '2421', '2442', '2457', '2527', '2528', '2541', '2595', '2596', '2621', '2632', '2651', '2691', '2704', '2714', '2722', '2736', '2740', '2752', '2767', '2774', '2776', '2798', '2808', '2838', '2842', '2857', '2860', '2885', '2922', '2952', '2998', '3003', '3006', '3031', '3071', '3125', '3127', '3143', '3147', '3183', '3227', '3230', '3268', '3270', '3271', '3282', '3290', '3305', '3354', '3375', '3407', '3408', '3413', '3432', '3436', '3439', '3441', '3445', '3447', '3453', '3457', '3494', '3513', '3537', '3544', '3565', '3581', '3582', '3588', '3594', '3619', '3637', '3639', '3653', '3673', '3676', '3678', '3688', '3689', '3704', '3727', '3732', '3733', '3748', '3781', '3787', '3795', '3801', '3808', '3812', '3820', '3848', '3849', '3853', '3854', '3856', '3859', '3864', '3865', '3875', '3879', '3887', '3890', '3892', '3893', '3897', '3904', '3905', '3911', '3916', '3919', '3922', '3928', '3935', '3936', '3939', '3942', '3946', '3953', '3954', '3958', '3959', '3963', '3970', '3974', '3977', '3978', '3979', '3983', '3984', '3985', '3989', '3991', '3996', '3999', '4003', '4005', '4006', '4007', '4008', '4010', '4011', '4015', '4016', '4027', '4028', '4032', '4034', '4037', '4038', '11', '12', '15', '16', '18', '28', '32', '36', '37', '43', '47', '49', '52', '60', '61', '68', '77', '78', '81', '84', '86', '90', '96', '110', '111', '114', '117', '126', '129', '131', '135', '140', '147', '150', '154', '155', '162', '167', '179', '182', '183', '190', '195', '198', '201', '205', '207', '210', '228', '229', '233', '234', '235', '237', '240', '243', '245', '250', '253', '256', '264', '269', '270', '273', '278', '279', '287', '292', '296', '298', '300', '301', '309', '316', '319', '327', '330', '333', '336', '337', '338', '340', '341', '356', '371', '385', '386', '390', '393', '399', '411', '429', '453', '472', '521', '528', '547', '564', '571', '577', '586', '587', '612', '613', '623', '624', '652', '660', '663', '667', '672', '691', '702', '707', '710', '716', '736', '740', '743', '749', '751', '753', '759', '778', '786', '788', '789', '790', '794', '801', '811', '821', '822', '841', '851', '852', '855', '867', '871', '880', '884', '885', '899', '910', '911', '918', '1002', '1034', '1119', '1133', '1145', '1157', '1200', '1208', '1240', '1254', '1276', '1383', '1394', '1395', '1403', '1417', '1442', '1498', '1521', '1552', '1581', '1627', '1651', '1654', '1657', '1711', '1755', '1762', '1797', '1834', '1838', '1856', '1890', '1901', '1969', '1996', '2015', '2017', '2051', '2079', '2100', '2167', '2195', '2227', '2230', '2256', '2269', '2380', '2422', '2431', '2441', '2470', '2481', '2483', '2505', '2548', '2565', '2569', '2634', '2671', '2692', '2721', '2788', '2792', '2814', '2817', '2824', '2855', '2975', '3037', '3121', '3134', '3197', '3372', '3429', '3444', '3446', '3451', '3467', '3477', '3531', '3560', '3570', '3575', '3585', '3589', '3597', '3606', '3650', '3669', '3686', '3694', '3699', '3700', '3709', '3724', '3729', '3742', '3745', '3746', '3749', '3751', '3771', '3784', '3789', '3798', '3807', '3811', '3814', '3816', '3834', '3844', '3846', '3876', '3882', '3885', '3899', '3910', '3923', '3925', '3932', '3941', '3949', '3955', '3961', '3965', '3973', '3981', '3992', '4001', '4012', '4022', '4024', '4029', '4033', '4035', '4036', '29', '51', '83', '217', '222', '379', '381', '410', '442', '468', '498', '499', '572', '574', '576', '584', '595', '599', '615', '616', '621', '635', '636', '640', '648', '650', '659', '679', '685', '689', '704', '711', '717', '756', '757', '791', '798', '813', '826', '854', '861', '872', '882', '886', '890', '923', '937', '974', '1038', '1046', '1065', '1103', '1194', '1233', '1253', '1270', '1295', '1326', '1455', '1466', '1474', '1506', '1560', '1586', '1855', '2263', '2437', '3502', '3691', '3716', '3717', '3813', '3898', '3952', '3987', '3990', '4025', '148', '3744', '812', '3765', '358', '447', '602', '607', '638', '668', '674', '875']\n",
            "сообщество 5: ['7', '9', '13', '25', '26', '31', '40', '41', '55', '67', '72', '73', '82', '92', '93', '98', '101', '105', '109', '113', '115', '118', '119', '123', '127', '130', '132', '134', '137', '141', '143', '158', '161', '169', '170', '171', '172', '175', '180', '184', '185', '188', '197', '199', '200', '204', '211', '212', '214', '221', '224', '225', '226', '232', '238', '242', '248', '249', '254', '261', '265', '266', '271', '276', '277', '280', '281', '284', '285', '291', '297', '299', '308', '312', '313', '320', '323', '324', '325', '326', '329', '332', '339', '342', '346', '348', '355', '363', '366', '367', '368', '374', '376', '378', '387', '388', '391', '394', '395', '397', '398', '400', '402', '403', '404', '408', '409', '413', '414', '415', '418', '419', '420', '422', '428', '430', '431', '432', '434', '436', '438', '439', '444', '445', '450', '451', '452', '455', '456', '458', '460', '465', '471', '475', '479', '481', '482', '483', '484', '487', '488', '493', '494', '495', '496', '500', '504', '506', '507', '510', '511', '513', '514', '515', '517', '519', '520', '523', '525', '531', '538', '539', '544', '545', '556', '557', '558', '559', '561', '563', '596', '604', '609', '614', '630', '634', '637', '645', '646', '669', '683', '687', '688', '694', '695', '696', '698', '701', '706', '708', '712', '715', '722', '724', '726', '727', '730', '731', '738', '747', '748', '752', '760', '761', '762', '763', '766', '767', '773', '774', '777', '797', '803', '806', '810', '818', '829', '831', '833', '834', '839', '840', '847', '849', '856', '862', '898', '900', '901', '905', '912', '914', '926', '931', '939', '940', '943', '950', '951', '961', '970', '973', '976', '986', '990', '998', '1005', '1008', '1025', '1033', '1045', '1061', '1064', '1073', '1077', '1084', '1085', '1088', '1089', '1090', '1093', '1095', '1098', '1138', '1143', '1144', '1171', '1177', '1178', '1186', '1203', '1213', '1218', '1239', '1244', '1249', '1251', '1294', '1313', '1317', '1325', '1328', '1354', '1356', '1363', '1387', '1401', '1422', '1443', '1481', '1490', '1499', '1501', '1512', '1527', '1544', '1562', '1564', '1599', '1602', '1641', '1660', '1670', '1673', '1676', '1679', '1696', '1708', '1719', '1726', '1731', '1747', '1748', '1756', '1764', '1767', '1802', '1814', '1825', '1829', '1830', '1847', '1850', '1860', '1866', '1870', '1874', '1880', '1883', '1887', '1892', '1895', '1904', '1906', '1907', '1910', '1915', '1922', '1933', '1934', '1936', '1950', '1977', '1978', '1992', '2041', '2066', '2070', '2076', '2080', '2099', '2105', '2114', '2152', '2162', '2166', '2217', '2238', '2245', '2252', '2265', '2281', '2301', '2316', '2320', '2321', '2357', '2360', '2388', '2402', '2424', '2444', '2452', '2456', '2486', '2493', '2503', '2517', '2523', '2534', '2535', '2545', '2570', '2577', '2580', '2587', '2622', '2628', '2641', '2650', '2677', '2678', '2682', '2685', '2688', '2690', '2696', '2697', '2699', '2700', '2702', '2703', '2707', '2709', '2710', '2723', '2725', '2726', '2744', '2771', '2801', '2802', '2804', '2805', '2816', '2820', '2821', '2822', '2826', '2834', '2848', '2852', '2879', '2883', '2884', '2893', '2895', '2898', '2899', '2902', '2903', '2926', '2941', '2942', '2954', '2957', '2963', '2968', '2972', '2979', '3012', '3015', '3024', '3028', '3030', '3044', '3045', '3050', '3053', '3055', '3058', '3059', '3068', '3069', '3074', '3083', '3093', '3099', '3105', '3128', '3130', '3131', '3141', '3153', '3155', '3156', '3157', '3159', '3161', '3164', '3171', '3173', '3175', '3180', '3189', '3190', '3192', '3194', '3205', '3216', '3217', '3222', '3229', '3246', '3249', '3254', '3269', '3276', '3278', '3281', '3283', '3307', '3308', '3311', '3315', '3317', '3322', '3323', '3325', '3328', '3329', '3333', '3338', '3340', '3343', '3349', '3352', '3357', '3361', '3368', '3370', '3371', '3373', '3376', '3380', '3382', '3383', '3388', '3393', '3398', '3401', '3404', '3405', '3410', '3420', '3424', '3427', '3428', '3430', '3440', '3442', '3443', '3452', '3454', '3461', '3463', '3469', '3476', '3478', '3480', '3482', '3484', '3485', '3486', '3487', '3489', '3492', '3496', '3497', '3499', '3503', '3504', '3505', '3507', '3508', '3509', '3510', '3511', '3512', '3515', '3516', '3517', '3519', '3520', '3526', '3529', '3530', '3533', '3536', '3539', '3543', '3546', '3547', '3548', '3550', '3551', '3552', '3553', '3554', '3555', '3556', '3558', '3561', '3566', '3567', '3571', '3572', '3579', '3583', '3584', '3590', '3593', '3595', '3598', '3603', '3607', '3608', '3610', '3615', '3618', '3620', '3621', '3622', '3626', '3627', '3632', '3634', '3638', '3642', '3643', '3644', '3648', '3652', '3658', '3661', '3663', '3664', '3665', '3671', '3679', '3681', '3683', '3690', '3697', '3698', '3701', '3703', '3705', '3712', '3713', '3718', '3720', '3722', '3723', '3736', '3738', '3739', '3740', '3741', '3747', '3752', '3754', '3757', '3759', '3763', '3764', '3766', '3767', '3768', '3772', '3775', '3776', '3779', '3780', '3782', '3783', '3785', '3786', '3788', '3791', '3794', '3796', '3799', '3802', '3803', '3805', '3806', '3809', '3810', '3817', '3818', '3819', '3821', '3822', '3825', '3826', '3827', '3832', '3833', '3839', '3845', '3852', '3855', '3857', '3862', '3869', '3871', '3872', '3880', '3881', '3888', '3889', '3894', '3895', '3901', '3908', '3909', '3912', '3913', '3914', '3915', '3917', '3918', '3927', '3931', '3933', '3940', '3943', '3944', '3945', '3950', '3956', '3960', '3969', '3982', '3986', '3988', '3993', '3995', '3997', '3998', '4000', '4002', '4004', '4009', '4014', '4017', '4019', '4021', '4023', '4026', '4030', '4031', '1', '21', '23', '30', '45', '48', '53', '56', '59', '62', '66', '80', '88', '94', '99', '104', '116', '122', '128', '133', '142', '144', '149', '177', '178', '186', '194', '203', '213', '223', '227', '231', '236', '239', '246', '251', '252', '257', '272', '302', '303', '304', '310', '315', '322', '334', '345', '353', '360', '362', '370', '373', '392', '412', '416', '417', '423', '446', '461', '463', '473', '492', '497', '503', '524', '527', '537', '542', '548', '553', '560', '565', '566', '567', '580', '590', '591', '601', '629', '693', '697', '703', '705', '709', '714', '718', '719', '720', '732', '733', '741', '742', '754', '755', '758', '764', '765', '768', '779', '781', '782', '783', '787', '792', '793', '805', '809', '814', '817', '824', '828', '835', '836', '837', '838', '842', '843', '844', '848', '853', '907', '908', '920', '972', '991', '1023', '1043', '1055', '1140', '1150', '1174', '1197', '1212', '1234', '1266', '1268', '1342', '1384', '1397', '1400', '1411', '1414', '1434', '1445', '1463', '1464', '1476', '1477', '1478', '1518', '1526', '1537', '1585', '1592', '1594', '1648', '1697', '1698', '1739', '1790', '1801', '1808', '1817', '1822', '1853', '1865', '1878', '1900', '1930', '1949', '1961', '1974', '2008', '2013', '2014', '2034', '2082', '2094', '2113', '2119', '2120', '2130', '2158', '2175', '2181', '2182', '2193', '2205', '2219', '2251', '2277', '2358', '2373', '2405', '2450', '2453', '2455', '2490', '2513', '2514', '2515', '2524', '2558', '2562', '2584', '2614', '2618', '2644', '2656', '2660', '2667', '2668', '2670', '2686', '2695', '2727', '2732', '2746', '2747', '2760', '2790', '2791', '2799', '2803', '2811', '2818', '2831', '2847', '2861', '2876', '2882', '2886', '2889', '2900', '2923', '2930', '2947', '2961', '2962', '2971', '2980', '2982', '2990', '3008', '3009', '3048', '3067', '3088', '3091', '3094', '3109', '3112', '3122', '3126', '3133', '3138', '3144', '3151', '3165', '3181', '3200', '3202', '3208', '3209', '3210', '3218', '3235', '3241', '3242', '3244', '3245', '3251', '3266', '3292', '3309', '3310', '3312', '3318', '3326', '3334', '3336', '3358', '3367', '3374', '3379', '3389', '3402', '3409', '3414', '3415', '3418', '3421', '3422', '3423', '3425', '3431', '3438', '3450', '3455', '3458', '3459', '3460', '3462', '3464', '3465', '3466', '3468', '3470', '3471', '3472', '3473', '3474', '3483', '3490', '3493', '3500', '3506', '3522', '3524', '3532', '3534', '3535', '3538', '3541', '3549', '3564', '3568', '3569', '3574', '3578', '3580', '3587', '3591', '3592', '3599', '3600', '3601', '3602', '3612', '3614', '3616', '3617', '3623', '3624', '3628', '3629', '3630', '3631', '3636', '3641', '3645', '3646', '3647', '3649', '3654', '3655', '3657', '3659', '3660', '3662', '3666', '3668', '3675', '3682', '3695', '3696', '3706', '3708', '3710', '3711', '3714', '3715', '3719', '3725', '3726', '3728', '3735', '3743', '3753', '3755', '3760', '3761', '3762', '3769', '3770', '3773', '3774', '3777', '3792', '3793', '3815', '3823', '3829', '3835', '3836', '3837', '3840', '3843', '3847', '3850', '3861', '3863', '3866', '3867', '3868', '3870', '3874', '3878', '3896', '3900', '3903', '3906', '3907', '3920', '3921', '3924', '3929', '3937', '3947', '3951', '3957', '3964', '3967', '3971', '3972', '3975', '3976', '3994', '4013', '4018', '4020', '555', '713', '728', '737', '739', '745', '746', '770', '772', '780', '795', '799', '800', '807', '808', '815', '819', '820', '823', '827', '845', '919', '933', '965', '1000', '1094', '1134', '1162', '1220', '1228', '1372', '1441', '1489', '1492', '1510', '1749', '1775', '1869', '1875', '2255', '2262', '2439', '2466', '2487', '2735', '2856', '2878', '2959', '3110', '3314', '3359', '3479', '3481', '3498', '3523', '3562', '3613', '3685', '3778', '3883', '3934', '734', '830', '2687', '784', '686']\n",
            "сообщество 1: ['934', '952', '960', '966', '978', '980', '997', '1003', '1006', '1026', '1029', '1048', '1049', '1059', '1074', '1075', '1078', '1083', '1086', '1107', '1110', '1112', '1123', '1126', '1128', '1132', '1135', '1146', '1153', '1160', '1163', '1172', '1175', '1184', '1185', '1195', '1199', '1205', '1207', '1209', '1219', '1222', '1230', '1238', '1242', '1250', '1256', '1267', '1269', '1272', '1280', '1288', '1291', '2150', '2164', '2188', '2200', '2201', '2206', '2210', '2212', '2213', '2216', '2218', '2229', '2266', '2271', '2275', '2300', '2307', '2308', '2327', '2328', '2329', '2332', '2334', '2336', '2338', '2347', '2351', '2353', '2356', '2363', '2370', '2372', '2381', '2386', '2556', '2575', '2593', '2602', '2611', '2615', '2619', '2630', '2631', '2638', '925', '946', '947', '953', '967', '993', '1004', '1017', '1024', '1028', '1040', '1076', '1079', '1092', '1101', '1117', '1124', '1125', '1130', '1149', '1173', '1181', '1182', '1191', '1198', '1201', '1211', '1214', '1243', '1255', '1271', '1289', '1290', '2142', '2154', '2184', '2233', '2237', '2244', '2257', '2261', '2278', '2287', '2290', '2306', '2309', '2319', '2323', '2326', '2331', '2333', '2343', '2344', '2348', '2352', '2354', '2369', '2384', '2553', '2560', '2563', '2573', '2574', '2579', '2586', '2601', '2604', '2607', '2624', '2625', '2646', '999', '1156', '1285', '2165', '2172', '2179', '2190', '2220', '2240', '2253', '2276', '2299', '2324', '2339', '2340', '2359', '2374', '2376', '2559', '2561', '2564', '2578', '2590', '2591', '2600', '2606', '2623']\n",
            "сообщество 3: ['1041', '1051', '1052', '1054', '1070', '1109', '1131', '1159', '1167', '1183', '1189', '1217', '1221', '1225', '1236', '1246', '1258', '1259', '1260', '1275', '1293', '1298', '1302', '1305', '1323', '1334', '1338', '1340', '1341', '1344', '1347', '1348', '1351', '1352', '1355', '1359', '1361', '1366', '1367', '1369', '1375', '1377', '1388', '1389', '1390', '1391', '1393', '1399', '1409', '1416', '1420', '1431', '1435', '1449', '1456', '1467', '1469', '1470', '1471', '1472', '1480', '1482', '1491', '1496', '1504', '1507', '1516', '1520', '1525', '1528', '1529', '1535', '1536', '1538', '1539', '1541', '1542', '1547', '1554', '1557', '1569', '1570', '1571', '1572', '1577', '1584', '1600', '1603', '1604', '1608', '1609', '1610', '1611', '1620', '1621', '1622', '1624', '1630', '1632', '1634', '1639', '1652', '1653', '1663', '1668', '1669', '1675', '1683', '1685', '1688', '1689', '1699', '1703', '1709', '1714', '1718', '1721', '1730', '1734', '1737', '1746', '1757', '1761', '1765', '1770', '1782', '1783', '1789', '1795', '1796', '1800', '1804', '1807', '1809', '1810', '1811', '1813', '1816', '1819', '1823', '1826', '1833', '1842', '1845', '1861', '1864', '1867', '1868', '1877', '1888', '1917', '1932', '1939', '1941', '1943', '1946', '1947', '1948', '1953', '1955', '1959', '1962', '1964', '1966', '1979', '1983', '1984', '1986', '1989', '1994', '2002', '2007', '2026', '2028', '2031', '2032', '2037', '2038', '2040', '2042', '2045', '2047', '2052', '2053', '2054', '2055', '2057', '2058', '2059', '2060', '2062', '2064', '2069', '2071', '2072', '2077', '2078', '2083', '2084', '2090', '2093', '2101', '2102', '2104', '2108', '2109', '2112', '2115', '2118', '2122', '2123', '2125', '2128', '2131', '2132', '2135', '2136', '2138', '2143', '2148', '2151', '2161', '2169', '2174', '2183', '2187', '2191', '2194', '2196', '2203', '2215', '2221', '2222', '2223', '2224', '2226', '2232', '2235', '2239', '2243', '2250', '2267', '2273', '2279', '2280', '2283', '2293', '2294', '2315', '2325', '2330', '2345', '2368', '2385', '2390', '2391', '2392', '2394', '2399', '2404', '2414', '2418', '2420', '2429', '2436', '2438', '2451', '2458', '2468', '2469', '2471', '2473', '2477', '2479', '2498', '2499', '2501', '2502', '2504', '2509', '2512', '2516', '2518', '2539', '2542', '2543', '2550', '2551', '2555', '2588', '2592', '2594', '2597', '2598', '2603', '2616', '2676', '2683', '2698', '2729', '2738', '2741', '2743', '2750', '2754', '2755', '2756', '2757', '2763', '2773', '2782', '2800', '2810', '2815', '2839', '2866', '2867', '2872', '2873', '2874', '2880', '2887', '2905', '2906', '2915', '2927', '2929', '2943', '2944', '2945', '2956', '2966', '2969', '2974', '2988', '2993', '2994', '3000', '3022', '3025', '3026', '3029', '3033', '3036', '3040', '3047', '3052', '3056', '3065', '3078', '3084', '3085', '3090', '3096', '3098', '3104', '3108', '3142', '3149', '3174', '3226', '3232', '3257', '3284', '3293', '3339', '3348', '3362', '3387', '1312', '1329', '1330', '1331', '1335', '1336', '1339', '1370', '1376', '1380', '1402', '1447', '1457', '1483', '1488', '1509', '1522', '1523', '1524', '1530', '1540', '1551', '1559', '1563', '1580', '1589', '1590', '1597', '1598', '1605', '1612', '1613', '1614', '1617', '1619', '1623', '1637', '1643', '1644', '1659', '1662', '1665', '1707', '1712', '1717', '1723', '1724', '1735', '1736', '1750', '1752', '1753', '1754', '1768', '1772', '1791', '1793', '1799', '1827', '1835', '1839', '1849', '1879', '1886', '1916', '1918', '1920', '1925', '1926', '1938', '1940', '1945', '1954', '1963', '1970', '1981', '2003', '2005', '2010', '2033', '2039', '2043', '2056', '2063', '2068', '2073', '2074', '2075', '2081', '2086', '2087', '2088', '2098', '2103', '2110', '2111', '2117', '2121', '2124', '2127', '2133', '2134', '2137', '2139', '2140', '2144', '2149', '2153', '2155', '2180', '2189', '2198', '2199', '2241', '2246', '2247', '2254', '2259', '2268', '2282', '2289', '2292', '2302', '2304', '2377', '2387', '2395', '2396', '2407', '2409', '2410', '2415', '2417', '2419', '2428', '2434', '2445', '2446', '2460', '2461', '2463', '2464', '2465', '2472', '2475', '2491', '2500', '2506', '2507', '2508', '2510', '2511', '2519', '2520', '2521', '2526', '2529', '2532', '2533', '2537', '2549', '2567', '2582', '2589', '2608', '2617', '2629', '2679', '2717', '2749', '2777', '2786', '2827', '2862', '2864', '2877', '2890', '2909', '2910', '2911', '2912', '2913', '2916', '2919', '2920', '2925', '2928', '2931', '2940', '2960', '2985', '2986', '3004', '3014', '3054', '3064', '3073', '3114', '3117', '3195', '1287', '1741', '1929', '1971', '1985', '1993', '1997', '2020', '2030', '2046', '2095', '2176', '2264', '2285', '2408', '2423', '2430', '2433', '2462', '2467', '2478', '2482', '2484', '2485', '2489', '2492', '2495', '2546', '2547', '2552', '2554', '3119', '2398', '1912']\n"
          ]
        }
      ]
    },
    {
      "cell_type": "markdown",
      "source": [
        "### Проведение экспериментов"
      ],
      "metadata": {
        "id": "rUF3MuR1e9Tg"
      }
    },
    {
      "cell_type": "code",
      "source": [
        "from sklearn.metrics import silhouette_score"
      ],
      "metadata": {
        "id": "kYyGlF_DMuWG"
      },
      "execution_count": null,
      "outputs": []
    },
    {
      "cell_type": "code",
      "source": [
        "# выполнение экспериментов на графе\n",
        "def run_experiment(graph, num_communities):\n",
        "    # KMeans\n",
        "    kmeans_communities = kmeans_community_detection(graph, num_communities)\n",
        "    kmeans_performance = evaluate_communities(graph, kmeans_communities)\n",
        "    # Spectral Clustering\n",
        "    spectral_communities = spectral_clustering_community_detection(graph, num_communities)\n",
        "    spectral_performance = evaluate_communities(graph, spectral_communities)\n",
        "    # Random Walk\n",
        "    random_walk_communities = random_walk_community_detection(graph, num_communities)\n",
        "    random_walk_performance = evaluate_communities(graph, random_walk_communities)\n",
        "    # Node2Vec\n",
        "    node2vec_communities = node2vec_community_detection(graph, num_communities)\n",
        "    node2vec_performance = evaluate_communities(graph, node2vec_communities)\n",
        "    # GraphSAGE\n",
        "    graphsage_communities = graphsage_community_detection(graph, num_communities)\n",
        "    graphsage_performance = evaluate_communities(graph, graphsage_communities)\n",
        "    return {\n",
        "        \"KMeans\": kmeans_performance,\n",
        "        \"Spectral Clustering\": spectral_performance,\n",
        "        \"Random Walk\": random_walk_performance,\n",
        "        \"Node2Vec\": node2vec_performance,\n",
        "        \"GraphSAGE\": graphsage_performance\n",
        "    }"
      ],
      "metadata": {
        "id": "OikFsFt4sdc5"
      },
      "execution_count": null,
      "outputs": []
    },
    {
      "cell_type": "code",
      "source": [
        "# оценка эффективности и интерпретируемости сообществ\n",
        "def evaluate_communities(graph, communities):\n",
        "    # получаем общее количество вершин в графе\n",
        "    num_nodes_graph = len(graph.nodes())\n",
        "    # собираем все узлы в сообщества\n",
        "    all_nodes = []\n",
        "    all_labels = []\n",
        "    for label, nodes in communities.items():\n",
        "        all_nodes.extend(nodes)\n",
        "        all_labels.extend([label] * len(nodes))\n",
        "    # заполняем отсутствующие узлы меткой по умолчанию\n",
        "    missing_nodes = set(graph.nodes()) - set(all_nodes)\n",
        "    default_label = len(communities)\n",
        "    all_labels.extend([default_label] * len(missing_nodes))\n",
        "    # обеспечиваем согласованность между метками и узлами\n",
        "    assert len(all_labels) == num_nodes_graph, \"кол-во узлов не = кол-во меток\"\n",
        "    # вычисляем индекс силуэта\n",
        "    silhouette = silhouette_score(nx.to_numpy_array(graph), all_labels)\n",
        "    # оцениваем интерпретируемость\n",
        "    # средний размер сообщества\n",
        "    average_community_size = sum(len(community) for community in communities.values()) / len(communities)\n",
        "\n",
        "    return {\n",
        "        \"Silhouette\": silhouette,\n",
        "        \"Interpretability\": average_community_size\n",
        "    }"
      ],
      "metadata": {
        "id": "-LZOEtht-x9y"
      },
      "execution_count": null,
      "outputs": []
    },
    {
      "cell_type": "code",
      "source": [
        "# вывод результатов эксперимента\n",
        "def print_results(results):\n",
        "    for method, performance in results.items():\n",
        "        print(f\"Method: {method}\")\n",
        "        print(f\"Silhouette Score: {performance['Silhouette']}\")\n",
        "        print(f\"Average Community Size: {performance['Interpretability']}\")\n",
        "        print()"
      ],
      "metadata": {
        "id": "nJyvvmHw-0MW"
      },
      "execution_count": null,
      "outputs": []
    },
    {
      "cell_type": "code",
      "source": [
        "# подготовка данных\n",
        "num_communities = 5\n",
        "\n",
        "# запуск экспериментов для графа G_facebook\n",
        "facebook_results = run_experiment(G_facebook, num_communities)\n",
        "\n",
        "# вывод результатов экспериментов\n",
        "print(\"Results for Facebook dataset:\")\n",
        "print_results(facebook_results)"
      ],
      "metadata": {
        "colab": {
          "base_uri": "https://localhost:8080/",
          "height": 587,
          "referenced_widgets": [
            "7631a01d51134f5eab0d4b6142233d31",
            "1096b511cce84048a15dd7a8915a0da2",
            "4295b4e559f1446985f750e166c930c3",
            "82d8ed97f2a84d6b871938c2b5ad5957",
            "57b2f48a9a75423985a029485c9dc4ec",
            "f3dccaafe4c84cf7a44db55ce2ad0774",
            "403a51e311d046f8be8beeae50d5da2b",
            "251f448917734bcf8bd3433c3e32b8b4",
            "b27d2ffa942e4c949944cd20b948372e",
            "793c52fcb5b348369491da2ba30d2d7b",
            "4fbd0ecc4aaa4bf1aa874404b589c116"
          ]
        },
        "id": "02tcgYZyMqMG",
        "outputId": "23738cc4-adc7-4002-8343-879777ecceff"
      },
      "execution_count": null,
      "outputs": [
        {
          "output_type": "stream",
          "name": "stderr",
          "text": [
            "/usr/local/lib/python3.10/dist-packages/sklearn/cluster/_kmeans.py:870: FutureWarning: The default value of `n_init` will change from 10 to 'auto' in 1.4. Set the value of `n_init` explicitly to suppress the warning\n",
            "  warnings.warn(\n",
            "/usr/local/lib/python3.10/dist-packages/sklearn/cluster/_spectral.py:717: UserWarning: The spectral clustering API has changed. ``fit``now constructs an affinity matrix from data. To use a custom affinity matrix, set ``affinity=precomputed``.\n",
            "  warnings.warn(\n",
            "/usr/local/lib/python3.10/dist-packages/sklearn/manifold/_spectral_embedding.py:274: UserWarning: Graph is not fully connected, spectral embedding may not work as expected.\n",
            "  warnings.warn(\n"
          ]
        },
        {
          "output_type": "display_data",
          "data": {
            "text/plain": [
              "Computing transition probabilities:   0%|          | 0/4039 [00:00<?, ?it/s]"
            ],
            "application/vnd.jupyter.widget-view+json": {
              "version_major": 2,
              "version_minor": 0,
              "model_id": "7631a01d51134f5eab0d4b6142233d31"
            }
          },
          "metadata": {}
        },
        {
          "output_type": "stream",
          "name": "stderr",
          "text": [
            "/usr/local/lib/python3.10/dist-packages/sklearn/cluster/_kmeans.py:870: FutureWarning: The default value of `n_init` will change from 10 to 'auto' in 1.4. Set the value of `n_init` explicitly to suppress the warning\n",
            "  warnings.warn(\n",
            "/usr/local/lib/python3.10/dist-packages/sklearn/cluster/_kmeans.py:870: FutureWarning: The default value of `n_init` will change from 10 to 'auto' in 1.4. Set the value of `n_init` explicitly to suppress the warning\n",
            "  warnings.warn(\n"
          ]
        },
        {
          "output_type": "stream",
          "name": "stdout",
          "text": [
            "Results for Facebook dataset:\n",
            "Method: KMeans\n",
            "Silhouette Score: -0.09883511856566277\n",
            "Average Community Size: 807.8\n",
            "\n",
            "Method: Spectral Clustering\n",
            "Silhouette Score: -0.1504888468368776\n",
            "Average Community Size: 807.8\n",
            "\n",
            "Method: Random Walk\n",
            "Silhouette Score: -0.06592160680111325\n",
            "Average Community Size: 807.8\n",
            "\n",
            "Method: Node2Vec\n",
            "Silhouette Score: -0.07574242667499384\n",
            "Average Community Size: 807.8\n",
            "\n",
            "Method: GraphSAGE\n",
            "Silhouette Score: -0.06132640387102475\n",
            "Average Community Size: 807.8\n",
            "\n"
          ]
        }
      ]
    },
    {
      "cell_type": "code",
      "source": [
        "# запуск экспериментов для графа G_googleplus\n",
        "googleplus_results = run_experiment(G_googleplus, num_communities)\n",
        "\n",
        "# вывод результатов экспериментов\n",
        "print(\"Results for Google Plus dataset:\")\n",
        "print_results(googleplus_results)"
      ],
      "metadata": {
        "colab": {
          "base_uri": "https://localhost:8080/",
          "height": 587,
          "referenced_widgets": [
            "77902086db6f4f9785d5f3c0e9e0fa8d",
            "02851d1722cb40e09257b64baa105627",
            "d68a3f7f00734548b428c6a3ad87d21c",
            "0e0f6f97dbba4de7940b06c43dab0bc9",
            "e925144be2374a7b93a8d8fb905e5dde",
            "d9419900d21a4712ae26e283e563c39a",
            "f1526929dc8b41eda45a56f4a05b11ad",
            "7fc86ce0a25f40d290f8fa4285a23749",
            "2a22c685198445cf9f998a37cc05ebaf",
            "e6a4fd0f91794f3a9581caaf0e3221d6",
            "b5d23db29ba2448b9faa0c84b1433ea8"
          ]
        },
        "id": "HH6qomvO_s9a",
        "outputId": "e5daa71b-dc1a-48b1-d46e-778bc8573bf3"
      },
      "execution_count": null,
      "outputs": [
        {
          "output_type": "stream",
          "name": "stderr",
          "text": [
            "/usr/local/lib/python3.10/dist-packages/sklearn/cluster/_kmeans.py:870: FutureWarning: The default value of `n_init` will change from 10 to 'auto' in 1.4. Set the value of `n_init` explicitly to suppress the warning\n",
            "  warnings.warn(\n",
            "/usr/local/lib/python3.10/dist-packages/sklearn/cluster/_spectral.py:717: UserWarning: The spectral clustering API has changed. ``fit``now constructs an affinity matrix from data. To use a custom affinity matrix, set ``affinity=precomputed``.\n",
            "  warnings.warn(\n",
            "/usr/local/lib/python3.10/dist-packages/sklearn/manifold/_spectral_embedding.py:274: UserWarning: Graph is not fully connected, spectral embedding may not work as expected.\n",
            "  warnings.warn(\n"
          ]
        },
        {
          "output_type": "display_data",
          "data": {
            "text/plain": [
              "Computing transition probabilities:   0%|          | 0/7805 [00:00<?, ?it/s]"
            ],
            "application/vnd.jupyter.widget-view+json": {
              "version_major": 2,
              "version_minor": 0,
              "model_id": "77902086db6f4f9785d5f3c0e9e0fa8d"
            }
          },
          "metadata": {}
        },
        {
          "output_type": "stream",
          "name": "stderr",
          "text": [
            "/usr/local/lib/python3.10/dist-packages/sklearn/cluster/_kmeans.py:870: FutureWarning: The default value of `n_init` will change from 10 to 'auto' in 1.4. Set the value of `n_init` explicitly to suppress the warning\n",
            "  warnings.warn(\n",
            "/usr/local/lib/python3.10/dist-packages/sklearn/cluster/_kmeans.py:870: FutureWarning: The default value of `n_init` will change from 10 to 'auto' in 1.4. Set the value of `n_init` explicitly to suppress the warning\n",
            "  warnings.warn(\n"
          ]
        },
        {
          "output_type": "stream",
          "name": "stdout",
          "text": [
            "Results for Google Plus dataset:\n",
            "Method: KMeans\n",
            "Silhouette Score: -0.20767496250477707\n",
            "Average Community Size: 1561.0\n",
            "\n",
            "Method: Spectral Clustering\n",
            "Silhouette Score: -0.3265362907820944\n",
            "Average Community Size: 1561.0\n",
            "\n",
            "Method: Random Walk\n",
            "Silhouette Score: -0.11460348703954983\n",
            "Average Community Size: 1561.0\n",
            "\n",
            "Method: Node2Vec\n",
            "Silhouette Score: -0.028901735140876572\n",
            "Average Community Size: 1561.0\n",
            "\n",
            "Method: GraphSAGE\n",
            "Silhouette Score: -0.23439433655236386\n",
            "Average Community Size: 1553.6\n",
            "\n"
          ]
        }
      ]
    },
    {
      "cell_type": "code",
      "source": [
        "# запуск экспериментов для графа G_twitter\n",
        "twitter_results = run_experiment(G_twitter, num_communities)\n",
        "\n",
        "# вывод результатов экспериментов\n",
        "print(\"Results for Twitter dataset:\")\n",
        "print_results(twitter_results)"
      ],
      "metadata": {
        "colab": {
          "base_uri": "https://localhost:8080/",
          "height": 552,
          "referenced_widgets": [
            "4bbf335d1003473794232286cca3e649",
            "f754df96eb4c42ec8f7c4d8e51d3def4",
            "1782670bdb5442e491c5c0d3154f7977",
            "c7d46ce887294a4fa6662a9be740d76f",
            "29df2850aa54480192c9fa3b9a029597",
            "65c478cc17384be9b0cb50014aec149d",
            "ee6f3a9c87354d88b4d347a22c7c574e",
            "c9be0590a83548f3b0e5334a42b1fdc2",
            "a2e493a0f0a6491b8a9cf0eeb4ae89d1",
            "39a9db5ccf9d4fbba9a176c65fc343df",
            "42c4df80710b432d84881b129f14002e"
          ]
        },
        "id": "2kX9skiH_uhq",
        "outputId": "1a634b9f-aeec-475c-e685-b7b4ea650c66"
      },
      "execution_count": null,
      "outputs": [
        {
          "output_type": "stream",
          "name": "stderr",
          "text": [
            "/usr/local/lib/python3.10/dist-packages/sklearn/cluster/_kmeans.py:870: FutureWarning: The default value of `n_init` will change from 10 to 'auto' in 1.4. Set the value of `n_init` explicitly to suppress the warning\n",
            "  warnings.warn(\n",
            "/usr/local/lib/python3.10/dist-packages/sklearn/cluster/_spectral.py:717: UserWarning: The spectral clustering API has changed. ``fit``now constructs an affinity matrix from data. To use a custom affinity matrix, set ``affinity=precomputed``.\n",
            "  warnings.warn(\n"
          ]
        },
        {
          "output_type": "display_data",
          "data": {
            "text/plain": [
              "Computing transition probabilities:   0%|          | 0/2455 [00:00<?, ?it/s]"
            ],
            "application/vnd.jupyter.widget-view+json": {
              "version_major": 2,
              "version_minor": 0,
              "model_id": "4bbf335d1003473794232286cca3e649"
            }
          },
          "metadata": {}
        },
        {
          "output_type": "stream",
          "name": "stderr",
          "text": [
            "/usr/local/lib/python3.10/dist-packages/sklearn/cluster/_kmeans.py:870: FutureWarning: The default value of `n_init` will change from 10 to 'auto' in 1.4. Set the value of `n_init` explicitly to suppress the warning\n",
            "  warnings.warn(\n",
            "/usr/local/lib/python3.10/dist-packages/sklearn/cluster/_kmeans.py:870: FutureWarning: The default value of `n_init` will change from 10 to 'auto' in 1.4. Set the value of `n_init` explicitly to suppress the warning\n",
            "  warnings.warn(\n"
          ]
        },
        {
          "output_type": "stream",
          "name": "stdout",
          "text": [
            "Results for Twitter dataset:\n",
            "Method: KMeans\n",
            "Silhouette Score: -0.10661740506863611\n",
            "Average Community Size: 491.0\n",
            "\n",
            "Method: Spectral Clustering\n",
            "Silhouette Score: -0.2732650276380718\n",
            "Average Community Size: 491.0\n",
            "\n",
            "Method: Random Walk\n",
            "Silhouette Score: -0.049165877252855865\n",
            "Average Community Size: 491.0\n",
            "\n",
            "Method: Node2Vec\n",
            "Silhouette Score: -0.08803986470335184\n",
            "Average Community Size: 491.0\n",
            "\n",
            "Method: GraphSAGE\n",
            "Silhouette Score: -0.24776739812334989\n",
            "Average Community Size: 480.6\n",
            "\n"
          ]
        }
      ]
    },
    {
      "cell_type": "markdown",
      "source": [
        "### Анализ и оценка результатов экспериментов"
      ],
      "metadata": {
        "id": "dcRgsu0QnYcx"
      }
    },
    {
      "cell_type": "markdown",
      "source": [
        "Из результатов экспериментов видно, что каждый метод выделения сообществ имеет свои преимущества и недостатки:\n",
        "\n",
        "1) **KMeans**:\n",
        "   - **Facebook dataset**: Silhouette Score: -0.0988, Average Community Size: 807.8\n",
        "   - **Google Plus dataset**: Silhouette Score: -0.2077, Average Community Size: 1561.0\n",
        "   - **Twitter dataset**: Silhouette Score: -0.1066, Average Community Size: 491.0\n",
        "   - **Выводы**: KMeans показывает средние результаты по силуэтному коэффициенту. Размеры сообществ сильно различаются в зависимости от датасета.\n",
        "\n",
        "2) **Spectral Clustering**:\n",
        "   - **Facebook dataset**: Silhouette Score: -0.1505, Average Community Size: 807.8\n",
        "   - **Google Plus dataset**: Silhouette Score: -0.3265, Average Community Size: 1561.0\n",
        "   - **Twitter dataset**: Silhouette Score: -0.2733, Average Community Size: 491.0\n",
        "   - **Выводы**: Spectral Clustering показывает лучшие результаты по силуэтному коэффициенту, но также имеет большие размеры сообществ.\n",
        "\n",
        "3) **Random Walk**:\n",
        "   - **Facebook dataset**: Silhouette Score: -0.0659, Average Community Size: 807.8\n",
        "   - **Google Plus dataset**: Silhouette Score: -0.1146, Average Community Size: 1561.0\n",
        "   - **Twitter dataset**: Silhouette Score: -0.0492, Average Community Size: 491.0\n",
        "   - **Выводы**: Random Walk обеспечивает средние результаты по силуэтному коэффициенту и схожие размеры сообществ.\n",
        "\n",
        "4) **Node2Vec**:\n",
        "   - **Facebook dataset**: Silhouette Score: -0.0757, Average Community Size: 807.8\n",
        "   - **Google Plus dataset**: Silhouette Score: -0.0289, Average Community Size: 1561.0\n",
        "   - **Twitter dataset**: Silhouette Score: -0.0880, Average Community Size: 491.0\n",
        "   - **Выводы**: Node2Vec имеет средние значения силуэтного коэффициента, но размеры сообществ более уравновешены.\n",
        "\n",
        "5) **GraphSAGE**:\n",
        "   - **Facebook dataset**: Silhouette Score: -0.0613, Average Community Size: 807.8\n",
        "   - **Google Plus dataset**: Silhouette Score: -0.2344, Average Community Size: 1553.6\n",
        "   - **Twitter dataset**: Silhouette Score: -0.2478, Average Community Size: 480.6\n",
        "   - **Выводы**: GraphSAGE имеет средние результаты по силуэтному коэффициенту, но немного более уравновешенные сообщества.\n",
        "\n",
        "**Выводы**:\n",
        "\n",
        "1. Спектральная кластеризация (Spectral Clustering) демонстрирует лучшие результаты по силуэтному коэффициенту на всех датасетах, но при этом формирует сообщества с более большими размерами. Она подходит для случаев, когда интерпретация кластеров не так важна, как их качество.\n",
        "   \n",
        "2. Node2Vec и GraphSAGE показывают хорошие результаты по силуэтному коэффициенту и формируют более уравновешенные сообщества по сравнению с другими методами. Они могут быть предпочтительными, когда важны как качество, так и интерпретируемость кластеров.\n",
        "\n",
        "3. KMeans и Random Walk обеспечивают средние результаты по силуэтному коэффициенту и формируют сообщества с различными размерами. Они могут быть полезны в случаях, когда нужно быстро получить первичные результаты без слишком больших вычислительных затрат.\n",
        "\n",
        "**Рекомендации**:\n",
        "\n",
        "- Для задач, где важно получить высокое качество кластеризации, но не так важна интерпретируемость кластеров, следует использовать спектральную кластеризацию (Spectral Clustering).\n",
        "  \n",
        "- Если необходимо сбалансировать между качеством и интерпретируемостью кластеров, рекомендуется использовать Node2Vec или GraphSAGE.\n",
        "  \n",
        "- Для быстрой оценки кластеров без больших вычислительных затрат можно применять KMeans или Random Walk."
      ],
      "metadata": {
        "id": "zmo7U-FBuiio"
      }
    },
    {
      "cell_type": "code",
      "source": [],
      "metadata": {
        "id": "nja1M8HMCqqw"
      },
      "execution_count": null,
      "outputs": []
    }
  ]
}